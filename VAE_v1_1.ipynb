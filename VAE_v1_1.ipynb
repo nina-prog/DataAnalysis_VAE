{
  "nbformat": 4,
  "nbformat_minor": 0,
  "metadata": {
    "colab": {
      "name": "VAE_v1_1.ipynb",
      "provenance": [],
      "collapsed_sections": [],
      "include_colab_link": true
    },
    "kernelspec": {
      "name": "python3",
      "display_name": "Python 3"
    },
    "accelerator": "GPU"
  },
  "cells": [
    {
      "cell_type": "markdown",
      "metadata": {
        "id": "view-in-github",
        "colab_type": "text"
      },
      "source": [
        "<a href=\"https://colab.research.google.com/github/nina-prog/DataAnalysis_VAE/blob/main/VAE_v1_1.ipynb\" target=\"_parent\"><img src=\"https://colab.research.google.com/assets/colab-badge.svg\" alt=\"Open In Colab\"/></a>"
      ]
    },
    {
      "cell_type": "code",
      "metadata": {
        "id": "srk9OHyCZDzL"
      },
      "source": [
        "import numpy as np\n",
        "import pandas as pd\n",
        "import tensorflow as tf\n",
        "from tensorflow import keras\n",
        "from tensorflow.keras import layers\n",
        "from keras.layers import Dense\n",
        "from keras.layers import TimeDistributed\n",
        "from keras.utils.vis_utils import plot_model\n",
        "from sklearn.model_selection import train_test_split\n",
        "from sklearn.preprocessing import MinMaxScaler\n",
        "import matplotlib.pyplot as plt\n",
        "import seaborn as sns\n",
        "sns.set()"
      ],
      "execution_count": 52,
      "outputs": []
    },
    {
      "cell_type": "markdown",
      "metadata": {
        "id": "wcUlg_PrMiyC"
      },
      "source": [
        "# Data Preprocessing\n",
        "\n",
        "---\n",
        "\n"
      ]
    },
    {
      "cell_type": "markdown",
      "metadata": {
        "id": "Qk9i4M00iwYs"
      },
      "source": [
        "## Load Data"
      ]
    },
    {
      "cell_type": "code",
      "metadata": {
        "id": "IcrTqGPsZceo"
      },
      "source": [
        "### Load ecg5000 data using read_csv\n",
        "ecg5000 = pd.read_csv('ECG5000_ALL.txt', sep='\\s+', header=None)\n",
        "\n",
        "### Delete label-column first (column 0)\n",
        "ecg5000.drop(ecg5000.columns[[0]], axis=1, inplace=True)"
      ],
      "execution_count": 43,
      "outputs": []
    },
    {
      "cell_type": "code",
      "metadata": {
        "id": "QdbiFe4pZlQv"
      },
      "source": [
        "### Optional test and info about data set\n",
        "print(\"Type of ecg5000: \\t \\t {}\".format(type(ecg5000)))\n",
        "print(\"Dimensions of ecg5000: \\t \\t {}\".format(ecg5000.shape))\n",
        "print(\"Number of elements of ecg5000: \\t {}\".format((ecg5000.size)))\n",
        "print(\"Display first 10 rows of ecg5000: \\n {}\".format(ecg5000.head(10)))"
      ],
      "execution_count": null,
      "outputs": []
    },
    {
      "cell_type": "markdown",
      "metadata": {
        "id": "jOl-yE1aizs4"
      },
      "source": [
        "## Scale Data"
      ]
    },
    {
      "cell_type": "code",
      "metadata": {
        "id": "65mtWXUTZ6gn"
      },
      "source": [
        "### Normalize dataframe with min-max-normalization to range between [-0.8, 0.8]\n",
        "# (1) For any [a, b] normalization use: x = (b-a)((x-min)/(max-min))+ a\n",
        "scaled_ecg5000 = (0.8 + 0.8)*(ecg5000 - ecg5000.min())/(ecg5000.max() - ecg5000.min())-0.8\n",
        "print(normalized_ecg5000)"
      ],
      "execution_count": null,
      "outputs": []
    },
    {
      "cell_type": "code",
      "metadata": {
        "id": "WCvRjcSqjFED"
      },
      "source": [
        "# Or (2) Use sklearn MinMaxScaler\n",
        "min_max_scaler = MinMaxScaler(feature_range=(-0.8,0.8))\n",
        "scaled_ecg5000 = pd.DataFrame(min_max_scaler.fit_transform(ecg5000))\n",
        "print(scaled_ecg5000)"
      ],
      "execution_count": null,
      "outputs": []
    },
    {
      "cell_type": "markdown",
      "metadata": {
        "id": "v1Qxc-o8i2cV"
      },
      "source": [
        "## Split Data"
      ]
    },
    {
      "cell_type": "code",
      "metadata": {
        "colab": {
          "base_uri": "https://localhost:8080/"
        },
        "id": "0FuU0-HYavQx",
        "outputId": "60c1c6e4-f90a-4c0e-cc20-3ae74c11bdc0"
      },
      "source": [
        "### Split Data into 80/20 Training, Test\n",
        "trainDF, testDF = train_test_split(scaled_ecg5000, test_size=0.2)\n",
        "# Optional test and info about new data sets\n",
        "print(\"Shape of Training DataFrame: \\t {}\".format(trainDF.shape))\n",
        "print(\"Shape of Test DataFrame: \\t {}\".format(testDF.shape))"
      ],
      "execution_count": 45,
      "outputs": [
        {
          "output_type": "stream",
          "text": [
            "Shape of Training DataFrame: \t (4000, 140)\n",
            "Shape of Test DataFrame: \t (1000, 140)\n"
          ],
          "name": "stdout"
        }
      ]
    },
    {
      "cell_type": "markdown",
      "metadata": {
        "id": "MqDAiFlPipdc"
      },
      "source": [
        "## Reshape Data"
      ]
    },
    {
      "cell_type": "code",
      "metadata": {
        "id": "Y4VNUVvMiL9a"
      },
      "source": [
        "# (1) 1D Array\n",
        "### Flatten Values to 1D NP Array\n",
        "x_train = trainDF.values.flatten()\n",
        "x_test = testDF.values.flatten()\n",
        "\n",
        "### Reshape input into [samples, timesteps, features]\n",
        "n_train = len(x_train)\n",
        "n_test = len(x_test)\n",
        "x_train = x_train.reshape((1, n_train, 1)) # samples 1+, time steps n_train (4000*140), features 1  \n",
        "x_test = x_test.reshape((1, n_test, 1)) # samples 1+, time steps n_test (1000*140), features 1\n",
        "\n",
        "### Properties\n",
        "print(\"Time steps of reshaped train dataset: {}\".format(n_train))\n",
        "print(\"Time steps of reshaped test dataset: {}\".format(n_test))"
      ],
      "execution_count": null,
      "outputs": []
    },
    {
      "cell_type": "code",
      "metadata": {
        "colab": {
          "base_uri": "https://localhost:8080/"
        },
        "id": "stkCjqkHiHBo",
        "outputId": "0c092d6b-e120-4e76-ea8a-2bcd26aba963"
      },
      "source": [
        "# Or (2) Leave Dataframe Dimesions as they are\n",
        "### Convert to array\n",
        "x_train = trainDF.to_numpy()\n",
        "x_test = testDF.to_numpy()\n",
        "\n",
        "### Reshape input into [samples, timesteps, features]\n",
        "n_train = len(trainDF.index) # time steps\n",
        "n_test = len(testDF.index) # time steps\n",
        "f_train = len(trainDF.columns) # features\n",
        "f_test = len(testDF.columns) # features\n",
        "x_train = x_train.reshape(1, n_train, f_train)\n",
        "x_test = x_test.reshape(1, n_test, f_test)\n",
        "\n",
        "### Properties\n",
        "print(\"Time steps of reshaped train dataset: {}\".format(n_train))\n",
        "print(\"Time steps of reshaped test dataset: {}\".format(n_test))"
      ],
      "execution_count": 77,
      "outputs": [
        {
          "output_type": "stream",
          "text": [
            "Time steps of reshaped train dataset: 4000\n",
            "Time steps of reshaped test dataset: 1000\n"
          ],
          "name": "stdout"
        }
      ]
    },
    {
      "cell_type": "markdown",
      "metadata": {
        "id": "4F9x-KyKM4NJ"
      },
      "source": [
        "# Build Autoencoder (AE)\n",
        "\n",
        "---\n",
        "\n"
      ]
    },
    {
      "cell_type": "code",
      "metadata": {
        "colab": {
          "base_uri": "https://localhost:8080/"
        },
        "id": "7M5gFNnoKcVF",
        "outputId": "f33ef071-34a2-4ba7-b7f5-606a4b9d6ee0"
      },
      "source": [
        "### For better understanding visit: https://towardsdatascience.com/autoencoders-for-the-compression-of-stock-market-data-28e8c1a2da3e\n",
        "### or for code: https://gist.github.com/GerardBCN/40349b39bc45d4550141aff6966d1619#file-stock_price_autoencoding-ipynb\n",
        "### For Reshaping Issues: https://machinelearningmastery.com/reshape-input-data-long-short-term-memory-networks-keras/\n",
        "\n",
        "### fit model\n",
        "encoding_dim = 3\n",
        "epochs = 50\n",
        "\n",
        "### define model\n",
        "inputs = keras.Input(shape=(n_train, f_train), name='Input_layer')\n",
        "encoded = layers.LSTM(encoding_dim, activation='tanh', name='Encode_1')(inputs)\n",
        "decoded = layers.RepeatVector(n_train, name='Bootleneck')(encoded)\n",
        "decoded = layers.LSTM(1, return_sequences=True, activation='tanh', name='Decode_1')(decoded)\n",
        "decoded = TimeDistributed(Dense(140, activation='tanh'),name='Output_Layer')(decoded)\n",
        "\n",
        "sequence_autoencoder = keras.Model(inputs, decoded)\n",
        "encoder = keras.Model(inputs, encoded)\n",
        "\n",
        "sequence_autoencoder.summary()\n",
        "\n",
        "### train AE\n",
        "sequence_autoencoder.compile(optimizer='adam', loss='binary_crossentropy')\n",
        "history = sequence_autoencoder.fit(x_train, x_train,\n",
        "                epochs=epochs,\n",
        "                batch_size=1024,\n",
        "                shuffle=True,\n",
        "                validation_data=(x_train, x_train))\n",
        "\n",
        "### recreation\n"
      ],
      "execution_count": 92,
      "outputs": [
        {
          "output_type": "stream",
          "text": [
            "Model: \"functional_65\"\n",
            "_________________________________________________________________\n",
            "Layer (type)                 Output Shape              Param #   \n",
            "=================================================================\n",
            "Input_layer (InputLayer)     [(None, 4000, 140)]       0         \n",
            "_________________________________________________________________\n",
            "Encode_1 (LSTM)              (None, 3)                 1728      \n",
            "_________________________________________________________________\n",
            "Bootleneck (RepeatVector)    (None, 4000, 3)           0         \n",
            "_________________________________________________________________\n",
            "Decode_1 (LSTM)              (None, 4000, 1)           20        \n",
            "_________________________________________________________________\n",
            "Output_Layer (TimeDistribute (None, 4000, 140)         280       \n",
            "=================================================================\n",
            "Total params: 2,028\n",
            "Trainable params: 2,028\n",
            "Non-trainable params: 0\n",
            "_________________________________________________________________\n",
            "Epoch 1/50\n",
            "1/1 [==============================] - 1s 1s/step - loss: 2.0001 - val_loss: 1.9002\n",
            "Epoch 2/50\n",
            "1/1 [==============================] - 0s 359ms/step - loss: 1.9002 - val_loss: 1.8664\n",
            "Epoch 3/50\n",
            "1/1 [==============================] - 0s 362ms/step - loss: 1.8664 - val_loss: 1.8468\n",
            "Epoch 4/50\n",
            "1/1 [==============================] - 0s 362ms/step - loss: 1.8468 - val_loss: 1.8333\n",
            "Epoch 5/50\n",
            "1/1 [==============================] - 0s 362ms/step - loss: 1.8333 - val_loss: 1.8232\n",
            "Epoch 6/50\n",
            "1/1 [==============================] - 0s 362ms/step - loss: 1.8232 - val_loss: 1.8151\n",
            "Epoch 7/50\n",
            "1/1 [==============================] - 0s 359ms/step - loss: 1.8151 - val_loss: 1.8085\n",
            "Epoch 8/50\n",
            "1/1 [==============================] - 0s 362ms/step - loss: 1.8085 - val_loss: 1.8028\n",
            "Epoch 9/50\n",
            "1/1 [==============================] - 0s 361ms/step - loss: 1.8028 - val_loss: 1.7978\n",
            "Epoch 10/50\n",
            "1/1 [==============================] - 0s 364ms/step - loss: 1.7978 - val_loss: 1.7934\n",
            "Epoch 11/50\n",
            "1/1 [==============================] - 0s 362ms/step - loss: 1.7934 - val_loss: 1.7894\n",
            "Epoch 12/50\n",
            "1/1 [==============================] - 0s 356ms/step - loss: 1.7894 - val_loss: 1.7858\n",
            "Epoch 13/50\n",
            "1/1 [==============================] - 0s 363ms/step - loss: 1.7858 - val_loss: 1.7825\n",
            "Epoch 14/50\n",
            "1/1 [==============================] - 0s 355ms/step - loss: 1.7825 - val_loss: 1.7794\n",
            "Epoch 15/50\n",
            "1/1 [==============================] - 0s 362ms/step - loss: 1.7794 - val_loss: 1.7764\n",
            "Epoch 16/50\n",
            "1/1 [==============================] - 0s 359ms/step - loss: 1.7764 - val_loss: 1.7737\n",
            "Epoch 17/50\n",
            "1/1 [==============================] - 0s 362ms/step - loss: 1.7737 - val_loss: 1.7711\n",
            "Epoch 18/50\n",
            "1/1 [==============================] - 0s 361ms/step - loss: 1.7711 - val_loss: 1.7685\n",
            "Epoch 19/50\n",
            "1/1 [==============================] - 0s 362ms/step - loss: 1.7685 - val_loss: 1.7661\n",
            "Epoch 20/50\n",
            "1/1 [==============================] - 0s 364ms/step - loss: 1.7661 - val_loss: 1.7638\n",
            "Epoch 21/50\n",
            "1/1 [==============================] - 0s 358ms/step - loss: 1.7638 - val_loss: 1.7616\n",
            "Epoch 22/50\n",
            "1/1 [==============================] - 0s 369ms/step - loss: 1.7616 - val_loss: 1.7594\n",
            "Epoch 23/50\n",
            "1/1 [==============================] - 0s 364ms/step - loss: 1.7594 - val_loss: 1.7573\n",
            "Epoch 24/50\n",
            "1/1 [==============================] - 0s 362ms/step - loss: 1.7573 - val_loss: 1.7552\n",
            "Epoch 25/50\n",
            "1/1 [==============================] - 0s 360ms/step - loss: 1.7552 - val_loss: 1.7532\n",
            "Epoch 26/50\n",
            "1/1 [==============================] - 0s 360ms/step - loss: 1.7532 - val_loss: 1.7512\n",
            "Epoch 27/50\n",
            "1/1 [==============================] - 0s 359ms/step - loss: 1.7512 - val_loss: 1.7493\n",
            "Epoch 28/50\n",
            "1/1 [==============================] - 0s 361ms/step - loss: 1.7493 - val_loss: 1.7475\n",
            "Epoch 29/50\n",
            "1/1 [==============================] - 0s 365ms/step - loss: 1.7475 - val_loss: 1.7456\n",
            "Epoch 30/50\n",
            "1/1 [==============================] - 0s 361ms/step - loss: 1.7456 - val_loss: 1.7439\n",
            "Epoch 31/50\n",
            "1/1 [==============================] - 0s 364ms/step - loss: 1.7439 - val_loss: 1.7421\n",
            "Epoch 32/50\n",
            "1/1 [==============================] - 0s 361ms/step - loss: 1.7421 - val_loss: 1.7405\n",
            "Epoch 33/50\n",
            "1/1 [==============================] - 0s 360ms/step - loss: 1.7405 - val_loss: 1.7388\n",
            "Epoch 34/50\n",
            "1/1 [==============================] - 0s 353ms/step - loss: 1.7388 - val_loss: 1.7372\n",
            "Epoch 35/50\n",
            "1/1 [==============================] - 0s 357ms/step - loss: 1.7372 - val_loss: 1.7357\n",
            "Epoch 36/50\n",
            "1/1 [==============================] - 0s 362ms/step - loss: 1.7357 - val_loss: 1.7341\n",
            "Epoch 37/50\n",
            "1/1 [==============================] - 0s 360ms/step - loss: 1.7341 - val_loss: 1.7326\n",
            "Epoch 38/50\n",
            "1/1 [==============================] - 0s 361ms/step - loss: 1.7326 - val_loss: 1.7311\n",
            "Epoch 39/50\n",
            "1/1 [==============================] - 0s 363ms/step - loss: 1.7311 - val_loss: 1.7294\n",
            "Epoch 40/50\n",
            "1/1 [==============================] - 0s 362ms/step - loss: 1.7294 - val_loss: 1.7276\n",
            "Epoch 41/50\n",
            "1/1 [==============================] - 0s 358ms/step - loss: 1.7276 - val_loss: 1.7250\n",
            "Epoch 42/50\n",
            "1/1 [==============================] - 0s 358ms/step - loss: 1.7250 - val_loss: 1.7078\n",
            "Epoch 43/50\n",
            "1/1 [==============================] - 0s 361ms/step - loss: 1.7078 - val_loss: 1.7068\n",
            "Epoch 44/50\n",
            "1/1 [==============================] - 0s 359ms/step - loss: 1.7068 - val_loss: 1.7059\n",
            "Epoch 45/50\n",
            "1/1 [==============================] - 0s 362ms/step - loss: 1.7059 - val_loss: 1.7050\n",
            "Epoch 46/50\n",
            "1/1 [==============================] - 0s 362ms/step - loss: 1.7050 - val_loss: 1.7040\n",
            "Epoch 47/50\n",
            "1/1 [==============================] - 0s 359ms/step - loss: 1.7040 - val_loss: 1.7031\n",
            "Epoch 48/50\n",
            "1/1 [==============================] - 0s 359ms/step - loss: 1.7031 - val_loss: 1.7022\n",
            "Epoch 49/50\n",
            "1/1 [==============================] - 0s 358ms/step - loss: 1.7022 - val_loss: 1.7013\n",
            "Epoch 50/50\n",
            "1/1 [==============================] - 0s 353ms/step - loss: 1.7013 - val_loss: 1.7003\n"
          ],
          "name": "stdout"
        }
      ]
    },
    {
      "cell_type": "markdown",
      "metadata": {
        "id": "UJ8dyTK6kNNQ"
      },
      "source": [
        "# Plot Results\n",
        "\n",
        "---\n",
        "\n"
      ]
    },
    {
      "cell_type": "code",
      "metadata": {
        "colab": {
          "base_uri": "https://localhost:8080/"
        },
        "id": "AwjUjaCtkSpW",
        "outputId": "e14000e2-878a-421f-e06c-5ff8306e6f40"
      },
      "source": [
        "print(x_train.shape)\n",
        "print(decoded_ecg5000.shape)\n",
        "\n",
        "print(x_train)\n",
        "print(decoded_ecg5000)\n",
        "\n",
        "# container = {\"ecg5000\": ecg5000, \"decoded ecg5000\": decoded_ecg5000}\n",
        "# values = pd.DataFrame(data=container)\n",
        "# plt.plot(val, linewidth = 1, figsize=(25,6), title='Autoencoder Result')"
      ],
      "execution_count": 93,
      "outputs": [
        {
          "output_type": "stream",
          "text": [
            "(1, 4000, 140)\n",
            "(1, 4000, 140)\n",
            "[[[-0.1110686  -0.17686869 -0.4458685  ... -0.0369936  -0.22963038\n",
            "   -0.47184174]\n",
            "  [-0.03321507 -0.12827784 -0.45126996 ...  0.21151635  0.18217461\n",
            "   -0.19577157]\n",
            "  [ 0.20717933  0.23120738  0.00732081 ... -0.16530639 -0.08224348\n",
            "   -0.04169195]\n",
            "  ...\n",
            "  [ 0.15005455  0.11401331 -0.18378076 ... -0.46430011 -0.34326688\n",
            "   -0.26210482]\n",
            "  [-0.03674064 -0.11266574 -0.49163153 ...  0.27470306  0.28476384\n",
            "   -0.04472052]\n",
            "  [ 0.10788321  0.043425   -0.22025965 ... -0.25423979 -0.1526599\n",
            "   -0.28085446]]]\n",
            "[[[ 0.00769053 -0.01822397 -0.02795841 ... -0.02164804  0.02115758\n",
            "   -0.01978468]\n",
            "  [ 0.0129608  -0.03916315 -0.04317983 ... -0.03903757  0.03501612\n",
            "   -0.02421514]\n",
            "  [ 0.02004946 -0.05995862 -0.05959188 ... -0.05216741  0.04540386\n",
            "   -0.02774159]\n",
            "  ...\n",
            "  [ 0.10942466 -0.18857788 -0.2499218  ... -0.04889083  0.04199147\n",
            "   -0.04706485]\n",
            "  [ 0.10942466 -0.18857788 -0.2499218  ... -0.04889083  0.04199147\n",
            "   -0.04706485]\n",
            "  [ 0.10942466 -0.18857788 -0.2499218  ... -0.04889083  0.04199147\n",
            "   -0.04706485]]]\n"
          ],
          "name": "stdout"
        }
      ]
    }
  ]
}