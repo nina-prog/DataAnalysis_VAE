{
  "nbformat": 4,
  "nbformat_minor": 0,
  "metadata": {
    "colab": {
      "name": "VAE_v1_1.ipynb",
      "provenance": [],
      "collapsed_sections": [],
      "authorship_tag": "ABX9TyMlfugdgrr+2B69cFTO74JT",
      "include_colab_link": true
    },
    "kernelspec": {
      "name": "python3",
      "display_name": "Python 3"
    }
  },
  "cells": [
    {
      "cell_type": "markdown",
      "metadata": {
        "id": "view-in-github",
        "colab_type": "text"
      },
      "source": [
        "<a href=\"https://colab.research.google.com/github/nina-prog/DataAnalysis_VAE/blob/main/VAE_v1_1.ipynb\" target=\"_parent\"><img src=\"https://colab.research.google.com/assets/colab-badge.svg\" alt=\"Open In Colab\"/></a>"
      ]
    },
    {
      "cell_type": "code",
      "metadata": {
        "id": "srk9OHyCZDzL"
      },
      "source": [
        "import numpy as np\n",
        "import pandas as pd\n",
        "import matplotlib.pyplot as plt\n",
        "import seaborn as sns\n",
        "from sklearn import preprocessing\n",
        "from sklearn.model_selection import train_test_split\n",
        "import tensorflow as tf\n",
        "from tensorflow import keras\n",
        "from tensorflow.keras import layers\n",
        "sns.set()"
      ],
      "execution_count": 15,
      "outputs": []
    },
    {
      "cell_type": "code",
      "metadata": {
        "id": "IcrTqGPsZceo"
      },
      "source": [
        "### Load ecg5000 data using read_csv\n",
        "ecg5000 = pd.read_csv('ECG5000_ALL.txt', sep='\\s+', header=None)\n",
        "\n",
        "### Delete label-column first (column 0)\n",
        "ecg5000.drop(ecg5000.columns[[0]], axis=1, inplace=True)"
      ],
      "execution_count": 11,
      "outputs": []
    },
    {
      "cell_type": "code",
      "metadata": {
        "colab": {
          "base_uri": "https://localhost:8080/"
        },
        "id": "QdbiFe4pZlQv",
        "outputId": "717acf72-d6a4-4574-8af6-bd9ddb0aa9fa"
      },
      "source": [
        "### Optional test and info about data set\n",
        "print(\"Get type of ecg5000: {} \\n\".format(type(ecg5000)))\n",
        "print(\"Get dimensions of ecg5000: {} \\n\".format(ecg5000.shape))\n",
        "print(\"Get number of elements of ecg5000: {} \\n\".format((ecg5000.size)))\n",
        "print(\"Display first 10 rows of ecg5000: \\n {}\".format(ecg5000.head(10)))"
      ],
      "execution_count": 12,
      "outputs": [
        {
          "output_type": "stream",
          "text": [
            "Get type of ecg5000: <class 'pandas.core.frame.DataFrame'> \n",
            "\n",
            "Get dimensions of ecg5000: (5000, 140) \n",
            "\n",
            "Get number of elements of ecg5000: 700000 \n",
            "\n",
            "Display first 10 rows of ecg5000: \n",
            "         1         2         3    ...       138       139       140\n",
            "0 -0.112522 -2.827204 -3.773897  ...  0.123431  0.925286  0.193137\n",
            "1 -1.100878 -3.996840 -4.285843  ...  0.773820  1.119621 -1.436250\n",
            "2 -0.567088 -2.593450 -3.874230  ...  0.321097  0.904227 -0.421797\n",
            "3  0.490473 -1.914407 -3.616364  ...  1.086798  1.403011 -0.383564\n",
            "4  0.800232 -0.874252 -2.384761  ...  0.971020  1.614392  1.421456\n",
            "5 -1.507674 -3.574550 -4.478011  ...  1.634990  1.493366 -0.783134\n",
            "6 -0.297161 -2.766635 -4.102185  ...  1.110407  1.288165 -0.823386\n",
            "7  0.446769 -1.507397 -3.187468  ...  1.258433  0.961215 -0.999476\n",
            "8  0.087631 -1.753490 -3.304473  ...  0.192971 -0.648683 -2.441068\n",
            "9 -0.832281 -1.700368 -2.257301  ...  2.126852  1.679299  0.965814\n",
            "\n",
            "[10 rows x 140 columns]\n"
          ],
          "name": "stdout"
        }
      ]
    },
    {
      "cell_type": "code",
      "metadata": {
        "colab": {
          "base_uri": "https://localhost:8080/"
        },
        "id": "65mtWXUTZ6gn",
        "outputId": "ab368b42-8a1b-4783-86e2-b19970a03730"
      },
      "source": [
        "### Normalize dataframe with min-max-normalization to range between [-0.8, 0.8]\n",
        "### For any [a, b] normalization, use : x''' = (b-a)((x-min)/(max-min))+a\n",
        "normalized_ecg5000 = (0.8 + 0.8)*(ecg5000 - ecg5000.min())/(ecg5000.max() - ecg5000.min())-0.8\n",
        "print(normalized_ecg5000)"
      ],
      "execution_count": 26,
      "outputs": [
        {
          "output_type": "stream",
          "text": [
            "           1         2         3    ...       138       139       140\n",
            "0     0.105202 -0.154680 -0.521072  ...  0.190712  0.256566 -0.054755\n",
            "1    -0.030005 -0.331729 -0.626180  ...  0.305374  0.286734 -0.247949\n",
            "2     0.043017 -0.119297 -0.541672  ...  0.225560  0.253297 -0.127667\n",
            "3     0.187692 -0.016509 -0.488729  ...  0.360551  0.330726 -0.123133\n",
            "4     0.230067  0.140940 -0.235867  ...  0.340140  0.363540  0.090885\n",
            "...        ...       ...       ...  ...       ...       ...       ...\n",
            "4995 -0.033027 -0.067751 -0.335005  ... -0.337752 -0.198844 -0.292066\n",
            "4996  0.045669 -0.012746 -0.329288  ...  0.391322  0.291519  0.017785\n",
            "4997 -0.064328 -0.061103 -0.263680  ... -0.229486 -0.132008 -0.158819\n",
            "4998 -0.033227 -0.015091 -0.196437  ...  0.090797  0.026031 -0.064782\n",
            "4999  0.220296  0.302430  0.103076  ...  0.440269  0.378969  0.077596\n",
            "\n",
            "[5000 rows x 140 columns]\n"
          ],
          "name": "stdout"
        }
      ]
    },
    {
      "cell_type": "code",
      "metadata": {
        "id": "0FuU0-HYavQx"
      },
      "source": [
        "### Split Data into 80/20 Training, Test\n",
        "trainDF, testDF = train_test_split(normalized_ecg5000, test_size=0.2)\n"
      ],
      "execution_count": 27,
      "outputs": []
    }
  ]
}