{
  "nbformat": 4,
  "nbformat_minor": 0,
  "metadata": {
    "colab": {
      "name": "VAE_v1_1.ipynb",
      "provenance": [],
      "collapsed_sections": [],
      "include_colab_link": true
    },
    "kernelspec": {
      "name": "python3",
      "display_name": "Python 3"
    },
    "accelerator": "GPU"
  },
  "cells": [
    {
      "cell_type": "markdown",
      "metadata": {
        "id": "view-in-github",
        "colab_type": "text"
      },
      "source": [
        "<a href=\"https://colab.research.google.com/github/nina-prog/DataAnalysis_VAE/blob/main/VAE_v1_1.ipynb\" target=\"_parent\"><img src=\"https://colab.research.google.com/assets/colab-badge.svg\" alt=\"Open In Colab\"/></a>"
      ]
    },
    {
      "cell_type": "code",
      "metadata": {
        "id": "srk9OHyCZDzL"
      },
      "source": [
        "import numpy as np\n",
        "import pandas as pd\n",
        "import tensorflow as tf\n",
        "from tensorflow import keras\n",
        "from tensorflow.keras import layers\n",
        "from keras.layers import Dense\n",
        "from keras.layers import TimeDistributed\n",
        "from keras.utils.vis_utils import plot_model\n",
        "from sklearn.model_selection import train_test_split\n",
        "from sklearn.preprocessing import MinMaxScaler\n",
        "import matplotlib.pyplot as plt\n",
        "import seaborn as sns\n",
        "sns.set()"
      ],
      "execution_count": 17,
      "outputs": []
    },
    {
      "cell_type": "markdown",
      "metadata": {
        "id": "wcUlg_PrMiyC"
      },
      "source": [
        "# Data Preprocessing\n",
        "\n",
        "---\n",
        "\n"
      ]
    },
    {
      "cell_type": "markdown",
      "metadata": {
        "id": "Qk9i4M00iwYs"
      },
      "source": [
        "## Load Data"
      ]
    },
    {
      "cell_type": "code",
      "metadata": {
        "id": "IcrTqGPsZceo"
      },
      "source": [
        "### Load ecg5000 data using read_csv\n",
        "ecg5000 = pd.read_csv('ECG5000_ALL.txt', sep='\\s+', header=None)\n",
        "\n",
        "### Delete label-column first (column 0)\n",
        "ecg5000.drop(ecg5000.columns[[0]], axis=1, inplace=True)"
      ],
      "execution_count": 18,
      "outputs": []
    },
    {
      "cell_type": "code",
      "metadata": {
        "id": "QdbiFe4pZlQv",
        "outputId": "aef0e207-496c-4f21-b323-fd15911cb784",
        "colab": {
          "base_uri": "https://localhost:8080/"
        }
      },
      "source": [
        "### Optional test and info about data set\n",
        "print(\"Type of ecg5000: \\t \\t {}\".format(type(ecg5000)))\n",
        "print(\"Dimensions of ecg5000: \\t \\t {}\".format(ecg5000.shape))\n",
        "print(\"Number of elements of ecg5000: \\t {}\".format((ecg5000.size)))\n",
        "print(\"Display first 10 rows of ecg5000: \\n {}\".format(ecg5000.head(10)))"
      ],
      "execution_count": 19,
      "outputs": [
        {
          "output_type": "stream",
          "text": [
            "Type of ecg5000: \t \t <class 'pandas.core.frame.DataFrame'>\n",
            "Dimensions of ecg5000: \t \t (5000, 140)\n",
            "Number of elements of ecg5000: \t 700000\n",
            "Display first 10 rows of ecg5000: \n",
            "         1         2         3    ...       138       139       140\n",
            "0 -0.112522 -2.827204 -3.773897  ...  0.123431  0.925286  0.193137\n",
            "1 -1.100878 -3.996840 -4.285843  ...  0.773820  1.119621 -1.436250\n",
            "2 -0.567088 -2.593450 -3.874230  ...  0.321097  0.904227 -0.421797\n",
            "3  0.490473 -1.914407 -3.616364  ...  1.086798  1.403011 -0.383564\n",
            "4  0.800232 -0.874252 -2.384761  ...  0.971020  1.614392  1.421456\n",
            "5 -1.507674 -3.574550 -4.478011  ...  1.634990  1.493366 -0.783134\n",
            "6 -0.297161 -2.766635 -4.102185  ...  1.110407  1.288165 -0.823386\n",
            "7  0.446769 -1.507397 -3.187468  ...  1.258433  0.961215 -0.999476\n",
            "8  0.087631 -1.753490 -3.304473  ...  0.192971 -0.648683 -2.441068\n",
            "9 -0.832281 -1.700368 -2.257301  ...  2.126852  1.679299  0.965814\n",
            "\n",
            "[10 rows x 140 columns]\n"
          ],
          "name": "stdout"
        }
      ]
    },
    {
      "cell_type": "markdown",
      "metadata": {
        "id": "jOl-yE1aizs4"
      },
      "source": [
        "## Scale Data"
      ]
    },
    {
      "cell_type": "code",
      "metadata": {
        "id": "65mtWXUTZ6gn"
      },
      "source": [
        "### Normalize dataframe with min-max-normalization to range between [-0.8, 0.8]\n",
        "# (1) For any [a, b] normalization use: x = (b-a)((x-min)/(max-min))+ a\n",
        "scaled_ecg5000 = (0.8 + 0.8)*(ecg5000 - ecg5000.min())/(ecg5000.max() - ecg5000.min())-0.8\n",
        "print(normalized_ecg5000)"
      ],
      "execution_count": null,
      "outputs": []
    },
    {
      "cell_type": "code",
      "metadata": {
        "id": "WCvRjcSqjFED",
        "outputId": "b60df413-e2ec-40ab-8ad7-a3fb2551e647",
        "colab": {
          "base_uri": "https://localhost:8080/"
        }
      },
      "source": [
        "# Or (2) Use sklearn MinMaxScaler\n",
        "min_max_scaler = MinMaxScaler(feature_range=(-0.8,0.8))\n",
        "scaled_ecg5000 = pd.DataFrame(min_max_scaler.fit_transform(ecg5000))\n",
        "print(scaled_ecg5000)"
      ],
      "execution_count": 20,
      "outputs": [
        {
          "output_type": "stream",
          "text": [
            "           0         1         2    ...       137       138       139\n",
            "0     0.105202 -0.154680 -0.521072  ...  0.190712  0.256566 -0.054755\n",
            "1    -0.030005 -0.331729 -0.626180  ...  0.305374  0.286734 -0.247949\n",
            "2     0.043017 -0.119297 -0.541672  ...  0.225560  0.253297 -0.127667\n",
            "3     0.187692 -0.016509 -0.488729  ...  0.360551  0.330726 -0.123133\n",
            "4     0.230067  0.140940 -0.235867  ...  0.340140  0.363540  0.090885\n",
            "...        ...       ...       ...  ...       ...       ...       ...\n",
            "4995 -0.033027 -0.067751 -0.335005  ... -0.337752 -0.198844 -0.292066\n",
            "4996  0.045669 -0.012746 -0.329288  ...  0.391322  0.291519  0.017785\n",
            "4997 -0.064328 -0.061103 -0.263680  ... -0.229486 -0.132008 -0.158819\n",
            "4998 -0.033227 -0.015091 -0.196437  ...  0.090797  0.026031 -0.064782\n",
            "4999  0.220296  0.302430  0.103076  ...  0.440269  0.378969  0.077596\n",
            "\n",
            "[5000 rows x 140 columns]\n"
          ],
          "name": "stdout"
        }
      ]
    },
    {
      "cell_type": "markdown",
      "metadata": {
        "id": "v1Qxc-o8i2cV"
      },
      "source": [
        "## Split Data"
      ]
    },
    {
      "cell_type": "code",
      "metadata": {
        "id": "0FuU0-HYavQx",
        "outputId": "fcbdb6bf-08d9-42b3-8f02-1f4c974b0666",
        "colab": {
          "base_uri": "https://localhost:8080/"
        }
      },
      "source": [
        "### Split Data into 80/20 Training, Test\n",
        "trainDF, testDF = train_test_split(scaled_ecg5000, test_size=0.2)\n",
        "# Optional test and info about new data sets\n",
        "print(\"Shape of Training DataFrame: \\t {}\".format(trainDF.shape))\n",
        "print(\"Shape of Test DataFrame: \\t {}\".format(testDF.shape))"
      ],
      "execution_count": 21,
      "outputs": [
        {
          "output_type": "stream",
          "text": [
            "Shape of Training DataFrame: \t (4000, 140)\n",
            "Shape of Test DataFrame: \t (1000, 140)\n"
          ],
          "name": "stdout"
        }
      ]
    },
    {
      "cell_type": "markdown",
      "metadata": {
        "id": "MqDAiFlPipdc"
      },
      "source": [
        "## Reshape Data"
      ]
    },
    {
      "cell_type": "code",
      "metadata": {
        "id": "Y4VNUVvMiL9a"
      },
      "source": [
        "# (1) 1D Array\n",
        "### Flatten Values to 1D NP Array\n",
        "x_train = trainDF.values.flatten()\n",
        "x_test = testDF.values.flatten()\n",
        "\n",
        "### Reshape input into [samples, timesteps, features]\n",
        "n_train = len(x_train)\n",
        "n_test = len(x_test)\n",
        "x_train = x_train.reshape((1, n_train, 1)) # samples 1+, time steps n_train (4000*140), features 1  \n",
        "x_test = x_test.reshape((1, n_test, 1)) # samples 1+, time steps n_test (1000*140), features 1\n",
        "\n",
        "### Properties\n",
        "print(\"Time steps of reshaped train dataset: {}\".format(n_train))\n",
        "print(\"Time steps of reshaped test dataset: {}\".format(n_test))"
      ],
      "execution_count": null,
      "outputs": []
    },
    {
      "cell_type": "code",
      "metadata": {
        "id": "stkCjqkHiHBo",
        "outputId": "2b26c69c-cd30-40ef-9dea-9eeab4f7a024",
        "colab": {
          "base_uri": "https://localhost:8080/"
        }
      },
      "source": [
        "# Or (2) Leave Dataframe Dimesions as they are\n",
        "### Convert to array\n",
        "x_train = trainDF.to_numpy()\n",
        "x_test = testDF.to_numpy()\n",
        "\n",
        "### Reshape input into [samples, timesteps, features]\n",
        "n_train = len(trainDF.columns) # time steps\n",
        "n_test = len(testDF.columns) # time steps\n",
        "f_train = len(trainDF.index) # features\n",
        "f_test = len(testDF.index) # features\n",
        "x_train = x_train.reshape(f_train, n_train, 1)\n",
        "x_test = x_test.reshape(f_test, n_test, 1)\n",
        "\n",
        "### Properties\n",
        "print(\"Time steps of reshaped train dataset: {}\".format(n_train))\n",
        "print(\"Time steps of reshaped test dataset: {}\".format(n_test))\n",
        "print(x_train.shape)\n",
        "print(x_test.shape)"
      ],
      "execution_count": 26,
      "outputs": [
        {
          "output_type": "stream",
          "text": [
            "Time steps of reshaped train dataset: 140\n",
            "Time steps of reshaped test dataset: 140\n",
            "(4000, 140, 1)\n",
            "(1000, 140, 1)\n"
          ],
          "name": "stdout"
        }
      ]
    },
    {
      "cell_type": "markdown",
      "metadata": {
        "id": "4F9x-KyKM4NJ"
      },
      "source": [
        "# Build Autoencoder (AE)\n",
        "\n",
        "---\n",
        "\n"
      ]
    },
    {
      "cell_type": "code",
      "metadata": {
        "id": "7M5gFNnoKcVF",
        "outputId": "e4a5d4b5-0f25-41d0-a709-4d62f4eb807c",
        "colab": {
          "base_uri": "https://localhost:8080/",
          "height": 1000
        }
      },
      "source": [
        "### For better understanding visit: https://towardsdatascience.com/autoencoders-for-the-compression-of-stock-market-data-28e8c1a2da3e\n",
        "### For better understanding of layers and Recreating auto encoders visit: https://machinelearningmastery.com/lstm-autoencoders/\n",
        "### or for code: https://gist.github.com/GerardBCN/40349b39bc45d4550141aff6966d1619#file-stock_price_autoencoding-ipynb\n",
        "### For Reshaping Issues: https://machinelearningmastery.com/reshape-input-data-long-short-term-memory-networks-keras/\n",
        "\n",
        "### fit model\n",
        "encoding_dim = 140\n",
        "epochs = 50\n",
        "\n",
        "### define model\n",
        "#bidirectional lstm\n",
        "inputs = keras.Input(shape=(140, 1), name='Input_layer')\n",
        "encoded = layers.LSTM(encoding_dim, activation='tanh', name='Encode_1')(inputs)\n",
        "encoded = layers.Dense(5, activation='tanh')(encoded)\n",
        "#here m,sigma (VAE)\n",
        "#from now on decoder\n",
        "encoded = layers.Dense(140, activation='tanh')(encoded)\n",
        "encoded = layers.Reshape((140,1))(encoded)\n",
        "#decoded = layers.RepeatVector(1, name='Bootleneck')(encoded)\n",
        "#decoded = layers.Dense(5, activation='tanh')\n",
        "decoded = layers.LSTM(encoding_dim, return_sequences=True, activation='tanh', name='Decode_1')(encoded)\n",
        "decoded = TimeDistributed(Dense(1, activation='tanh', name=''),name='Output_Layer')(decoded)\n",
        "\n",
        "sequence_autoencoder = keras.Model(inputs, decoded)\n",
        "encoder = keras.Model(inputs, encoded)\n",
        "#decoder = keras.Model()\n",
        "\n",
        "sequence_autoencoder.summary()\n",
        "\n",
        "### train AE\n",
        "#change loss for VAE\n",
        "sequence_autoencoder.compile(optimizer='adam', loss='binary_crossentropy')\n",
        "history = sequence_autoencoder.fit(x_train, x_train,\n",
        "                epochs=epochs,\n",
        "                batch_size=32,\n",
        "                shuffle=True,\n",
        "                validation_data=(x_test, x_test))\n",
        "\n",
        "### recreation\n",
        "decoded_ecg5000 = sequence_autoencoder.predict(x_train)\n",
        "plot_model(sequence_autoencoder, show_shapes=True, to_file='reconstruct_lstm_autoencoder.png')"
      ],
      "execution_count": 37,
      "outputs": [
        {
          "output_type": "stream",
          "text": [
            "Model: \"functional_30\"\n",
            "_________________________________________________________________\n",
            "Layer (type)                 Output Shape              Param #   \n",
            "=================================================================\n",
            "Input_layer (InputLayer)     [(None, 140, 1)]          0         \n",
            "_________________________________________________________________\n",
            "Encode_1 (LSTM)              (None, 140)               79520     \n",
            "_________________________________________________________________\n",
            "dense_13 (Dense)             (None, 5)                 705       \n",
            "_________________________________________________________________\n",
            "dense_14 (Dense)             (None, 140)               840       \n",
            "_________________________________________________________________\n",
            "reshape_2 (Reshape)          (None, 140, 1)            0         \n",
            "_________________________________________________________________\n",
            "Decode_1 (LSTM)              (None, 140, 140)          79520     \n",
            "_________________________________________________________________\n",
            "Output_Layer (TimeDistribute (None, 140, 1)            141       \n",
            "=================================================================\n",
            "Total params: 160,726\n",
            "Trainable params: 160,726\n",
            "Non-trainable params: 0\n",
            "_________________________________________________________________\n",
            "Epoch 1/50\n",
            "125/125 [==============================] - 2s 20ms/step - loss: 0.4039 - val_loss: 0.2967\n",
            "Epoch 2/50\n",
            "125/125 [==============================] - 2s 14ms/step - loss: 0.2745 - val_loss: 0.2598\n",
            "Epoch 3/50\n",
            "125/125 [==============================] - 2s 15ms/step - loss: 0.2822 - val_loss: 0.2699\n",
            "Epoch 4/50\n",
            "125/125 [==============================] - 2s 15ms/step - loss: 0.2640 - val_loss: 0.2587\n",
            "Epoch 5/50\n",
            "125/125 [==============================] - 2s 14ms/step - loss: 0.2614 - val_loss: 0.2571\n",
            "Epoch 6/50\n",
            "125/125 [==============================] - 2s 14ms/step - loss: 0.2602 - val_loss: 0.2564\n",
            "Epoch 7/50\n",
            "125/125 [==============================] - 2s 15ms/step - loss: 0.2597 - val_loss: 0.2558\n",
            "Epoch 8/50\n",
            "125/125 [==============================] - 2s 16ms/step - loss: 0.2592 - val_loss: 0.2554\n",
            "Epoch 9/50\n",
            "125/125 [==============================] - 2s 15ms/step - loss: 0.2589 - val_loss: 0.2545\n",
            "Epoch 10/50\n",
            "125/125 [==============================] - 2s 15ms/step - loss: 0.2678 - val_loss: 0.2570\n",
            "Epoch 11/50\n",
            "125/125 [==============================] - 2s 15ms/step - loss: 0.2580 - val_loss: 0.2531\n",
            "Epoch 12/50\n",
            "125/125 [==============================] - 2s 14ms/step - loss: 0.2566 - val_loss: 0.2524\n",
            "Epoch 13/50\n",
            "125/125 [==============================] - 2s 15ms/step - loss: 0.2559 - val_loss: 0.2516\n",
            "Epoch 14/50\n",
            "125/125 [==============================] - 2s 15ms/step - loss: 0.2554 - val_loss: 0.2510\n",
            "Epoch 15/50\n",
            "125/125 [==============================] - 2s 15ms/step - loss: 0.2709 - val_loss: 0.2574\n",
            "Epoch 16/50\n",
            "125/125 [==============================] - 2s 15ms/step - loss: 0.2599 - val_loss: 0.2557\n",
            "Epoch 17/50\n",
            "125/125 [==============================] - 2s 15ms/step - loss: 0.2590 - val_loss: 0.2551\n",
            "Epoch 18/50\n",
            "125/125 [==============================] - 2s 15ms/step - loss: 0.2586 - val_loss: 0.2548\n",
            "Epoch 19/50\n",
            "125/125 [==============================] - 2s 15ms/step - loss: 0.2720 - val_loss: 0.2626\n",
            "Epoch 20/50\n",
            "125/125 [==============================] - 2s 15ms/step - loss: 0.2644 - val_loss: 0.2608\n",
            "Epoch 21/50\n",
            "125/125 [==============================] - 2s 14ms/step - loss: 0.2635 - val_loss: 0.2602\n",
            "Epoch 22/50\n",
            "125/125 [==============================] - 2s 14ms/step - loss: 0.2631 - val_loss: 0.2597\n",
            "Epoch 23/50\n",
            "125/125 [==============================] - 2s 14ms/step - loss: 0.2628 - val_loss: 0.2594\n",
            "Epoch 24/50\n",
            "125/125 [==============================] - 2s 15ms/step - loss: 0.2626 - val_loss: 0.2593\n",
            "Epoch 25/50\n",
            "125/125 [==============================] - 2s 15ms/step - loss: 0.2626 - val_loss: 0.2593\n",
            "Epoch 26/50\n",
            "125/125 [==============================] - 2s 15ms/step - loss: 0.2625 - val_loss: 0.2592\n",
            "Epoch 27/50\n",
            "125/125 [==============================] - 2s 14ms/step - loss: 0.2625 - val_loss: 0.2592\n",
            "Epoch 28/50\n",
            "125/125 [==============================] - 2s 14ms/step - loss: 0.2625 - val_loss: 0.2592\n",
            "Epoch 29/50\n",
            "125/125 [==============================] - 2s 15ms/step - loss: 0.2625 - val_loss: 0.2593\n",
            "Epoch 30/50\n",
            "125/125 [==============================] - 2s 14ms/step - loss: 0.2625 - val_loss: 0.2591\n",
            "Epoch 31/50\n",
            "125/125 [==============================] - 2s 14ms/step - loss: 0.2625 - val_loss: 0.2592\n",
            "Epoch 32/50\n",
            "125/125 [==============================] - 2s 14ms/step - loss: 0.2625 - val_loss: 0.2592\n",
            "Epoch 33/50\n",
            "125/125 [==============================] - 2s 15ms/step - loss: 0.2625 - val_loss: 0.2591\n",
            "Epoch 34/50\n",
            "125/125 [==============================] - 2s 15ms/step - loss: 0.2624 - val_loss: 0.2591\n",
            "Epoch 35/50\n",
            "125/125 [==============================] - 2s 15ms/step - loss: 0.2624 - val_loss: 0.2591\n",
            "Epoch 36/50\n",
            "125/125 [==============================] - 2s 15ms/step - loss: 0.2625 - val_loss: 0.2592\n",
            "Epoch 37/50\n",
            "125/125 [==============================] - 2s 15ms/step - loss: 0.2624 - val_loss: 0.2592\n",
            "Epoch 38/50\n",
            "125/125 [==============================] - 2s 14ms/step - loss: 0.2624 - val_loss: 0.2591\n",
            "Epoch 39/50\n",
            "125/125 [==============================] - 2s 15ms/step - loss: 0.2624 - val_loss: 0.2591\n",
            "Epoch 40/50\n",
            "125/125 [==============================] - 2s 14ms/step - loss: 0.2624 - val_loss: 0.2593\n",
            "Epoch 41/50\n",
            "125/125 [==============================] - 2s 15ms/step - loss: 0.2624 - val_loss: 0.2591\n",
            "Epoch 42/50\n",
            "125/125 [==============================] - 2s 14ms/step - loss: 0.2624 - val_loss: 0.2591\n",
            "Epoch 43/50\n",
            "125/125 [==============================] - 2s 14ms/step - loss: 0.2600 - val_loss: 0.2500\n",
            "Epoch 44/50\n",
            "125/125 [==============================] - 2s 14ms/step - loss: 0.2529 - val_loss: 0.2370\n",
            "Epoch 45/50\n",
            "125/125 [==============================] - 2s 14ms/step - loss: 0.2320 - val_loss: 0.3791\n",
            "Epoch 46/50\n",
            "125/125 [==============================] - 2s 14ms/step - loss: 0.3052 - val_loss: 0.2724\n",
            "Epoch 47/50\n",
            "125/125 [==============================] - 2s 14ms/step - loss: 0.3410 - val_loss: 0.2721\n",
            "Epoch 48/50\n",
            "125/125 [==============================] - 2s 14ms/step - loss: 0.2725 - val_loss: 0.2676\n",
            "Epoch 49/50\n",
            "125/125 [==============================] - 2s 14ms/step - loss: 0.2699 - val_loss: 0.2655\n",
            "Epoch 50/50\n",
            "125/125 [==============================] - 2s 15ms/step - loss: 0.2670 - val_loss: 0.2630\n"
          ],
          "name": "stdout"
        },
        {
          "output_type": "execute_result",
          "data": {
            "image/png": "[encoded data removed]",
            "text/plain": [
              "<IPython.core.display.Image object>"
            ]
          },
          "metadata": {
            "tags": []
          },
          "execution_count": 37
        }
      ]
    },
    {
      "cell_type": "markdown",
      "metadata": {
        "id": "UJ8dyTK6kNNQ"
      },
      "source": [
        "# Plot Results\n",
        "\n",
        "---\n",
        "\n"
      ]
    },
    {
      "cell_type": "code",
      "metadata": {
        "id": "AwjUjaCtkSpW",
        "outputId": "0bb38e66-0fe2-4983-b9c1-bd70a62fe480",
        "colab": {
          "base_uri": "https://localhost:8080/",
          "height": 1000
        }
      },
      "source": [
        "# Test if Input fits Dim of Output\n",
        "print(x_train.shape)\n",
        "print(decoded_ecg5000.shape)\n",
        "\n",
        "print(x_train)\n",
        "print(decoded_ecg5000)\n",
        "\n",
        "# covert to 2D DataFrame and only show column 0\n",
        "new_x_train= x_train.reshape(-1,140)\n",
        "#new_x_train = pd.DataFrame(new_x_train)\n",
        "#new_x_train = new_x_train.iloc[:, 0:1]\n",
        "#print(new_x_train.head(10))\n",
        "\n",
        "new_decoded_ecg5000 = decoded_ecg5000.reshape(-1,140)\n",
        "#new_decoded_ecg5000 = pd.DataFrame(new_decoded_ecg5000)\n",
        "#new_decoded_ecg5000 = new_decoded_ecg5000.iloc[:, 0:1]\n",
        "#print(new_decoded_ecg5000.head(10))\n",
        "\n",
        "# plot result\n",
        "#ax = new_x_train[0].plot()\n",
        "#new_decoded_ecg5000[0].plot(ax=ax, linewidth = 1, figsize=(25,6), title='Autoencoder Result')\n",
        "\n",
        "\n",
        "#indize = sample\n",
        "plt.figure()\n",
        "plt.plot(new_x_train[3])\n",
        "plt.plot(new_decoded_ecg5000[3])\n",
        "plt.show() "
      ],
      "execution_count": 44,
      "outputs": [
        {
          "output_type": "stream",
          "text": [
            "(4000, 140, 1)\n",
            "(4000, 140, 1)\n",
            "[[[ 1.33040169e-01]\n",
            "  [-8.20177379e-02]\n",
            "  [-5.02204678e-01]\n",
            "  ...\n",
            "  [ 4.39496821e-01]\n",
            "  [ 4.39479299e-01]\n",
            "  [ 2.63243504e-02]]\n",
            "\n",
            " [[ 1.42625622e-01]\n",
            "  [ 6.01513474e-02]\n",
            "  [-4.80113299e-01]\n",
            "  ...\n",
            "  [ 2.15766259e-01]\n",
            "  [ 1.34821767e-01]\n",
            "  [-2.28376084e-01]]\n",
            "\n",
            " [[ 9.53900702e-02]\n",
            "  [ 1.84197630e-01]\n",
            "  [ 6.05103010e-02]\n",
            "  ...\n",
            "  [-5.16673590e-01]\n",
            "  [-3.01009366e-01]\n",
            "  [-3.50690211e-01]]\n",
            "\n",
            " ...\n",
            "\n",
            " [[ 6.65489224e-03]\n",
            "  [-1.34537645e-01]\n",
            "  [-4.12737278e-01]\n",
            "  ...\n",
            "  [-8.03522094e-02]\n",
            "  [ 2.26738456e-02]\n",
            "  [-1.88010157e-01]]\n",
            "\n",
            " [[ 2.00612432e-01]\n",
            "  [ 2.55787689e-01]\n",
            "  [ 8.31790065e-02]\n",
            "  ...\n",
            "  [-2.81230124e-01]\n",
            "  [-2.73160187e-01]\n",
            "  [-3.47717455e-01]]\n",
            "\n",
            " [[ 1.40486682e-03]\n",
            "  [-1.92156013e-01]\n",
            "  [-4.61644098e-01]\n",
            "  ...\n",
            "  [-2.87226927e-02]\n",
            "  [ 4.04319218e-04]\n",
            "  [-3.50534033e-01]]]\n",
            "[[[ 0.04910532]\n",
            "  [ 0.01870483]\n",
            "  [-0.03109411]\n",
            "  ...\n",
            "  [-0.12096962]\n",
            "  [-0.16262124]\n",
            "  [-0.24673712]]\n",
            "\n",
            " [[ 0.04911329]\n",
            "  [ 0.01870526]\n",
            "  [-0.03110472]\n",
            "  ...\n",
            "  [-0.12095414]\n",
            "  [-0.16259637]\n",
            "  [-0.24670857]]\n",
            "\n",
            " [[ 0.04916987]\n",
            "  [ 0.01870636]\n",
            "  [-0.0311884 ]\n",
            "  ...\n",
            "  [-0.12083255]\n",
            "  [-0.16240232]\n",
            "  [-0.24648616]]\n",
            "\n",
            " ...\n",
            "\n",
            " [[ 0.04913784]\n",
            "  [ 0.01870562]\n",
            "  [-0.0311415 ]\n",
            "  ...\n",
            "  [-0.12090091]\n",
            "  [-0.16251142]\n",
            "  [-0.24661125]]\n",
            "\n",
            " [[ 0.0491548 ]\n",
            "  [ 0.01870608]\n",
            "  [-0.03116603]\n",
            "  ...\n",
            "  [-0.12086516]\n",
            "  [-0.16245429]\n",
            "  [-0.24654576]]\n",
            "\n",
            " [[ 0.04913167]\n",
            "  [ 0.01870573]\n",
            "  [-0.03113141]\n",
            "  ...\n",
            "  [-0.12091523]\n",
            "  [-0.16253428]\n",
            "  [-0.24663734]]]\n"
          ],
          "name": "stdout"
        },
        {
          "output_type": "display_data",
          "data": {
            "image/png": "[encoded data removed]",
            "text/plain": [
              "<Figure size 432x288 with 1 Axes>"
            ]
          },
          "metadata": {
            "tags": []
          }
        }
      ]
    }
  ]
}