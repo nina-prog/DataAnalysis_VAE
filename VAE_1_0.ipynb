{
  "nbformat": 4,
  "nbformat_minor": 0,
  "metadata": {
    "colab": {
      "name": "VAE_1_0.ipynb",
      "provenance": [],
      "collapsed_sections": [],
      "authorship_tag": "ABX9TyPjjRFVS60YDo+tZSLfTLtV",
      "include_colab_link": true
    },
    "kernelspec": {
      "name": "python3",
      "display_name": "Python 3"
    }
  },
  "cells": [
    {
      "cell_type": "markdown",
      "metadata": {
        "id": "view-in-github",
        "colab_type": "text"
      },
      "source": [
        "<a href=\"https://colab.research.google.com/github/nina-prog/DataAnalysis_VAE/blob/main/VAE_1_0.ipynb\" target=\"_parent\"><img src=\"https://colab.research.google.com/assets/colab-badge.svg\" alt=\"Open In Colab\"/></a>"
      ]
    },
    {
      "cell_type": "code",
      "metadata": {
        "id": "srk9OHyCZDzL"
      },
      "source": [
        "import numpy as np\n",
        "import pandas as pd\n",
        "import matplotlib.pyplot as plt\n",
        "import seaborn as sns\n",
        "from sklearn import preprocessing\n",
        "sns.set()"
      ],
      "execution_count": 10,
      "outputs": []
    },
    {
      "cell_type": "code",
      "metadata": {
        "id": "IcrTqGPsZceo"
      },
      "source": [
        "### Load ecg5000 data using read_csv\n",
        "ecg5000 = pd.read_csv('ECG5000_ALL.txt', sep='\\s+', header=None)\n",
        "\n",
        "### Delete label-column first (column 0)\n",
        "ecg5000.drop(ecg5000.columns[[0]], axis=1, inplace=True)"
      ],
      "execution_count": 11,
      "outputs": []
    },
    {
      "cell_type": "code",
      "metadata": {
        "colab": {
          "base_uri": "https://localhost:8080/"
        },
        "id": "QdbiFe4pZlQv",
        "outputId": "717acf72-d6a4-4574-8af6-bd9ddb0aa9fa"
      },
      "source": [
        "### Optional test and info about data set\n",
        "print(\"Get type of ecg5000: {} \\n\".format(type(ecg5000)))\n",
        "print(\"Get dimensions of ecg5000: {} \\n\".format(ecg5000.shape))\n",
        "print(\"Get number of elements of ecg5000: {} \\n\".format((ecg5000.size)))\n",
        "print(\"Display first 10 rows of ecg5000: \\n {}\".format(ecg5000.head(10)))"
      ],
      "execution_count": 12,
      "outputs": [
        {
          "output_type": "stream",
          "text": [
            "Get type of ecg5000: <class 'pandas.core.frame.DataFrame'> \n",
            "\n",
            "Get dimensions of ecg5000: (5000, 140) \n",
            "\n",
            "Get number of elements of ecg5000: 700000 \n",
            "\n",
            "Display first 10 rows of ecg5000: \n",
            "         1         2         3    ...       138       139       140\n",
            "0 -0.112522 -2.827204 -3.773897  ...  0.123431  0.925286  0.193137\n",
            "1 -1.100878 -3.996840 -4.285843  ...  0.773820  1.119621 -1.436250\n",
            "2 -0.567088 -2.593450 -3.874230  ...  0.321097  0.904227 -0.421797\n",
            "3  0.490473 -1.914407 -3.616364  ...  1.086798  1.403011 -0.383564\n",
            "4  0.800232 -0.874252 -2.384761  ...  0.971020  1.614392  1.421456\n",
            "5 -1.507674 -3.574550 -4.478011  ...  1.634990  1.493366 -0.783134\n",
            "6 -0.297161 -2.766635 -4.102185  ...  1.110407  1.288165 -0.823386\n",
            "7  0.446769 -1.507397 -3.187468  ...  1.258433  0.961215 -0.999476\n",
            "8  0.087631 -1.753490 -3.304473  ...  0.192971 -0.648683 -2.441068\n",
            "9 -0.832281 -1.700368 -2.257301  ...  2.126852  1.679299  0.965814\n",
            "\n",
            "[10 rows x 140 columns]\n"
          ],
          "name": "stdout"
        }
      ]
    },
    {
      "cell_type": "code",
      "metadata": {
        "colab": {
          "base_uri": "https://localhost:8080/"
        },
        "id": "65mtWXUTZ6gn",
        "outputId": "1946e223-011c-4c01-8dcf-1720850b6d8f"
      },
      "source": [
        "### Normalize dataframe with min-max-normalization \n",
        "normalized_ecg5000 = (ecg5000 - ecg5000.min())/(ecg5000.max() - ecg5000.min())\n",
        "print(normalized_ecg5000)"
      ],
      "execution_count": 13,
      "outputs": [
        {
          "output_type": "stream",
          "text": [
            "           1         2         3    ...       138       139       140\n",
            "0     0.565751  0.403325  0.174330  ...  0.619195  0.660354  0.465778\n",
            "1     0.481247  0.292669  0.108637  ...  0.690859  0.679208  0.345032\n",
            "2     0.526886  0.425440  0.161455  ...  0.640975  0.658310  0.420208\n",
            "3     0.617307  0.489682  0.194544  ...  0.725345  0.706704  0.423042\n",
            "4     0.643792  0.588088  0.352583  ...  0.712587  0.727213  0.556803\n",
            "...        ...       ...       ...  ...       ...       ...       ...\n",
            "4995  0.479358  0.457656  0.290622  ...  0.288905  0.375722  0.317459\n",
            "4996  0.528543  0.492034  0.294195  ...  0.744576  0.682199  0.511115\n",
            "4997  0.459795  0.461811  0.335200  ...  0.356572  0.417495  0.400738\n",
            "4998  0.479233  0.490568  0.377227  ...  0.556748  0.516270  0.459511\n",
            "4999  0.637685  0.689019  0.564422  ...  0.775168  0.736855  0.548498\n",
            "\n",
            "[5000 rows x 140 columns]\n"
          ],
          "name": "stdout"
        }
      ]
    },
    {
      "cell_type": "code",
      "metadata": {
        "id": "0FuU0-HYavQx"
      },
      "source": [
        ""
      ],
      "execution_count": null,
      "outputs": []
    }
  ]
}