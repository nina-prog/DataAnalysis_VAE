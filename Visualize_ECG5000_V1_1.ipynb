{
  "nbformat": 4,
  "nbformat_minor": 0,
  "metadata": {
    "colab": {
      "name": "Visualize_ECG5000_1.1.ipynb",
      "provenance": [],
      "collapsed_sections": [],
      "authorship_tag": "ABX9TyM4g5CfgHDl/GUfg1cY69ZP",
      "include_colab_link": true
    },
    "kernelspec": {
      "name": "python3",
      "display_name": "Python 3"
    },
    "accelerator": "GPU"
  },
  "cells": [
    {
      "cell_type": "markdown",
      "metadata": {
        "id": "view-in-github",
        "colab_type": "text"
      },
      "source": [
        "<a href=\"https://colab.research.google.com/github/nina-prog/DataAnalysis_VAE/blob/main/Visualize_ECG5000_V1_1.ipynb\" target=\"_parent\"><img src=\"https://colab.research.google.com/assets/colab-badge.svg\" alt=\"Open In Colab\"/></a>"
      ]
    },
    {
      "cell_type": "markdown",
      "metadata": {
        "id": "d1XLWkDxQaY0"
      },
      "source": [
        "# Visualize data set ECG5000 V1.1\n",
        "---\n",
        "See [Visualize_ECG5000 V1.0 here](https://github.com/nina-prog/DataAnalysis_VAE/blob/main/Visualize_ECG5000.ipynb)"
      ]
    },
    {
      "cell_type": "code",
      "metadata": {
        "id": "zoX9g9baQL0W"
      },
      "source": [
        "## Preparation\n",
        "import pandas as pd\n",
        "import matplotlib.pyplot as plt\n",
        "import seaborn as sns\n",
        "sns.set()"
      ],
      "execution_count": 65,
      "outputs": []
    },
    {
      "cell_type": "code",
      "metadata": {
        "id": "ZmfTO1sMR4UG"
      },
      "source": [
        "### Load ecg5000 data using read_csv\n",
        "ecg5000 = pd.read_csv('ECG5000_TRAIN.txt', sep='\\s+', header=None)"
      ],
      "execution_count": null,
      "outputs": []
    },
    {
      "cell_type": "code",
      "metadata": {
        "id": "0wveHI2oSs-h"
      },
      "source": [
        "### Optional test and info about read data set\n",
        "print(\"Get type of ecg5000: {} \\n\".format(type(ecg5000)))\n",
        "# Note ecg5000_df = DataFrame(ecg5000) converts series to df\n",
        "print(\"Get dimensions of ecg5000: {} \\n\".format(ecg5000.shape))\n",
        "print(\"Get number of elements of ecg5000: {} \\n\".format((ecg5000.size)))\n",
        "print(\"Display first 10 rows of ecg5000: \\n {}\".format(ecg5000.head(10)))"
      ],
      "execution_count": null,
      "outputs": []
    },
    {
      "cell_type": "code",
      "metadata": {
        "id": "DEU8B-BE3XCy"
      },
      "source": [
        "### Plot data \n",
        "# Define compromised version of ecg5000 data (redundant but better for visualization)\n",
        "new_ecg5000 = ecg5000.iloc[:, 1:3]\n",
        "# Define subplot (redundant but better for visualization)\n",
        "fig, axes = plt.subplots(nrows=2, figsize=(25,12))\n",
        "# Set figure characteristics and plot data\n",
        "ecg5000.plot(linewidth = 0.3, title='ECG5000', ax=axes[0])\n",
        "new_ecg5000.plot(linewidth = 0.3, title='ECG5000 ONLY COLUMN 1-2', ax=axes[1])\n",
        "\n"
      ],
      "execution_count": null,
      "outputs": []
    }
  ]
}