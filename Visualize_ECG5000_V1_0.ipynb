{
  "nbformat": 4,
  "nbformat_minor": 0,
  "metadata": {
    "colab": {
      "name": "Visualize ECG5000",
      "provenance": [],
      "collapsed_sections": [],
      "include_colab_link": true
    },
    "kernelspec": {
      "name": "python3",
      "display_name": "Python 3"
    }
  },
  "cells": [
    {
      "cell_type": "markdown",
      "metadata": {
        "id": "view-in-github",
        "colab_type": "text"
      },
      "source": [
        "<a href=\"https://colab.research.google.com/github/nina-prog/DataAnalysis_VAE/blob/main/Visualize_ECG5000_V1_0.ipynb\" target=\"_parent\"><img src=\"https://colab.research.google.com/assets/colab-badge.svg\" alt=\"Open In Colab\"/></a>"
      ]
    },
    {
      "cell_type": "markdown",
      "metadata": {
        "id": "yiLAzaU0UNfd"
      },
      "source": [
        "# Visualize data set ECG5000 V1.0\n",
        "---\n",
        "See [Visualize_ECG5000 V2.0 here](https://github.com/nina-prog/DataAnalysis_VAE/blob/main/Visualize_ECG5000_V2_0.ipynb)"
      ]
    },
    {
      "cell_type": "code",
      "metadata": {
        "id": "0Szd4BNq2qpJ"
      },
      "source": [
        "import matplotlib.pyplot as plt\n",
        "import pandas as pd\n",
        "import numpy as np\n",
        "import seaborn as sns\n",
        "sns.set()"
      ],
      "execution_count": 1,
      "outputs": []
    },
    {
      "cell_type": "code",
      "metadata": {
        "id": "7Xu2Gphk2089"
      },
      "source": [
        "# Read data\n",
        "df = pd.read_fwf('ecg5000_TRAIN.txt')\n",
        "df.to_csv('ecg5000.csv')\n",
        "# Flatten data to one dimensional array\n",
        "time_series = df.to_numpy().flatten()\n",
        "# Transform to list\n",
        "y = list(time_series)\n",
        "\n",
        "# Information about our time series\n",
        "print(\"y is of type: {}\".format(type(y)))\n",
        "print(\"y has length of: {}\".format(len(y)))\n"
      ],
      "execution_count": null,
      "outputs": []
    },
    {
      "cell_type": "code",
      "metadata": {
        "id": "tSJq_ZXES4AX"
      },
      "source": [
        "# Select first 140 entries of y to plot them\n",
        "y140 = y[0:140]\n",
        "\n",
        "# Set figure size\n",
        "plt.figure(figsize=(25,6))\n",
        "plt.plot(y140, linewidth = 1, color=\"blue\")\n",
        "\n",
        "# for saving the plot on locale drive\n",
        "# plt.savefig(\"ecg5000.png\", format='png', dpi=150)"
      ],
      "execution_count": null,
      "outputs": []
    }
  ]
}