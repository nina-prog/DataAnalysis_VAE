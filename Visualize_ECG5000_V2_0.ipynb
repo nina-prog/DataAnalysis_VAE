{
  "nbformat": 4,
  "nbformat_minor": 0,
  "metadata": {
    "colab": {
      "name": "Visualize_ECG5000_1.1.ipynb",
      "provenance": [],
      "collapsed_sections": [],
      "authorship_tag": "ABX9TyPyD2hFBqKLG/XznxNH8ouR",
      "include_colab_link": true
    },
    "kernelspec": {
      "name": "python3",
      "display_name": "Python 3"
    },
    "accelerator": "GPU"
  },
  "cells": [
    {
      "cell_type": "markdown",
      "metadata": {
        "id": "view-in-github",
        "colab_type": "text"
      },
      "source": [
        "<a href=\"https://colab.research.google.com/github/nina-prog/DataAnalysis_VAE/blob/main/Visualize_ECG5000_V2_0.ipynb\" target=\"_parent\"><img src=\"https://colab.research.google.com/assets/colab-badge.svg\" alt=\"Open In Colab\"/></a>"
      ]
    },
    {
      "cell_type": "markdown",
      "metadata": {
        "id": "d1XLWkDxQaY0"
      },
      "source": [
        "# Visualize data set ECG5000 V2.0\n",
        "---\n",
        "See [Visualize_ECG5000 V1.0 here](https://github.com/nina-prog/DataAnalysis_VAE/blob/main/Visualize_ECG5000_V1_0.ipynb)"
      ]
    },
    {
      "cell_type": "code",
      "metadata": {
        "id": "zoX9g9baQL0W"
      },
      "source": [
        "### Preparation\n",
        "import numpy as np\n",
        "import pandas as pd\n",
        "import matplotlib.pyplot as plt\n",
        "import seaborn as sns\n",
        "sns.set()"
      ],
      "execution_count": 15,
      "outputs": []
    },
    {
      "cell_type": "code",
      "metadata": {
        "id": "ZmfTO1sMR4UG"
      },
      "source": [
        "### Load ecg5000 data using read_csv\n",
        "ecg5000 = pd.read_csv('ECG5000_TRAIN.txt', sep='\\s+', header=None)"
      ],
      "execution_count": 2,
      "outputs": []
    },
    {
      "cell_type": "code",
      "metadata": {
        "id": "0wveHI2oSs-h"
      },
      "source": [
        "### Optional test and info about data set\n",
        "print(\"Get type of ecg5000: {} \\n\".format(type(ecg5000)))\n",
        "print(\"Get dimensions of ecg5000: {} \\n\".format(ecg5000.shape))\n",
        "print(\"Get number of elements of ecg5000: {} \\n\".format((ecg5000.size)))\n",
        "print(\"Display first 10 rows of ecg5000: \\n {}\".format(ecg5000.head(10)))"
      ],
      "execution_count": null,
      "outputs": []
    },
    {
      "cell_type": "code",
      "metadata": {
        "id": "DEU8B-BE3XCy"
      },
      "source": [
        "### Plot data \n",
        "# Define compromised version of ecg5000 data (redundant but better for visualization)\n",
        "new_ecg5000 = ecg5000.iloc[:, 1:3]\n",
        "\n",
        "# Define subplot (redundant but better for visualization)\n",
        "# fig, axes = plt.subplots(nrows=2, figsize=(25,12)) - uncomment if needed\n",
        "# delete figsize(), add ax=axes[0] or ax=axes[1] to plots below\n",
        "\n",
        "# Set figure characteristics and plot data\n",
        "new_ecg5000.plot(figsize=(25,6), linewidth = 0.3, title='ECG5000 ONLY COLUMN 1-2')\n",
        "ecg5000.plot(figsize=(25,6), linewidth = 0.3, title='ECG5000')\n",
        "\n",
        "\n"
      ],
      "execution_count": null,
      "outputs": []
    },
    {
      "cell_type": "code",
      "metadata": {
        "id": "FCtYeZAQfvhM"
      },
      "source": [
        "### Convert data to one dimensional array\n",
        "fnp_ecg5000 = ecg5000.values.flatten()\n",
        "type(fnp_ecg5000)\n",
        "# first 141 entries present row 0 of not flattend data thus time point 0\n",
        "fnp_ecg5000[:140]\n",
        "\n",
        "# inverse flatten\n",
        "# flatten('F').reshape((3, 2), order='F')\n",
        "np_ecg5000 = np.reshape(f_ecg5000,(500, 141))\n",
        "\n",
        "# convert to dataframe\n",
        "pd.DataFrame(data=np_ecg5000)\n"
      ],
      "execution_count": null,
      "outputs": []
    }
  ]
}