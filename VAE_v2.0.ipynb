{
  "nbformat": 4,
  "nbformat_minor": 0,
  "metadata": {
    "colab": {
      "name": "VAE_v1_1.ipynb",
      "provenance": [],
      "collapsed_sections": [],
      "toc_visible": true,
      "include_colab_link": true
    },
    "kernelspec": {
      "name": "python3",
      "display_name": "Python 3"
    },
    "accelerator": "GPU"
  },
  "cells": [
    {
      "cell_type": "markdown",
      "metadata": {
        "id": "view-in-github",
        "colab_type": "text"
      },
      "source": [
        "<a href=\"https://colab.research.google.com/github/nina-prog/DataAnalysis_VAE/blob/main/VAE_v2.0.ipynb\" target=\"_parent\"><img src=\"https://colab.research.google.com/assets/colab-badge.svg\" alt=\"Open In Colab\"/></a>"
      ]
    },
    {
      "cell_type": "code",
      "metadata": {
        "id": "srk9OHyCZDzL"
      },
      "source": [
        "import numpy as np\n",
        "import pandas as pd\n",
        "\n",
        "import tensorflow as tf\n",
        "from tensorflow import keras\n",
        "from tensorflow.keras import layers\n",
        "from keras.layers import LSTM, Dense, TimeDistributed, Bidirectional, Dropout, Reshape, BatchNormalization, LeakyReLU\n",
        "from keras.utils.vis_utils import plot_model\n",
        "from keras.regularizers import l2\n",
        "from keras.optimizers import SGD, Adam\n",
        "\n",
        "from sklearn.model_selection import train_test_split\n",
        "from sklearn.preprocessing import MinMaxScaler\n",
        "\n",
        "import matplotlib.pyplot as plt\n",
        "import seaborn as sns\n",
        "import pickle\n",
        "\n",
        "sns.set()"
      ],
      "execution_count": 44,
      "outputs": []
    },
    {
      "cell_type": "code",
      "metadata": {
        "id": "xRwBwVXkkKTt"
      },
      "source": [
        "# tf.random.set_seed(7) "
      ],
      "execution_count": null,
      "outputs": []
    },
    {
      "cell_type": "markdown",
      "metadata": {
        "id": "wcUlg_PrMiyC"
      },
      "source": [
        "# Data Preprocessing\n",
        "\n",
        "---\n",
        "\n"
      ]
    },
    {
      "cell_type": "markdown",
      "metadata": {
        "id": "Qk9i4M00iwYs"
      },
      "source": [
        "## Load Data"
      ]
    },
    {
      "cell_type": "code",
      "metadata": {
        "id": "IcrTqGPsZceo"
      },
      "source": [
        "### Load ecg5000 data using read_csv\n",
        "ecg5000 = pd.read_csv('ECG5000_ALL.txt', sep='\\s+', header=None)"
      ],
      "execution_count": 20,
      "outputs": []
    },
    {
      "cell_type": "code",
      "metadata": {
        "id": "QdbiFe4pZlQv",
        "colab": {
          "base_uri": "https://localhost:8080/"
        },
        "outputId": "cface285-8a11-4e41-f4dd-ff7f9b8fd24b"
      },
      "source": [
        "### Optional test and info about data set\n",
        "print(\"Type of ecg5000: \\t \\t {}\".format(type(ecg5000)))\n",
        "print(\"Dimensions of ecg5000: \\t \\t {}\".format(ecg5000.shape))\n",
        "print(\"Number of elements of ecg5000: \\t {}\".format((ecg5000.size)))\n",
        "print(\"Display first 10 rows of ecg5000: \\n {}\".format(ecg5000.head(10)))"
      ],
      "execution_count": 21,
      "outputs": [
        {
          "output_type": "stream",
          "text": [
            "Type of ecg5000: \t \t <class 'pandas.core.frame.DataFrame'>\n",
            "Dimensions of ecg5000: \t \t (5000, 141)\n",
            "Number of elements of ecg5000: \t 705000\n",
            "Display first 10 rows of ecg5000: \n",
            "    0         1         2         3    ...       137       138       139       140\n",
            "0  1.0 -0.112522 -2.827204 -3.773897  ...  0.228077  0.123431  0.925286  0.193137\n",
            "1  1.0 -1.100878 -3.996840 -4.285843  ...  0.476333  0.773820  1.119621 -1.436250\n",
            "2  1.0 -0.567088 -2.593450 -3.874230  ... -0.532197  0.321097  0.904227 -0.421797\n",
            "3  1.0  0.490473 -1.914407 -3.616364  ...  0.990133  1.086798  1.403011 -0.383564\n",
            "4  1.0  0.800232 -0.874252 -2.384761  ...  0.960304  0.971020  1.614392  1.421456\n",
            "5  1.0 -1.507674 -3.574550 -4.478011  ...  1.007076  1.634990  1.493366 -0.783134\n",
            "6  1.0 -0.297161 -2.766635 -4.102185  ...  0.974787  1.110407  1.288165 -0.823386\n",
            "7  1.0  0.446769 -1.507397 -3.187468  ...  1.034388  1.258433  0.961215 -0.999476\n",
            "8  1.0  0.087631 -1.753490 -3.304473  ...  0.573453  0.192971 -0.648683 -2.441068\n",
            "9  1.0 -0.832281 -1.700368 -2.257301  ...  2.126372  2.126852  1.679299  0.965814\n",
            "\n",
            "[10 rows x 141 columns]\n"
          ],
          "name": "stdout"
        }
      ]
    },
    {
      "cell_type": "code",
      "metadata": {
        "id": "WCvRjcSqjFED",
        "colab": {
          "base_uri": "https://localhost:8080/"
        },
        "outputId": "43739fc7-a9a9-4e6f-9eff-b41ca160c0b2"
      },
      "source": [
        "### Normalize dataframe with min-max-normalization to range between [-0.8, 0.8] using sklearn MinMaxScaler\n",
        "min_max_scaler = MinMaxScaler(feature_range=(-0.8,0.8))\n",
        "scaled_ecg5000 = pd.DataFrame(min_max_scaler.fit_transform(ecg5000))\n",
        "print(scaled_ecg5000)"
      ],
      "execution_count": 22,
      "outputs": [
        {
          "output_type": "stream",
          "text": [
            "      0         1         2         3    ...       137       138       139       140\n",
            "0    -0.8  0.105202 -0.154680 -0.521072  ...  0.183241  0.190712  0.256566 -0.054755\n",
            "1    -0.8 -0.030005 -0.331729 -0.626180  ...  0.231023  0.305374  0.286734 -0.247949\n",
            "2    -0.8  0.043017 -0.119297 -0.541672  ...  0.036911  0.225560  0.253297 -0.127667\n",
            "3    -0.8  0.187692 -0.016509 -0.488729  ...  0.329914  0.360551  0.330726 -0.123133\n",
            "4    -0.8  0.230067  0.140940 -0.235867  ...  0.324173  0.340140  0.363540  0.090885\n",
            "...   ...       ...       ...       ...  ...       ...       ...       ...       ...\n",
            "4995  0.4 -0.033027 -0.067751 -0.335005  ... -0.632409 -0.337752 -0.198844 -0.292066\n",
            "4996 -0.4  0.045669 -0.012746 -0.329288  ...  0.369043  0.391322  0.291519  0.017785\n",
            "4997 -0.4 -0.064328 -0.061103 -0.263680  ... -0.522184 -0.229486 -0.132008 -0.158819\n",
            "4998 -0.4 -0.033227 -0.015091 -0.196437  ... -0.103605  0.090797  0.026031 -0.064782\n",
            "4999 -0.4  0.220296  0.302430  0.103076  ...  0.476928  0.440269  0.378969  0.077596\n",
            "\n",
            "[5000 rows x 141 columns]\n"
          ],
          "name": "stdout"
        }
      ]
    },
    {
      "cell_type": "markdown",
      "metadata": {
        "id": "v1Qxc-o8i2cV"
      },
      "source": [
        "## Split Data"
      ]
    },
    {
      "cell_type": "code",
      "metadata": {
        "id": "0FuU0-HYavQx",
        "colab": {
          "base_uri": "https://localhost:8080/"
        },
        "outputId": "48fa4967-5d83-4f45-8b98-c3e8ccffafcb"
      },
      "source": [
        "### Split Data into 80/20 Training, Test\n",
        "trainDF, testDF = train_test_split(scaled_ecg5000, test_size=0.2, shuffle=False)\n",
        "\n",
        "# Get all labels from trainDF and then drop it\n",
        "trainDF_Y = trainDF.iloc[:,0]\n",
        "trainDF.drop(trainDF.columns[[0]], axis=1, inplace=True)\n",
        "\n",
        "# Get all labels from testDF and then drop it\n",
        "testDF_Y = testDF.iloc[:,0]\n",
        "testDF.drop(testDF.columns[[0]], axis=1, inplace=True)\n",
        "\n",
        "# Optional test and info about new data sets\n",
        "print(\"Shape of Train DataFrame: \\t {}\".format(trainDF.shape))\n",
        "print(\"Shape of Test DataFrame: \\t {}\".format(testDF.shape))\n",
        "print(\"Shape of Train Y DataFrame: \\t {}\".format(trainDF_Y.shape))\n",
        "print(\"Shape of Test Y DataFrame: \\t {}\".format(testDF_Y.shape))"
      ],
      "execution_count": 23,
      "outputs": [
        {
          "output_type": "stream",
          "text": [
            "Shape of Train DataFrame: \t (4000, 140)\n",
            "Shape of Test DataFrame: \t (1000, 140)\n",
            "Shape of Train Y DataFrame: \t (4000,)\n",
            "Shape of Test Y DataFrame: \t (1000,)\n"
          ],
          "name": "stdout"
        },
        {
          "output_type": "stream",
          "text": [
            "/usr/local/lib/python3.6/dist-packages/pandas/core/frame.py:4174: SettingWithCopyWarning: \n",
            "A value is trying to be set on a copy of a slice from a DataFrame\n",
            "\n",
            "See the caveats in the documentation: https://pandas.pydata.org/pandas-docs/stable/user_guide/indexing.html#returning-a-view-versus-a-copy\n",
            "  errors=errors,\n"
          ],
          "name": "stderr"
        }
      ]
    },
    {
      "cell_type": "markdown",
      "metadata": {
        "id": "MqDAiFlPipdc"
      },
      "source": [
        "## Reshape Data"
      ]
    },
    {
      "cell_type": "code",
      "metadata": {
        "id": "stkCjqkHiHBo",
        "colab": {
          "base_uri": "https://localhost:8080/"
        },
        "outputId": "936ee32a-8ab7-4adc-f3c2-1b719b7bbe29"
      },
      "source": [
        "### Convert to array\n",
        "x_train = trainDF.to_numpy()\n",
        "x_test = testDF.to_numpy()\n",
        "\n",
        "y_train = trainDF_Y.to_numpy()\n",
        "y_test = testDF_Y.to_numpy()\n",
        "\n",
        "### Reshape datasets X/Y train/test into [samples, timesteps, features]\n",
        "s_xtrain = len(trainDF.index) # samples\n",
        "n_xtrain = len(trainDF.columns) # time steps\n",
        "\n",
        "s_xtest = len(testDF.index) # samples\n",
        "n_xtest = len(testDF.columns) # time steps\n",
        "\n",
        "s_ytrain = len(trainDF_Y.index) # samples\n",
        "\n",
        "s_ytest = len(testDF_Y.index) # samples\n",
        "\n",
        "x_train = x_train.reshape(s_xtrain, n_xtrain, 1)\n",
        "x_test = x_test.reshape(s_xtest, n_xtest, 1)\n",
        "\n",
        "y_train = y_train.reshape(s_ytrain, 1, 1)\n",
        "y_test = y_test.reshape(s_ytest, 1, 1)\n",
        "\n",
        "### Properties\n",
        "print(\"Shape of x_train: {}\".format(x_train.shape))\n",
        "print(\"Shape of x_test: {}\".format(x_test.shape))\n",
        "\n",
        "print(\"Shape of y_train: {}\".format(y_train.shape))\n",
        "print(\"Shape of y_test: {}\".format(y_test.shape))"
      ],
      "execution_count": 24,
      "outputs": [
        {
          "output_type": "stream",
          "text": [
            "Shape of x_train: (4000, 140, 1)\n",
            "Shape of x_test: (1000, 140, 1)\n",
            "Shape of y_train: (4000, 1, 1)\n",
            "Shape of y_test: (1000, 1, 1)\n"
          ],
          "name": "stdout"
        }
      ]
    },
    {
      "cell_type": "markdown",
      "metadata": {
        "id": "FeXLn2bUYa7g"
      },
      "source": [
        "# Create Sample Layer\r\n",
        "\r\n",
        "---\r\n",
        "\r\n"
      ]
    },
    {
      "cell_type": "code",
      "metadata": {
        "id": "BuO7o5GGYg3y"
      },
      "source": [
        "class Sampling(layers.Layer):\r\n",
        "    \"\"\"Uses (z_mean, z_log_var) to sample z\"\"\"\r\n",
        "\r\n",
        "    def call(self, inputs):\r\n",
        "        z_mean, z_log_var = inputs\r\n",
        "        batch = tf.shape(z_mean)[0]\r\n",
        "        dim = tf.shape(z_mean)[1]\r\n",
        "        epsilon = tf.keras.backend.random_normal(shape=(batch, dim))\r\n",
        "        return z_mean + tf.exp(0.5 * z_log_var) * epsilon"
      ],
      "execution_count": 25,
      "outputs": []
    },
    {
      "cell_type": "markdown",
      "metadata": {
        "id": "4F9x-KyKM4NJ"
      },
      "source": [
        "# Build Variational Autoencoder (VAE)\n",
        "\n",
        "---\n",
        "\n"
      ]
    },
    {
      "cell_type": "markdown",
      "metadata": {
        "id": "6hcpCe0zGwQl"
      },
      "source": [
        "## Encoder"
      ]
    },
    {
      "cell_type": "code",
      "metadata": {
        "id": "4194a4eCBSh5"
      },
      "source": [
        "def create_encoder(encoding_dim=140, intermediate_dim=140, latent_dim=5, activation='tanh', dropout_rate=0.2, regulazier_rate=0.004): # maybe delete encoding and latent dim, do something with input shape\r\n",
        "    \"\"\"Maps ECG5000 time series to a triplet (z_mean, z_log_var, z).\"\"\"\r\n",
        "\r\n",
        "    ### Define Layers\r\n",
        "    encoder_inputs = keras.Input(shape=(140, 1), name='Encoder_Input_layer')\r\n",
        "\r\n",
        "    encoded = Bidirectional(LSTM(intermediate_dim, activation=activation, name='', return_sequences=True), name='Encode_1')(encoder_inputs)\r\n",
        "    encoded= Flatten()(encoded) \r\n",
        "    encoded = Dropout(dropout_rate, name='Dropout_1')(encoded)\r\n",
        "    encoded = Dense(latent_dim, activation=activation, name='Encode_2', kernel_regularizer=l2(regulazier_rate), activity_regularizer=l2(regulazier_rate))(encoded)\r\n",
        "\r\n",
        "    z_mean = Dense(latent_dim, activation=\"softplus\", name=\"z_mean\")(encoded)\r\n",
        "    #z_mean = BatchNormalization()(z_mean)  \r\n",
        "\r\n",
        "    z_log_var = Dense(latent_dim, activation=\"softplus\", name=\"z_log_var\")(encoded)\r\n",
        "    #z_log_var = BatchNormalization()(z_log_var)\r\n",
        "\r\n",
        "    z = Sampling(name='Sample_layer')([z_mean, z_log_var])\r\n",
        "\r\n",
        "    ### Instantiate encoder\r\n",
        "    encoder = keras.Model(encoder_inputs, [z_mean, z_log_var, z], name=\"encoder\")\r\n",
        "\r\n",
        "    return encoder"
      ],
      "execution_count": 26,
      "outputs": []
    },
    {
      "cell_type": "code",
      "metadata": {
        "id": "WCpMI6C0Diyv",
        "colab": {
          "base_uri": "https://localhost:8080/"
        },
        "outputId": "249950c8-1363-4db6-c7cd-929bf7eaea3b"
      },
      "source": [
        "### Check if encoder works\r\n",
        "encoder = create_encoder() \r\n",
        "encoder.summary()"
      ],
      "execution_count": 27,
      "outputs": [
        {
          "output_type": "stream",
          "text": [
            "Model: \"encoder\"\n",
            "__________________________________________________________________________________________________\n",
            "Layer (type)                    Output Shape         Param #     Connected to                     \n",
            "==================================================================================================\n",
            "Encoder_Input_layer (InputLayer [(None, 140, 1)]     0                                            \n",
            "__________________________________________________________________________________________________\n",
            "Encode_1 (Bidirectional)        (None, 280)          159040      Encoder_Input_layer[0][0]        \n",
            "__________________________________________________________________________________________________\n",
            "Dropout_1 (Dropout)             (None, 280)          0           Encode_1[0][0]                   \n",
            "__________________________________________________________________________________________________\n",
            "Encode_2 (Dense)                (None, 5)            1405        Dropout_1[0][0]                  \n",
            "__________________________________________________________________________________________________\n",
            "z_mean (Dense)                  (None, 5)            30          Encode_2[0][0]                   \n",
            "__________________________________________________________________________________________________\n",
            "z_log_var (Dense)               (None, 5)            30          Encode_2[0][0]                   \n",
            "__________________________________________________________________________________________________\n",
            "Sample_layer (Sampling)         (None, 5)            0           z_mean[0][0]                     \n",
            "                                                                 z_log_var[0][0]                  \n",
            "==================================================================================================\n",
            "Total params: 160,505\n",
            "Trainable params: 160,505\n",
            "Non-trainable params: 0\n",
            "__________________________________________________________________________________________________\n"
          ],
          "name": "stdout"
        }
      ]
    },
    {
      "cell_type": "markdown",
      "metadata": {
        "id": "Z_PrqOCOG244"
      },
      "source": [
        "## Decoder"
      ]
    },
    {
      "cell_type": "code",
      "metadata": {
        "id": "sxnUeH7FBJVH"
      },
      "source": [
        "def create_decoder(encoding_dim=140, intermediate_dim=140, latent_dim=5, activation='tanh', dropout_rate=0.2, regulazier_rate=0.004): # maybe delete encoding and latent dim, do something with input shape\r\n",
        "    \"\"\"Converts z, the encoded time series, back into a readable time series.\"\"\"\r\n",
        "    \r\n",
        "    ### Define Layers\r\n",
        "    latent_inputs = keras.Input(shape=(latent_dim,), name='Decoder_Input_layer')\r\n",
        "\r\n",
        "    decoded = Dense(encoding_dim*200, activation=activation, name='Decode_1', kernel_regularizer=l2(regulazier_rate), activity_regularizer=l2(regulazier_rate))(latent_inputs)\r\n",
        "    decoded = Reshape((140,200), name='Decode_2')(decoded)\r\n",
        "    decoded = Dropout(dropout_rate, name='Dropout_1')(decoded)\r\n",
        "    decoded = Bidirectional(LSTM(intermediate_dim, activation=activation, return_sequences=True, name=''), name='Decode_3')(decoded)\r\n",
        "\r\n",
        "    decoder_outputs = TimeDistributed(Dense(1, activation='linear', name=''),name='Decoder_Output_Layer')(decoded)\r\n",
        "\r\n",
        "    ### Instantiate decoder\r\n",
        "    decoder = keras.Model(latent_inputs, decoder_outputs, name=\"decoder\")\r\n",
        "\r\n",
        "    return decoder"
      ],
      "execution_count": 35,
      "outputs": []
    },
    {
      "cell_type": "code",
      "metadata": {
        "id": "tHOP8O9gFoR8",
        "colab": {
          "base_uri": "https://localhost:8080/"
        },
        "outputId": "7f7b9430-7134-4a59-8075-79fea8eeeef7"
      },
      "source": [
        "### Check if decoder works\r\n",
        "decoder = create_decoder()\r\n",
        "decoder.summary()"
      ],
      "execution_count": 36,
      "outputs": [
        {
          "output_type": "stream",
          "text": [
            "Model: \"decoder\"\n",
            "_________________________________________________________________\n",
            "Layer (type)                 Output Shape              Param #   \n",
            "=================================================================\n",
            "Decoder_Input_layer (InputLa [(None, 5)]               0         \n",
            "_________________________________________________________________\n",
            "Decode_1 (Dense)             (None, 28000)             168000    \n",
            "_________________________________________________________________\n",
            "Decode_2 (Reshape)           (None, 140, 200)          0         \n",
            "_________________________________________________________________\n",
            "Dropout_1 (Dropout)          (None, 140, 200)          0         \n",
            "_________________________________________________________________\n",
            "Decode_3 (Bidirectional)     (None, 140, 280)          381920    \n",
            "_________________________________________________________________\n",
            "Decoder_Output_Layer (TimeDi (None, 140, 1)            281       \n",
            "=================================================================\n",
            "Total params: 550,201\n",
            "Trainable params: 550,201\n",
            "Non-trainable params: 0\n",
            "_________________________________________________________________\n"
          ],
          "name": "stdout"
        }
      ]
    },
    {
      "cell_type": "markdown",
      "metadata": {
        "id": "RAKUqMR8oSm6"
      },
      "source": [
        "## VAE"
      ]
    },
    {
      "cell_type": "markdown",
      "metadata": {
        "id": "aNwUKMjdFM_L"
      },
      "source": [
        "Define VAE Model"
      ]
    },
    {
      "cell_type": "code",
      "metadata": {
        "id": "v9hxGlDYBBKV"
      },
      "source": [
        "# try the different definition here with the sum of reduce mean : https://keras.io/examples/generative/vae/\r\n",
        "\r\n",
        "class VAE(keras.Model):\r\n",
        "    \"\"\"Combines the encoder and decoder into an end-to-end model for training.\"\"\"\r\n",
        "\r\n",
        "    def __init__(self, encoder, decoder, **kwargs):\r\n",
        "        super(VAE, self).__init__(**kwargs)\r\n",
        "        self.encoder = encoder\r\n",
        "        self.decoder = decoder\r\n",
        "\r\n",
        "    def train_step(self, data):\r\n",
        "        # unpack the data\r\n",
        "        if isinstance(data, tuple):\r\n",
        "            data = data[0]\r\n",
        "        with tf.GradientTape() as tape:\r\n",
        "            # forward pass\r\n",
        "            z_mean, z_log_var, z = self.encoder(data)\r\n",
        "            reconstruction = self.decoder(z)\r\n",
        "            # Compute own loss\r\n",
        "            reconstruction_loss = tf.reduce_mean(\r\n",
        "                keras.losses.mean_squared_error(data, reconstruction)\r\n",
        "            )\r\n",
        "            kl_loss = -0.5 * tf.reduce_mean(1 + z_log_var - tf.square(z_mean) - tf.exp(z_log_var))\r\n",
        "            total_loss = reconstruction_loss + kl_loss\r\n",
        "        # compute gradients\r\n",
        "        grads = tape.gradient(total_loss, self.trainable_weights)\r\n",
        "        # update weights\r\n",
        "        self.optimizer.apply_gradients(zip(grads, self.trainable_weights))\r\n",
        "        # compute own metrics\r\n",
        "        return {\r\n",
        "            \"loss\": total_loss,\r\n",
        "            \"reconstruction_loss\": reconstruction_loss,\r\n",
        "            \"kl_loss\": kl_loss,\r\n",
        "        }\r\n",
        "\r\n",
        "    def test_step(self, data):\r\n",
        "        # unpack the data\r\n",
        "        x, y = data\r\n",
        "        # compute predictions\r\n",
        "        y_pred = self(x, training=False)\r\n",
        "        # updates the metrics tracking the loss\r\n",
        "        self.compiled_loss(y, y_pred, regularization_losses=self.losses)\r\n",
        "        # update the metrics\r\n",
        "        self.compiled_metrics.update_state(y, y_pred)\r\n",
        "        # return a dict mapping metric names to current value\r\n",
        "        return {m.name: m.result() for m in self.metrics}\r\n",
        "\r\n",
        "    def call(self, data):\r\n",
        "        z_mean, z_log_var, z = self.encoder(data)\r\n",
        "        reconstructed = self.decoder(z)\r\n",
        "        return reconstructed"
      ],
      "execution_count": 30,
      "outputs": []
    },
    {
      "cell_type": "markdown",
      "metadata": {
        "id": "hWJVg5WPFQlb"
      },
      "source": [
        "Build VAE connecting Encoder and Decoder"
      ]
    },
    {
      "cell_type": "code",
      "metadata": {
        "id": "PfjVoHGu5eN_"
      },
      "source": [
        "### Definde function to create model\r\n",
        "def create_model(activation='tanh', intermediate_dim=140, dropout_rate=0.2, regulazier_rate=0.004, optimizer='adam', learn_rate=0.001, name='VAE'):\r\n",
        "    \"\"\"Creates VAE model, required for wrapping in estimator interface KerasRegressor, while accepting the hyperparameters we want to tune. We also pass some default values.\"\"\"\r\n",
        "    \r\n",
        "    # create encoder \r\n",
        "    encoder = create_encoder(activation=activation, intermediate_dim=intermediate_dim, dropout_rate=dropout_rate, regulazier_rate=regulazier_rate)\r\n",
        "    # create decoder \r\n",
        "    decoder = create_decoder(activation=activation, intermediate_dim=intermediate_dim, dropout_rate=dropout_rate, regulazier_rate=regulazier_rate)\r\n",
        "    # create vae\r\n",
        "    model = VAE(encoder, decoder, name=name)\r\n",
        "    # compile model\r\n",
        "    if optimizer == 'adam':\r\n",
        "      opt = Adam(lr=learn_rate, amsgrad=True)\r\n",
        "    else:\r\n",
        "      opt = SGD(lr=learn_rate)\r\n",
        "    model.compile(optimizer=opt)\r\n",
        "    model.build((None,140,1))\r\n",
        "    \r\n",
        "    return model"
      ],
      "execution_count": 37,
      "outputs": []
    },
    {
      "cell_type": "code",
      "metadata": {
        "id": "g-XPM-YdEiOt",
        "colab": {
          "base_uri": "https://localhost:8080/"
        },
        "outputId": "653ae9f7-e079-455e-8fd9-30475eef84a6"
      },
      "source": [
        "### Instantiate VAE model\r\n",
        "vae = create_model(name='VAE')\r\n",
        "\r\n",
        "### Display VAE model and it`s parts\r\n",
        "# encoder \r\n",
        "vae.encoder.summary(line_length=100)\r\n",
        "plot_model(vae.encoder, show_shapes=True, to_file='vae_encoder.png')\r\n",
        "print(\"\\n\")\r\n",
        "# decoder\r\n",
        "vae.decoder.summary(line_length=100)\r\n",
        "plot_model(vae.decoder, show_shapes=True, to_file='vae_decoder.png')\r\n",
        "print(\"\\n\")\r\n",
        "# vae\r\n",
        "vae.summary(line_length=100)"
      ],
      "execution_count": 38,
      "outputs": [
        {
          "output_type": "stream",
          "text": [
            "Model: \"encoder\"\n",
            "____________________________________________________________________________________________________\n",
            "Layer (type)                     Output Shape          Param #     Connected to                     \n",
            "====================================================================================================\n",
            "Encoder_Input_layer (InputLayer) [(None, 140, 1)]      0                                            \n",
            "____________________________________________________________________________________________________\n",
            "Encode_1 (Bidirectional)         (None, 280)           159040      Encoder_Input_layer[0][0]        \n",
            "____________________________________________________________________________________________________\n",
            "Dropout_1 (Dropout)              (None, 280)           0           Encode_1[0][0]                   \n",
            "____________________________________________________________________________________________________\n",
            "Encode_2 (Dense)                 (None, 5)             1405        Dropout_1[0][0]                  \n",
            "____________________________________________________________________________________________________\n",
            "z_mean (Dense)                   (None, 5)             30          Encode_2[0][0]                   \n",
            "____________________________________________________________________________________________________\n",
            "z_log_var (Dense)                (None, 5)             30          Encode_2[0][0]                   \n",
            "____________________________________________________________________________________________________\n",
            "Sample_layer (Sampling)          (None, 5)             0           z_mean[0][0]                     \n",
            "                                                                   z_log_var[0][0]                  \n",
            "====================================================================================================\n",
            "Total params: 160,505\n",
            "Trainable params: 160,505\n",
            "Non-trainable params: 0\n",
            "____________________________________________________________________________________________________\n",
            "\n",
            "\n",
            "Model: \"decoder\"\n",
            "____________________________________________________________________________________________________\n",
            "Layer (type)                                 Output Shape                            Param #        \n",
            "====================================================================================================\n",
            "Decoder_Input_layer (InputLayer)             [(None, 5)]                             0              \n",
            "____________________________________________________________________________________________________\n",
            "Decode_1 (Dense)                             (None, 28000)                           168000         \n",
            "____________________________________________________________________________________________________\n",
            "Decode_2 (Reshape)                           (None, 140, 200)                        0              \n",
            "____________________________________________________________________________________________________\n",
            "Dropout_1 (Dropout)                          (None, 140, 200)                        0              \n",
            "____________________________________________________________________________________________________\n",
            "Decode_3 (Bidirectional)                     (None, 140, 280)                        381920         \n",
            "____________________________________________________________________________________________________\n",
            "Decoder_Output_Layer (TimeDistributed)       (None, 140, 1)                          281            \n",
            "====================================================================================================\n",
            "Total params: 550,201\n",
            "Trainable params: 550,201\n",
            "Non-trainable params: 0\n",
            "____________________________________________________________________________________________________\n",
            "\n",
            "\n",
            "Model: \"VAE\"\n",
            "____________________________________________________________________________________________________\n",
            "Layer (type)                                 Output Shape                            Param #        \n",
            "====================================================================================================\n",
            "encoder (Functional)                         [(None, 5), (None, 5), (None, 5)]       160505         \n",
            "____________________________________________________________________________________________________\n",
            "decoder (Functional)                         (None, 140, 1)                          550201         \n",
            "====================================================================================================\n",
            "Total params: 710,706\n",
            "Trainable params: 710,706\n",
            "Non-trainable params: 0\n",
            "____________________________________________________________________________________________________\n"
          ],
          "name": "stdout"
        }
      ]
    },
    {
      "cell_type": "markdown",
      "metadata": {
        "id": "T7OlCIRCOUF-"
      },
      "source": [
        "# Train VAE\r\n",
        "\r\n",
        "---\r\n",
        "\r\n"
      ]
    },
    {
      "cell_type": "code",
      "metadata": {
        "id": "cf2gXbw290r5"
      },
      "source": [
        "### Train Properties\r\n",
        "epochs = 50 #50, 100\r\n",
        "batch_size = 16 #16, 32"
      ],
      "execution_count": 33,
      "outputs": []
    },
    {
      "cell_type": "markdown",
      "metadata": {
        "id": "MfnzjwIxlShE"
      },
      "source": [
        "## Train"
      ]
    },
    {
      "cell_type": "code",
      "metadata": {
        "id": "BTkdJdc_N5SN",
        "colab": {
          "base_uri": "https://localhost:8080/"
        },
        "outputId": "a4e4e13a-b39a-4f13-e09d-a8e57f39303d"
      },
      "source": [
        "### To improve training see here: https://becominghuman.ai/using-variational-autoencoder-vae-to-generate-new-images-14328877e88d\r\n",
        "### Train\r\n",
        "train_history = vae.fit(x_train, x_train, epochs=epochs, batch_size=batch_size, validation_data=(x_test, x_test))"
      ],
      "execution_count": 39,
      "outputs": [
        {
          "output_type": "stream",
          "text": [
            "Epoch 1/50\n",
            "250/250 [==============================] - 49s 176ms/step - loss: 0.0550 - reconstruction_loss: 0.0346 - kl_loss: 0.0205 - val_loss: 1.5918\n",
            "Epoch 2/50\n",
            "250/250 [==============================] - 43s 170ms/step - loss: 0.0237 - reconstruction_loss: 0.0223 - kl_loss: 0.0014 - val_loss: 1.5705\n",
            "Epoch 3/50\n",
            "250/250 [==============================] - 42s 170ms/step - loss: 0.0229 - reconstruction_loss: 0.0223 - kl_loss: 6.1200e-04 - val_loss: 1.6455\n",
            "Epoch 4/50\n",
            "250/250 [==============================] - 42s 170ms/step - loss: 0.0225 - reconstruction_loss: 0.0222 - kl_loss: 3.5323e-04 - val_loss: 1.7405\n",
            "Epoch 5/50\n",
            "250/250 [==============================] - 43s 171ms/step - loss: 0.0223 - reconstruction_loss: 0.0221 - kl_loss: 2.3183e-04 - val_loss: 1.9053\n",
            "Epoch 6/50\n",
            "250/250 [==============================] - 43s 172ms/step - loss: 0.0223 - reconstruction_loss: 0.0222 - kl_loss: 1.6399e-04 - val_loss: 2.0460\n",
            "Epoch 7/50\n",
            "250/250 [==============================] - 43s 172ms/step - loss: 0.0223 - reconstruction_loss: 0.0221 - kl_loss: 1.2182e-04 - val_loss: 2.2134\n",
            "Epoch 8/50\n",
            "250/250 [==============================] - 43s 171ms/step - loss: 0.0221 - reconstruction_loss: 0.0220 - kl_loss: 9.3644e-05 - val_loss: 2.3234\n",
            "Epoch 9/50\n",
            "250/250 [==============================] - 43s 171ms/step - loss: 0.0221 - reconstruction_loss: 0.0220 - kl_loss: 7.3870e-05 - val_loss: 2.4666\n",
            "Epoch 10/50\n",
            "250/250 [==============================] - 43s 171ms/step - loss: 0.0220 - reconstruction_loss: 0.0220 - kl_loss: 5.9409e-05 - val_loss: 2.6743\n",
            "Epoch 11/50\n",
            "250/250 [==============================] - 43s 170ms/step - loss: 0.0220 - reconstruction_loss: 0.0219 - kl_loss: 4.8501e-05 - val_loss: 2.9353\n",
            "Epoch 12/50\n",
            "250/250 [==============================] - 43s 171ms/step - loss: 0.0220 - reconstruction_loss: 0.0220 - kl_loss: 4.0071e-05 - val_loss: 3.1842\n",
            "Epoch 13/50\n",
            "250/250 [==============================] - 43s 171ms/step - loss: 0.0219 - reconstruction_loss: 0.0219 - kl_loss: 3.3453e-05 - val_loss: 3.4360\n",
            "Epoch 14/50\n",
            "250/250 [==============================] - 43s 171ms/step - loss: 0.0219 - reconstruction_loss: 0.0219 - kl_loss: 2.8150e-05 - val_loss: 3.6983\n",
            "Epoch 15/50\n",
            "250/250 [==============================] - 43s 171ms/step - loss: 0.0219 - reconstruction_loss: 0.0219 - kl_loss: 2.3848e-05 - val_loss: 3.9029\n",
            "Epoch 16/50\n",
            "250/250 [==============================] - 43s 171ms/step - loss: 0.0219 - reconstruction_loss: 0.0219 - kl_loss: 2.0316e-05 - val_loss: 4.1655\n",
            "Epoch 17/50\n",
            "250/250 [==============================] - 43s 170ms/step - loss: 0.0219 - reconstruction_loss: 0.0219 - kl_loss: 1.7389e-05 - val_loss: 4.3371\n",
            "Epoch 18/50\n",
            "250/250 [==============================] - 43s 171ms/step - loss: 0.0219 - reconstruction_loss: 0.0219 - kl_loss: 1.4945e-05 - val_loss: 4.5873\n",
            "Epoch 19/50\n",
            "250/250 [==============================] - 43s 173ms/step - loss: 0.0219 - reconstruction_loss: 0.0218 - kl_loss: 1.2888e-05 - val_loss: 4.8369\n",
            "Epoch 20/50\n",
            "250/250 [==============================] - 43s 171ms/step - loss: 0.0219 - reconstruction_loss: 0.0219 - kl_loss: 1.1144e-05 - val_loss: 5.1118\n",
            "Epoch 21/50\n",
            "250/250 [==============================] - 43s 172ms/step - loss: 0.0219 - reconstruction_loss: 0.0219 - kl_loss: 9.6636e-06 - val_loss: 5.6993\n",
            "Epoch 22/50\n",
            "250/250 [==============================] - 43s 171ms/step - loss: 0.0218 - reconstruction_loss: 0.0218 - kl_loss: 8.3921e-06 - val_loss: 6.0864\n",
            "Epoch 23/50\n",
            "250/250 [==============================] - 43s 170ms/step - loss: 0.0218 - reconstruction_loss: 0.0218 - kl_loss: 7.3022e-06 - val_loss: 6.5923\n",
            "Epoch 24/50\n",
            "250/250 [==============================] - 43s 171ms/step - loss: 0.0219 - reconstruction_loss: 0.0218 - kl_loss: 6.3629e-06 - val_loss: 7.3910\n",
            "Epoch 25/50\n",
            "250/250 [==============================] - 43s 170ms/step - loss: 0.0219 - reconstruction_loss: 0.0219 - kl_loss: 5.5501e-06 - val_loss: 8.4065\n",
            "Epoch 26/50\n",
            "250/250 [==============================] - 43s 170ms/step - loss: 0.0219 - reconstruction_loss: 0.0219 - kl_loss: 4.8420e-06 - val_loss: 9.1880\n",
            "Epoch 27/50\n",
            "250/250 [==============================] - 43s 171ms/step - loss: 0.0219 - reconstruction_loss: 0.0219 - kl_loss: 4.2396e-06 - val_loss: 9.8137\n",
            "Epoch 28/50\n",
            "250/250 [==============================] - 43s 170ms/step - loss: 0.0218 - reconstruction_loss: 0.0218 - kl_loss: 3.7103e-06 - val_loss: 10.5902\n",
            "Epoch 29/50\n",
            "250/250 [==============================] - 43s 171ms/step - loss: 0.0219 - reconstruction_loss: 0.0219 - kl_loss: 3.2527e-06 - val_loss: 11.6028\n",
            "Epoch 30/50\n",
            "250/250 [==============================] - 43s 171ms/step - loss: 0.0218 - reconstruction_loss: 0.0218 - kl_loss: 2.8524e-06 - val_loss: 12.4301\n",
            "Epoch 31/50\n",
            "250/250 [==============================] - 43s 171ms/step - loss: 0.0218 - reconstruction_loss: 0.0218 - kl_loss: 2.5027e-06 - val_loss: 13.2334\n",
            "Epoch 32/50\n",
            "250/250 [==============================] - 43s 171ms/step - loss: 0.0218 - reconstruction_loss: 0.0218 - kl_loss: 2.1989e-06 - val_loss: 14.3521\n",
            "Epoch 33/50\n",
            "250/250 [==============================] - 43s 171ms/step - loss: 0.0219 - reconstruction_loss: 0.0219 - kl_loss: 1.9319e-06 - val_loss: 15.4079\n",
            "Epoch 34/50\n",
            "250/250 [==============================] - 43s 171ms/step - loss: 0.0219 - reconstruction_loss: 0.0219 - kl_loss: 1.7006e-06 - val_loss: 16.8347\n",
            "Epoch 35/50\n",
            "250/250 [==============================] - 43s 171ms/step - loss: 0.0218 - reconstruction_loss: 0.0218 - kl_loss: 1.4899e-06 - val_loss: 18.1926\n",
            "Epoch 36/50\n",
            "250/250 [==============================] - 43s 171ms/step - loss: 0.0218 - reconstruction_loss: 0.0218 - kl_loss: 1.3169e-06 - val_loss: 19.5701\n",
            "Epoch 37/50\n",
            "250/250 [==============================] - 43s 171ms/step - loss: 0.0218 - reconstruction_loss: 0.0218 - kl_loss: 1.1578e-06 - val_loss: 20.7397\n",
            "Epoch 38/50\n",
            "250/250 [==============================] - 43s 171ms/step - loss: 0.0218 - reconstruction_loss: 0.0218 - kl_loss: 1.0162e-06 - val_loss: 21.6962\n",
            "Epoch 39/50\n",
            "250/250 [==============================] - 43s 171ms/step - loss: 0.0219 - reconstruction_loss: 0.0219 - kl_loss: 8.9597e-07 - val_loss: 22.7428\n",
            "Epoch 40/50\n",
            "250/250 [==============================] - 43s 171ms/step - loss: 0.0218 - reconstruction_loss: 0.0218 - kl_loss: 7.9110e-07 - val_loss: 23.8208\n",
            "Epoch 41/50\n",
            "250/250 [==============================] - 43s 171ms/step - loss: 0.0218 - reconstruction_loss: 0.0218 - kl_loss: 6.9393e-07 - val_loss: 26.2375\n",
            "Epoch 42/50\n",
            "250/250 [==============================] - 43s 171ms/step - loss: 0.0218 - reconstruction_loss: 0.0218 - kl_loss: 6.1566e-07 - val_loss: 27.6058\n",
            "Epoch 43/50\n",
            "250/250 [==============================] - 43s 172ms/step - loss: 0.0218 - reconstruction_loss: 0.0218 - kl_loss: 5.4224e-07 - val_loss: 30.1435\n",
            "Epoch 44/50\n",
            "250/250 [==============================] - 43s 171ms/step - loss: 0.0218 - reconstruction_loss: 0.0218 - kl_loss: 4.7432e-07 - val_loss: 32.4405\n",
            "Epoch 45/50\n",
            "250/250 [==============================] - 43s 171ms/step - loss: 0.0219 - reconstruction_loss: 0.0219 - kl_loss: 4.1035e-07 - val_loss: 38.0055\n",
            "Epoch 46/50\n",
            "250/250 [==============================] - 43s 171ms/step - loss: 0.0218 - reconstruction_loss: 0.0218 - kl_loss: 3.6903e-07 - val_loss: 43.0753\n",
            "Epoch 47/50\n",
            "250/250 [==============================] - 43s 171ms/step - loss: 0.0218 - reconstruction_loss: 0.0218 - kl_loss: 3.2486e-07 - val_loss: 46.1245\n",
            "Epoch 48/50\n",
            "250/250 [==============================] - 43s 171ms/step - loss: 0.0218 - reconstruction_loss: 0.0218 - kl_loss: 2.7147e-07 - val_loss: 47.8810\n",
            "Epoch 49/50\n",
            "250/250 [==============================] - 43s 171ms/step - loss: 0.0218 - reconstruction_loss: 0.0218 - kl_loss: 2.4611e-07 - val_loss: 50.3507\n",
            "Epoch 50/50\n",
            "250/250 [==============================] - 43s 171ms/step - loss: 0.0218 - reconstruction_loss: 0.0218 - kl_loss: 2.2897e-07 - val_loss: 52.1256\n"
          ],
          "name": "stdout"
        }
      ]
    },
    {
      "cell_type": "code",
      "metadata": {
        "id": "2EOIKwwPnPgT"
      },
      "source": [
        "with open('/trainHistoryDict', 'wb') as file_pi:\r\n",
        "        pickle.dump(train_history.history, file_pi)"
      ],
      "execution_count": 46,
      "outputs": []
    },
    {
      "cell_type": "code",
      "metadata": {
        "id": "gHZuTNLVjUeh"
      },
      "source": [
        "print(\"----- loss: -----\\n{}\".format(train_history.history[\"loss\"]))\r\n",
        "print(\"----- reconstruction_loss: -----\\n{}\".format(train_history.history[\"reconstruction_loss\"]))\r\n",
        "print(\"----- kl_loss: -----\\n{}\".format(train_history.history[\"kl_loss\"]))\r\n",
        "print(\"----- val_loss: -----\\n{}\".format(train_history.history[\"val_loss\"]))"
      ],
      "execution_count": null,
      "outputs": []
    },
    {
      "cell_type": "markdown",
      "metadata": {
        "id": "ljaYW8HuuHZk"
      },
      "source": [
        "## Recreate Latent Space"
      ]
    },
    {
      "cell_type": "code",
      "metadata": {
        "id": "WYLbwD53cn84",
        "colab": {
          "base_uri": "https://localhost:8080/"
        },
        "outputId": "0323549d-a6dd-4f7c-ffb5-63dddd60984d"
      },
      "source": [
        "# Encoder output is a list [z_mean, z_log_var, z] thus list[2] = z, see subsection encoder line 12\r\n",
        "\r\n",
        "### Extract myu i.e. z_mean\r\n",
        "z_mean = vae.encoder.predict(x_test)[0]\r\n",
        "print(\"----- z_mean: -----\")\r\n",
        "print(z_mean)\r\n",
        "print(\"\\n\")\r\n",
        "\r\n",
        "### Extract sigma i.e. z_log_var\r\n",
        "z_log_var = vae.encoder.predict(x_test)[1]\r\n",
        "print(\"----- z_log_var: -----\")\r\n",
        "print(z_log_var)\r\n",
        "print(\"\\n\")\r\n",
        "\r\n",
        "### Extract z_values and predict x_test\r\n",
        "z_values = vae.encoder.predict(x_test)[2]\r\n",
        "decoded_ecg5000 = vae.decoder.predict(z_values)\r\n",
        "# z_values contains list of each z_value per sample, i.e. we get 1000 SubLists with 5 elements in each.\r\n",
        "# Those 5 elements (z_values for Sample i) is our bottleneck which the decoder recieves.\r\n",
        "print(\"----- z_values: -----\")\r\n",
        "print(z_values)\r\n",
        "print(\"\\n\")\r\n",
        "\r\n",
        "### Save extracted values\r\n",
        "np.savetxt('z_values.csv', z_values, delimiter=\",\")\r\n",
        "np.savetxt('decoded_ecg5000.csv', decoded_ecg5000.reshape(-1,140), delimiter=\",\")\r\n",
        "\r\n",
        "### Properties\r\n",
        "print(\"Shape of z_mean: {}\".format(z_mean.shape))\r\n",
        "print(\"Shape of z_log_var: {}\".format(z_log_var.shape))\r\n",
        "print(\"Shape of z_values: {}\".format(z_values.shape))\r\n",
        "print(\"Shape of decoded_ecg5000: {}\".format(decoded_ecg5000.shape))"
      ],
      "execution_count": 41,
      "outputs": [
        {
          "output_type": "stream",
          "text": [
            "----- z_mean: -----\n",
            "[[0.00046539 0.00035716 0.00043944 0.00044233 0.00043497]\n",
            " [0.00046539 0.00035716 0.00043944 0.00044233 0.00043497]\n",
            " [0.00046539 0.00035716 0.00043944 0.00044233 0.00043497]\n",
            " ...\n",
            " [0.00046539 0.00035716 0.00043944 0.00044233 0.00043497]\n",
            " [0.00046539 0.00035716 0.00043944 0.00044233 0.00043497]\n",
            " [0.00046539 0.00035716 0.00043944 0.00044233 0.00043497]]\n",
            "\n",
            "\n",
            "----- z_log_var: -----\n",
            "[[0.00077651 0.00094289 0.00059333 0.00031737 0.00053285]\n",
            " [0.00077651 0.00094289 0.00059333 0.00031737 0.00053285]\n",
            " [0.00077651 0.00094289 0.00059333 0.00031737 0.00053285]\n",
            " ...\n",
            " [0.00077651 0.00094289 0.00059333 0.00031737 0.00053285]\n",
            " [0.00077651 0.00094289 0.00059333 0.00031737 0.00053285]\n",
            " [0.00077651 0.00094289 0.00059333 0.00031737 0.00053285]]\n",
            "\n",
            "\n",
            "----- z_values: -----\n",
            "[[ 0.20380375  0.6399358   0.38999256 -0.00619656 -0.10098211]\n",
            " [ 0.5388752  -0.48438606 -1.4455189  -1.103682   -0.6256915 ]\n",
            " [-0.29301772  0.09476595  0.4115037  -0.01394141  1.0496527 ]\n",
            " ...\n",
            " [ 0.58263683  1.1675351  -0.45651546  0.08122845  2.0533042 ]\n",
            " [-0.02150868  0.05031112 -0.4814062   0.2833812   0.31113228]\n",
            " [-0.87130004  0.08765991  0.2690378  -0.54688764 -0.44313395]]\n",
            "\n",
            "\n",
            "Shape of z_mean: (1000, 5)\n",
            "Shape of z_log_var: (1000, 5)\n",
            "Shape of z_values: (1000, 5)\n",
            "Shape of decoded_ecg5000: (1000, 140, 1)\n"
          ],
          "name": "stdout"
        }
      ]
    },
    {
      "cell_type": "markdown",
      "metadata": {
        "id": "LNfzqeVE2N7J"
      },
      "source": [
        "## Display the training progress"
      ]
    },
    {
      "cell_type": "code",
      "metadata": {
        "id": "53ufa2OwJIVe",
        "colab": {
          "base_uri": "https://localhost:8080/",
          "height": 409
        },
        "outputId": "e36620f2-6b50-4f27-af04-a8d9d5d3a5b1"
      },
      "source": [
        "### Loss vs Reconstruction_loss vs KL Divergence\r\n",
        "plt.figure(figsize=(16,6))\r\n",
        "plt.plot(train_history.history['loss'])\r\n",
        "plt.plot(train_history.history['reconstruction_loss'])\r\n",
        "plt.plot(train_history.history['kl_loss'])\r\n",
        "plt.legend([\"Loss\", \"Reconstruction Loss\", \"KL Divergence\"])\r\n",
        "plt.xlabel(\"Epoch\")\r\n",
        "plt.title(\"Loss vs. Reconstruction Loss vs. KL Divergence\")\r\n",
        "\r\n",
        "plt.savefig('loss.png')"
      ],
      "execution_count": 42,
      "outputs": [
        {
          "output_type": "display_data",
          "data": {
            "image/png": "[encoded data removed]",
            "text/plain": [
              "<Figure size 1152x432 with 1 Axes>"
            ]
          },
          "metadata": {
            "tags": []
          }
        }
      ]
    },
    {
      "cell_type": "code",
      "metadata": {
        "id": "tcIrsjRDYOiI",
        "colab": {
          "base_uri": "https://localhost:8080/",
          "height": 410
        },
        "outputId": "55fc80a4-b4f2-47b7-eed3-310f915ffdc7"
      },
      "source": [
        "### Train loss vs val loss\r\n",
        "# Returns the loss value & metrics values for the model in test mode\r\n",
        "plt.figure(figsize=(16,6))\r\n",
        "plt.plot(train_history.history['loss'])\r\n",
        "plt.plot(train_history.history['val_loss'])\r\n",
        "plt.legend([\"Loss\", \"Validation Loss\"])\r\n",
        "plt.xlabel(\"Epoch\")\r\n",
        "plt.title(\"Loss vs. Validation Loss\")\r\n",
        "\r\n",
        "plt.savefig('valLoss.png')"
      ],
      "execution_count": 43,
      "outputs": [
        {
          "output_type": "display_data",
          "data": {
            "image/png": "[encoded data removed]",
            "text/plain": [
              "<Figure size 1152x432 with 1 Axes>"
            ]
          },
          "metadata": {
            "tags": []
          }
        }
      ]
    },
    {
      "cell_type": "code",
      "metadata": {
        "id": "hSBgUNCkM05C"
      },
      "source": [
        "#########################################################To-Do\r\n",
        "### Latent space\r\n",
        "# x,y Plot\r\n",
        "plt.figure(figsize=(12,5), linewidth=1)\r\n",
        "plt.plot(z_values[:,0], 'o')\r\n",
        "plt.plot(z_values[:,1], '+')\r\n",
        "plt.show()\r\n",
        "# Scatterplot\r\n",
        "plt.figure(figsize=(9,6))\r\n",
        "plt.scatter(z_values[:,0], z_values[:,1], s=80, c=y_test, cmap='viridis') # or cmap=hsv\r\n",
        "plt.colorbar()\r\n",
        "plt.grid()\r\n",
        "plt.show()"
      ],
      "execution_count": null,
      "outputs": []
    },
    {
      "cell_type": "markdown",
      "metadata": {
        "id": "UJ8dyTK6kNNQ"
      },
      "source": [
        "# Plot Data Results\n",
        "\n",
        "---\n",
        "\n"
      ]
    },
    {
      "cell_type": "code",
      "metadata": {
        "id": "DIfVmINR3lji"
      },
      "source": [
        "### Test if Input fits Dim of Output\n",
        "print(\"Shape of x_train: {}\".format(x_train.shape))\n",
        "print(\"Shape of decoded_ecg5000: {}\".format(decoded_ecg5000.shape))\n",
        "\n",
        "### Covert to 2D Array -- (\"-1\" = make a dimension (here rows) the size that will use the remaining unspecified elements)\n",
        "new_x_train= x_train.reshape(-1,140)\n",
        "new_decoded_ecg5000 = decoded_ecg5000.reshape(-1,140)\n",
        "\n",
        "print(\"Shape of Input after reshaping: {}\".format(new_x_train.shape))\n",
        "print(\"Shape of Output after reshaping: {}\".format(new_decoded_ecg5000.shape))"
      ],
      "execution_count": null,
      "outputs": []
    },
    {
      "cell_type": "code",
      "metadata": {
        "id": "YG129YUrHGyU"
      },
      "source": [
        "# ### Plot for figure for paper\r\n",
        "# i = 934 # indize/sample which is going to be plotted\r\n",
        "# plt.figure(linewidth = 1, figsize=(25,6))\r\n",
        "# plt.xlabel('time steps')\r\n",
        "# plt.plot(new_x_train[i])\r\n",
        "# plt.show()\r\n",
        "# plt.savefig('diagramm_original.jpg')\r\n",
        "\r\n",
        "# plt.figure(linewidth = 1, figsize=(25,6))\r\n",
        "# plt.xlabel('time steps')\r\n",
        "# plt.plot(new_decoded_ecg5000[i], label='decoded ecg5000')\r\n",
        "# plt.show()\r\n",
        "# plt.savefig('diagramm_decoded.jpg')"
      ],
      "execution_count": null,
      "outputs": []
    },
    {
      "cell_type": "code",
      "metadata": {
        "id": "vGvzjGwcJi1B"
      },
      "source": [
        "### Plot only one sample\r\n",
        "i = 934 # indize/sample which is going to be plotted\r\n",
        "plt.figure(linewidth = 1, figsize=(20,6))\r\n",
        "plt.title('Autoencoder Result')\r\n",
        "plt.xlabel('time steps')\r\n",
        "plt.plot(new_x_train[i], label='original ecg5000')\r\n",
        "plt.plot(new_decoded_ecg5000[i], label='decoded ecg5000')\r\n",
        "plt.legend(loc=\"upper left\")\r\n",
        "plt.show()"
      ],
      "execution_count": null,
      "outputs": []
    },
    {
      "cell_type": "code",
      "metadata": {
        "id": "AwjUjaCtkSpW"
      },
      "source": [
        "### Plot Multiple Samples\n",
        "n_rows = 2                   \n",
        "n_cols = 3\n",
        "\n",
        "# Size Properties and layout design for tighter representation\n",
        "fig, axs = plt.subplots(nrows = n_rows, ncols = n_cols, figsize=(20,7))\n",
        "fig.tight_layout(w_pad=4, h_pad = 5)\n",
        "\n",
        "# Subplotting\n",
        "i = 50\n",
        "for row in range(n_rows):\n",
        "  for col in range(n_cols):\n",
        "    axs[row, col].plot(new_x_train[i])\n",
        "    axs[row, col].plot(new_decoded_ecg5000[i])\n",
        "    axs[row, col].legend([\"Original ECG5000 Sample {}\".format(i), \"Decoded ECG5000 Sample {}\".format(i)])\n",
        "    axs[row, col].set(xlabel = \"Time Steps\", ylabel = \"Heartbeat Interpolated\", title = \"Sample {}\".format(i))\n",
        "    i = i + 75\n",
        "\n",
        "plt.savefig('dataComparison.png')"
      ],
      "execution_count": null,
      "outputs": []
    },
    {
      "cell_type": "markdown",
      "metadata": {
        "id": "unWrNuYBc71O"
      },
      "source": [
        "# Optimization\r\n",
        "\r\n",
        "---"
      ]
    },
    {
      "cell_type": "markdown",
      "metadata": {
        "id": "XX8k4aeUCx3k"
      },
      "source": [
        "## Hyperparameter (Sckit_GridSearchCV)"
      ]
    },
    {
      "cell_type": "code",
      "metadata": {
        "id": "ywVsad-OqE7a"
      },
      "source": [
        "from sklearn.model_selection import RandomizedSearchCV\r\n",
        "from keras.wrappers.scikit_learn import KerasRegressor\r\n",
        "from sklearn.metrics import mean_squared_error, make_scorer"
      ],
      "execution_count": null,
      "outputs": []
    },
    {
      "cell_type": "code",
      "metadata": {
        "id": "x3NsIDD4dWHN"
      },
      "source": [
        "### Define scorer\r\n",
        "def score_mse(y_true, y_pred): # , **kwargs\r\n",
        "    \"\"\"Implementing mean squarred error as a score for RandomizedSearchCV.\"\"\"\r\n",
        "\r\n",
        "    y_pred = tf.convert_to_tensor(y_pred)\r\n",
        "    y_true = tf.cast(y_true, y_pred.dtype)\r\n",
        "    # removing all size 1 dimensions in y_true\r\n",
        "    y_true = tf.squeeze(y_true)\r\n",
        "    return np.mean(tf.math.squared_difference(y_pred, y_true))\r\n",
        "\r\n",
        "### Define Function to randomizedSearch \r\n",
        "def randomizedSearch_pipeline(x_train_data, x_test_data, model, space, n_iter=10, scoring_fit='neg_mean_squared_error', cv=5, do_probabilities = False):\r\n",
        "    \"\"\"Pipeline for RandomizedSearchCV: Select settings and run randomizedSearchCV, returning results.\"\"\"\r\n",
        "    # define randomizedSearch\r\n",
        "    rs = RandomizedSearchCV(\r\n",
        "        estimator=model,\r\n",
        "        param_distributions=space, \r\n",
        "        n_iter=n_iter,\r\n",
        "        scoring=scoring_fit,\r\n",
        "        n_jobs=1, \r\n",
        "        cv=cv, \r\n",
        "        verbose=2, \r\n",
        "        random_state=1,\r\n",
        "    )\r\n",
        "    # fit model\r\n",
        "    fitted_model = rs.fit(x_train_data, x_train_data, verbose=0)\r\n",
        "    # get results\r\n",
        "    rs_result = pd.DataFrame(rs.cv_results_)\r\n",
        "    # save compromised version of the results\r\n",
        "    min_rs_results = pd.concat([pd.DataFrame(rs.cv_results_[\"mean_test_score\"], columns=[\"score\"]),\r\n",
        "                                pd.DataFrame(rs.cv_results_[\"params\"])], axis=1)\r\n",
        "    min_rs_results = min_rs_results.sort_values(by=\"score\", ascending=False)\r\n",
        "    min_rs_results.to_latex(buf='randomizedSearchResults.tex', caption=(\"Results of 20 candiates using a cross-validation of 5\", \"Randomized Search Results\"), label='table:1')\r\n",
        "    \r\n",
        "    if do_probabilities:\r\n",
        "      pred = fitted_model.predict_proba(x_test_data)\r\n",
        "    else:\r\n",
        "      pred = fitted_model.predict(x_test_data)\r\n",
        "    \r\n",
        "    return fitted_model, pred, rs_result"
      ],
      "execution_count": null,
      "outputs": []
    },
    {
      "cell_type": "code",
      "metadata": {
        "id": "tL_QfMgwCxfi"
      },
      "source": [
        "### Define evaluated params and it's value range\r\n",
        "space = {\r\n",
        "        #'epochs' :              [20, 50],\r\n",
        "        #'batch_size' :          [16, 32],\r\n",
        "        #'activation' :          ['tanh'],\r\n",
        "        'dropout_rate' :        [0.2, 0.3, 0.5],\r\n",
        "        'regulazier_rate' :     [0.001,0.004],\r\n",
        "        'optimizer' :           ['adam', 'SGD'],\r\n",
        "        'learn_rate' :          [0.001, 0.01],\r\n",
        "        }\r\n",
        "\r\n",
        "### Wrap keras custom VAE model with the KerasClassifier thus it implements estimator interface\r\n",
        "model = KerasRegressor(build_fn=create_model)\r\n",
        "\r\n",
        "### Run RandomizedSearch\r\n",
        "#m=make_scorer(mean_squared, greater_is_better=False)\r\n",
        "fitted_model, pred, rs_result = randomizedSearch_pipeline(x_train, x_test, model, space, n_iter=20, scoring_fit=make_scorer(score_mse, greater_is_better=False))"
      ],
      "execution_count": null,
      "outputs": []
    },
    {
      "cell_type": "code",
      "metadata": {
        "id": "FjSWb0ldkIay"
      },
      "source": [
        "### Summarize results\r\n",
        "print(\"----- Results RandomizedSearchCV: -----\\n\" + \"Best: {} using {}\\n\".format(fitted_model.best_score_, fitted_model.best_params_))\r\n",
        "# pd.set_option(\"display.max_rows\", None, \"display.max_columns\", None)\r\n",
        "# pd.reset_option('all')\r\n",
        "print(\"Summary:\\n {}\".format(rs_result))"
      ],
      "execution_count": null,
      "outputs": []
    },
    {
      "cell_type": "markdown",
      "metadata": {
        "id": "VfBqVOpmdGJl"
      },
      "source": [
        "## Dropout"
      ]
    },
    {
      "cell_type": "code",
      "metadata": {
        "id": "mZDGEMffcg0O"
      },
      "source": [
        "###Dropout_rate\r\n",
        "\r\n",
        "# configure the experiment\r\n",
        "def experiment_dropout():\r\n",
        "  # configure the experiment\r\n",
        "  n_dropout = [0.0, 0.2, 0.4, 0.6, 0.8]\r\n",
        "  # run the experiment\r\n",
        "  results = []\r\n",
        "  for drop_value in n_dropout:\r\n",
        "      # set dropout\r\n",
        "      drop_out_rate = drop_value\r\n",
        "      print(\"----- Dropout Rate: {} -----\".format(drop_out_rate))\r\n",
        "      # evaluate\r\n",
        "      # rather shorten code with defining a train function of code above and using it here\r\n",
        "      vae = VAE(encoder, decoder, name=\"VAE\")\r\n",
        "      vae.compile(optimizer='adam', loss='mean_squared_error')\r\n",
        "      history = vae.fit(x_train, y_train, epochs=epochs, batch_size=batch_size, validation_data=(x_test, y_test), verbose=0)\r\n",
        "      # report performance\r\n",
        "      # rathr make a dataframe or something different which is simpler to plot\r\n",
        "      evaluation = []\r\n",
        "      evaluation.append(vae.evaluate(x_test, y_test))\r\n",
        "      evaluation.append(drop_value)\r\n",
        "\r\n",
        "      res = []\r\n",
        "      res.append(history.history[\"val_loss\"])\r\n",
        "      print(\"val_loss = {}\".format(res))\r\n",
        "      results.append(evaluation)\r\n",
        "  return results"
      ],
      "execution_count": null,
      "outputs": []
    },
    {
      "cell_type": "code",
      "metadata": {
        "id": "wfM-TqopGGUu"
      },
      "source": [
        "results = experiment_dropout()\r\n",
        "# summarize results\r\n",
        "print(results)"
      ],
      "execution_count": null,
      "outputs": []
    }
  ]
}