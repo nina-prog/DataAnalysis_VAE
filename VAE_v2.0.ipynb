{
  "nbformat": 4,
  "nbformat_minor": 0,
  "metadata": {
    "colab": {
      "name": "VAE_v1_1.ipynb",
      "provenance": [],
      "collapsed_sections": [],
      "toc_visible": true,
      "include_colab_link": true
    },
    "kernelspec": {
      "name": "python3",
      "display_name": "Python 3"
    },
    "accelerator": "GPU"
  },
  "cells": [
    {
      "cell_type": "markdown",
      "metadata": {
        "id": "view-in-github",
        "colab_type": "text"
      },
      "source": [
        "<a href=\"https://colab.research.google.com/github/nina-prog/DataAnalysis_VAE/blob/main/VAE_v2.0.ipynb\" target=\"_parent\"><img src=\"https://colab.research.google.com/assets/colab-badge.svg\" alt=\"Open In Colab\"/></a>"
      ]
    },
    {
      "cell_type": "code",
      "metadata": {
        "id": "srk9OHyCZDzL"
      },
      "source": [
        "import numpy as np\n",
        "import pandas as pd\n",
        "pd.options.mode.chained_assignment = None  # default='warn'\n",
        "\n",
        "import tensorflow as tf\n",
        "from tensorflow import keras\n",
        "from tensorflow.keras import layers\n",
        "from tensorflow.keras.layers import LSTM, Dense, TimeDistributed, Bidirectional, Dropout, Reshape, Flatten\n",
        "from tensorflow.keras.utils import plot_model\n",
        "from tensorflow.keras.regularizers import l2\n",
        "from tensorflow.keras.optimizers import SGD, Adam\n",
        "from tensorflow.keras.wrappers.scikit_learn import KerasRegressor\n",
        "\n",
        "from sklearn.model_selection import train_test_split\n",
        "from sklearn.preprocessing import MinMaxScaler\n",
        "from sklearn.preprocessing import StandardScaler\n",
        "from sklearn.decomposition import PCA\n",
        "from sklearn.model_selection import RandomizedSearchCV\n",
        "from sklearn.metrics import make_scorer\n",
        "\n",
        "import matplotlib.pyplot as plt\n",
        "import seaborn as sns\n",
        "import pickle\n",
        "\n",
        "### set plot design\n",
        "sns.set()\n",
        "sns.set_palette(sns.color_palette(\"Set1\"))  # tab10 #viridis\n",
        "# sns.set_style(\"whitegrid\")\n",
        "sns.set_context(\"paper\")\n",
        "\n",
        "### set seed\n",
        "tf.random.set_seed(7)"
      ],
      "execution_count": 43,
      "outputs": []
    },
    {
      "cell_type": "markdown",
      "metadata": {
        "id": "wcUlg_PrMiyC"
      },
      "source": [
        "# Data Preprocessing\n",
        "\n",
        "---\n",
        "\n"
      ]
    },
    {
      "cell_type": "markdown",
      "metadata": {
        "id": "Qk9i4M00iwYs"
      },
      "source": [
        "## Load Data"
      ]
    },
    {
      "cell_type": "code",
      "metadata": {
        "id": "IcrTqGPsZceo"
      },
      "source": [
        "### Load ecg5000 data using read_csv\n",
        "ecg5000 = pd.read_csv('ECG5000_ALL.txt', sep='\\s+', header=None)"
      ],
      "execution_count": 44,
      "outputs": []
    },
    {
      "cell_type": "code",
      "metadata": {
        "id": "QdbiFe4pZlQv",
        "colab": {
          "base_uri": "https://localhost:8080/"
        },
        "outputId": "7764e1a6-62a1-4e69-d973-238be479e0e9"
      },
      "source": [
        "### Optional test and info about data set\n",
        "print(\"Type of ecg5000: \\t \\t {}\".format(type(ecg5000)))\n",
        "print(\"Dimensions of ecg5000: \\t \\t {}\".format(ecg5000.shape))\n",
        "print(\"Number of elements of ecg5000: \\t {}\".format((ecg5000.size)))\n",
        "print(\"Display first 10 rows of ecg5000: \\n {}\".format(ecg5000.head(10)))"
      ],
      "execution_count": 45,
      "outputs": [
        {
          "output_type": "stream",
          "text": [
            "Type of ecg5000: \t \t <class 'pandas.core.frame.DataFrame'>\n",
            "Dimensions of ecg5000: \t \t (5000, 141)\n",
            "Number of elements of ecg5000: \t 705000\n",
            "Display first 10 rows of ecg5000: \n",
            "    0         1         2         3    ...       137       138       139       140\n",
            "0  1.0 -0.112522 -2.827204 -3.773897  ...  0.228077  0.123431  0.925286  0.193137\n",
            "1  1.0 -1.100878 -3.996840 -4.285843  ...  0.476333  0.773820  1.119621 -1.436250\n",
            "2  1.0 -0.567088 -2.593450 -3.874230  ... -0.532197  0.321097  0.904227 -0.421797\n",
            "3  1.0  0.490473 -1.914407 -3.616364  ...  0.990133  1.086798  1.403011 -0.383564\n",
            "4  1.0  0.800232 -0.874252 -2.384761  ...  0.960304  0.971020  1.614392  1.421456\n",
            "5  1.0 -1.507674 -3.574550 -4.478011  ...  1.007076  1.634990  1.493366 -0.783134\n",
            "6  1.0 -0.297161 -2.766635 -4.102185  ...  0.974787  1.110407  1.288165 -0.823386\n",
            "7  1.0  0.446769 -1.507397 -3.187468  ...  1.034388  1.258433  0.961215 -0.999476\n",
            "8  1.0  0.087631 -1.753490 -3.304473  ...  0.573453  0.192971 -0.648683 -2.441068\n",
            "9  1.0 -0.832281 -1.700368 -2.257301  ...  2.126372  2.126852  1.679299  0.965814\n",
            "\n",
            "[10 rows x 141 columns]\n"
          ],
          "name": "stdout"
        }
      ]
    },
    {
      "cell_type": "code",
      "metadata": {
        "id": "WCvRjcSqjFED"
      },
      "source": [
        "# ### Normalize dataframe with min-max-normalization to range between [-0.8, 0.8] using sklearn MinMaxScaler\n",
        "# min_max_scaler = MinMaxScaler(feature_range=(-0.8,0.8))\n",
        "# scaled_ecg5000 = pd.DataFrame(min_max_scaler.fit_transform(ecg5000))\n",
        "# print(scaled_ecg5000)"
      ],
      "execution_count": 46,
      "outputs": []
    },
    {
      "cell_type": "markdown",
      "metadata": {
        "id": "v1Qxc-o8i2cV"
      },
      "source": [
        "## Split Data"
      ]
    },
    {
      "cell_type": "code",
      "metadata": {
        "id": "0FuU0-HYavQx",
        "colab": {
          "base_uri": "https://localhost:8080/"
        },
        "outputId": "7f1c5fe5-713d-4e22-82ef-cb491274c926"
      },
      "source": [
        "### Split Data into 80/20 Training, Test\n",
        "trainDF, testDF = train_test_split(ecg5000, test_size=0.2, shuffle=True, random_state=1)\n",
        "\n",
        "# get all labels from trainDF and then drop it\n",
        "trainDF_Y = trainDF.iloc[:,0]\n",
        "trainDF.drop(trainDF.columns[[0]], axis=1, inplace=True)\n",
        "\n",
        "# get all labels from testDF and then drop it\n",
        "testDF_Y = testDF.iloc[:,0]\n",
        "testDF.drop(testDF.columns[[0]], axis=1, inplace=True)\n",
        "\n",
        "# optional test and info about new data sets\n",
        "print(\"Shape of Train DataFrame: \\t {}\".format(trainDF.shape))\n",
        "print(\"Shape of Test DataFrame: \\t {}\".format(testDF.shape))\n",
        "print(\"Shape of Train Y DataFrame: \\t {}\".format(trainDF_Y.shape))\n",
        "print(\"Shape of Test Y DataFrame: \\t {}\".format(testDF_Y.shape))"
      ],
      "execution_count": 47,
      "outputs": [
        {
          "output_type": "stream",
          "text": [
            "Shape of Train DataFrame: \t (4000, 140)\n",
            "Shape of Test DataFrame: \t (1000, 140)\n",
            "Shape of Train Y DataFrame: \t (4000,)\n",
            "Shape of Test Y DataFrame: \t (1000,)\n"
          ],
          "name": "stdout"
        }
      ]
    },
    {
      "cell_type": "markdown",
      "metadata": {
        "id": "MqDAiFlPipdc"
      },
      "source": [
        "## Reshape Data"
      ]
    },
    {
      "cell_type": "code",
      "metadata": {
        "id": "stkCjqkHiHBo",
        "colab": {
          "base_uri": "https://localhost:8080/"
        },
        "outputId": "dbdc34a1-8464-4c27-d095-1ee546abec98"
      },
      "source": [
        "### Convert to array\n",
        "x_train = trainDF.to_numpy()\n",
        "x_test = testDF.to_numpy()\n",
        "\n",
        "y_train = trainDF_Y.to_numpy()\n",
        "y_test = testDF_Y.to_numpy()\n",
        "\n",
        "### Reshape datasets X/Y train/test into [samples, time steps, features]\n",
        "s_x_train = len(trainDF.index)  # samples\n",
        "n_x_train = len(trainDF.columns)  # time steps\n",
        "\n",
        "s_x_test = len(testDF.index)  # samples\n",
        "n_x_test = len(testDF.columns)  # time steps\n",
        "\n",
        "s_y_train = len(trainDF_Y.index)  # samples\n",
        "\n",
        "s_y_test = len(testDF_Y.index)  # samples\n",
        "\n",
        "x_train = x_train.reshape(s_x_train, n_x_train, 1)\n",
        "x_test = x_test.reshape(s_x_test, n_x_test, 1)\n",
        "\n",
        "y_train = y_train.reshape(s_y_train, 1, 1)\n",
        "y_test = y_test.reshape(s_y_test, 1, 1)\n",
        "\n",
        "### Properties\n",
        "print(\"Shape of x_train: {}\".format(x_train.shape))\n",
        "print(\"Shape of x_test: {}\".format(x_test.shape))\n",
        "\n",
        "print(\"Shape of y_train: {}\".format(y_train.shape))\n",
        "print(\"Shape of y_test: {}\".format(y_test.shape))"
      ],
      "execution_count": 48,
      "outputs": [
        {
          "output_type": "stream",
          "text": [
            "Shape of x_train: (4000, 140, 1)\n",
            "Shape of x_test: (1000, 140, 1)\n",
            "Shape of y_train: (4000, 1, 1)\n",
            "Shape of y_test: (1000, 1, 1)\n"
          ],
          "name": "stdout"
        }
      ]
    },
    {
      "cell_type": "markdown",
      "metadata": {
        "id": "FeXLn2bUYa7g"
      },
      "source": [
        "# Sampling\r\n",
        "\r\n",
        "---\r\n",
        "\r\n"
      ]
    },
    {
      "cell_type": "code",
      "metadata": {
        "id": "BuO7o5GGYg3y"
      },
      "source": [
        "class Sampling(layers.Layer):\r\n",
        "    \"\"\"Uses (z_mean, z_log_var) to sample z\"\"\"\r\n",
        "\r\n",
        "    def call(self, inputs):\r\n",
        "        z_mean, z_log_var = inputs\r\n",
        "        batch = tf.shape(z_mean)[0]\r\n",
        "        dim = tf.shape(z_mean)[1]\r\n",
        "        epsilon = tf.keras.backend.random_normal(shape=(batch, dim))\r\n",
        "        return z_mean + tf.exp(0.5 * z_log_var) * epsilon"
      ],
      "execution_count": 49,
      "outputs": []
    },
    {
      "cell_type": "markdown",
      "metadata": {
        "id": "4F9x-KyKM4NJ"
      },
      "source": [
        "# Build Variational Autoencoder (VAE)\n",
        "\n",
        "---\n",
        "\n"
      ]
    },
    {
      "cell_type": "markdown",
      "metadata": {
        "id": "6hcpCe0zGwQl"
      },
      "source": [
        "## Encoder"
      ]
    },
    {
      "cell_type": "code",
      "metadata": {
        "id": "4194a4eCBSh5"
      },
      "source": [
        "def create_encoder(intermediate_dim=140, latent_dim=5, dropout_rate=0.2, regularizer_rate=0.004):\r\n",
        "    \"\"\"Maps ECG5000 time series to a triplet (z_mean, z_log_var, z).\"\"\"\r\n",
        "\r\n",
        "    ### Define Layers\r\n",
        "    encoder_inputs = keras.Input(shape=(140, 1), name='Encoder_Input_layer')\r\n",
        "\r\n",
        "    encoded = Bidirectional(LSTM(intermediate_dim, activation='tanh', name=''), name='Encode_1')(encoder_inputs)\r\n",
        "    # encoded = Flatten()(encoded), LSTM return_sequence=True\r\n",
        "    encoded = Dropout(dropout_rate, name='Dropout_1')(encoded)\r\n",
        "    encoded = Dense(latent_dim, activation='tanh', name='Encode_2', kernel_regularizer=l2(regularizer_rate),\r\n",
        "                    activity_regularizer=l2(regularizer_rate))(encoded)\r\n",
        "\r\n",
        "    z_mean = Dense(latent_dim, activation='softplus', name=\"z_mean\")(encoded)\r\n",
        "    z_log_var = Dense(latent_dim, activation='softplus', name=\"z_log_var\")(encoded)\r\n",
        "    z = Sampling(name='Sample_layer')([z_mean, z_log_var])\r\n",
        "\r\n",
        "    ### Instantiate encoder\r\n",
        "    encoder = keras.Model(encoder_inputs, [z_mean, z_log_var, z], name=\"encoder\")\r\n",
        "\r\n",
        "    return encoder"
      ],
      "execution_count": 50,
      "outputs": []
    },
    {
      "cell_type": "code",
      "metadata": {
        "id": "WCpMI6C0Diyv",
        "colab": {
          "base_uri": "https://localhost:8080/"
        },
        "outputId": "c1330c0a-3de0-495c-80ba-a989fbd43ecc"
      },
      "source": [
        "### Check if encoder works\r\n",
        "encoder_test = create_encoder() \r\n",
        "encoder_test.summary()"
      ],
      "execution_count": 51,
      "outputs": [
        {
          "output_type": "stream",
          "text": [
            "Model: \"encoder\"\n",
            "__________________________________________________________________________________________________\n",
            "Layer (type)                    Output Shape         Param #     Connected to                     \n",
            "==================================================================================================\n",
            "Encoder_Input_layer (InputLayer [(None, 140, 1)]     0                                            \n",
            "__________________________________________________________________________________________________\n",
            "Encode_1 (Bidirectional)        (None, 280)          159040      Encoder_Input_layer[0][0]        \n",
            "__________________________________________________________________________________________________\n",
            "Dropout_1 (Dropout)             (None, 280)          0           Encode_1[0][0]                   \n",
            "__________________________________________________________________________________________________\n",
            "Encode_2 (Dense)                (None, 5)            1405        Dropout_1[0][0]                  \n",
            "__________________________________________________________________________________________________\n",
            "z_mean (Dense)                  (None, 5)            30          Encode_2[0][0]                   \n",
            "__________________________________________________________________________________________________\n",
            "z_log_var (Dense)               (None, 5)            30          Encode_2[0][0]                   \n",
            "__________________________________________________________________________________________________\n",
            "Sample_layer (Sampling)         (None, 5)            0           z_mean[0][0]                     \n",
            "                                                                 z_log_var[0][0]                  \n",
            "==================================================================================================\n",
            "Total params: 160,505\n",
            "Trainable params: 160,505\n",
            "Non-trainable params: 0\n",
            "__________________________________________________________________________________________________\n"
          ],
          "name": "stdout"
        }
      ]
    },
    {
      "cell_type": "markdown",
      "metadata": {
        "id": "Z_PrqOCOG244"
      },
      "source": [
        "## Decoder"
      ]
    },
    {
      "cell_type": "code",
      "metadata": {
        "id": "sxnUeH7FBJVH"
      },
      "source": [
        "def create_decoder(encoding_dim=140, intermediate_dim=140, latent_dim=5, dropout_rate=0.2,\r\n",
        "                   regularizer_rate=0.004):\r\n",
        "    \"\"\"Converts z, the encoded time series, back into a readable time series.\"\"\"\r\n",
        "\r\n",
        "    ### Define Layers\r\n",
        "    latent_inputs = keras.Input(shape=(latent_dim,), name='Decoder_Input_layer')\r\n",
        "\r\n",
        "    decoded = Dense(encoding_dim * 256, activation='tanh', name='Decode_1', kernel_regularizer=l2(regularizer_rate),\r\n",
        "                    activity_regularizer=l2(regularizer_rate))(latent_inputs)\r\n",
        "    decoded = Reshape((140, 256), name='Decode_2')(decoded)\r\n",
        "    decoded = Dropout(dropout_rate, name='Dropout_1')(decoded)\r\n",
        "    decoded = Bidirectional(LSTM(intermediate_dim, activation='tanh', return_sequences=True, name=''), name='Decode_3')(\r\n",
        "         decoded)\r\n",
        "\r\n",
        "    decoder_outputs = TimeDistributed(Dense(1, activation='linear', name=''), name='Decoder_Output_Layer')(decoded)\r\n",
        "\r\n",
        "    ### Instantiate decoder\r\n",
        "    decoder = keras.Model(latent_inputs, decoder_outputs, name=\"decoder\")\r\n",
        "\r\n",
        "    return decoder\r\n"
      ],
      "execution_count": 52,
      "outputs": []
    },
    {
      "cell_type": "code",
      "metadata": {
        "id": "tHOP8O9gFoR8",
        "colab": {
          "base_uri": "https://localhost:8080/"
        },
        "outputId": "b47b699f-8593-4b10-c2fb-d99f0e671c5f"
      },
      "source": [
        "### Check if decoder works\r\n",
        "decoder_test = create_decoder()\r\n",
        "decoder_test.summary()"
      ],
      "execution_count": 53,
      "outputs": [
        {
          "output_type": "stream",
          "text": [
            "Model: \"decoder\"\n",
            "_________________________________________________________________\n",
            "Layer (type)                 Output Shape              Param #   \n",
            "=================================================================\n",
            "Decoder_Input_layer (InputLa [(None, 5)]               0         \n",
            "_________________________________________________________________\n",
            "Decode_1 (Dense)             (None, 35840)             215040    \n",
            "_________________________________________________________________\n",
            "Decode_2 (Reshape)           (None, 140, 256)          0         \n",
            "_________________________________________________________________\n",
            "Dropout_1 (Dropout)          (None, 140, 256)          0         \n",
            "_________________________________________________________________\n",
            "Decode_3 (Bidirectional)     (None, 140, 280)          444640    \n",
            "_________________________________________________________________\n",
            "Decoder_Output_Layer (TimeDi (None, 140, 1)            281       \n",
            "=================================================================\n",
            "Total params: 659,961\n",
            "Trainable params: 659,961\n",
            "Non-trainable params: 0\n",
            "_________________________________________________________________\n"
          ],
          "name": "stdout"
        }
      ]
    },
    {
      "cell_type": "markdown",
      "metadata": {
        "id": "RAKUqMR8oSm6"
      },
      "source": [
        "## VAE"
      ]
    },
    {
      "cell_type": "markdown",
      "metadata": {
        "id": "aNwUKMjdFM_L"
      },
      "source": [
        "### Define VAE Model"
      ]
    },
    {
      "cell_type": "code",
      "metadata": {
        "id": "v9hxGlDYBBKV"
      },
      "source": [
        "class VAE(keras.Model):\r\n",
        "    \"\"\"Combines the encoder and decoder into an end-to-end model for training.\"\"\"\r\n",
        "\r\n",
        "    def __init__(self, encoder, decoder, **kwargs):\r\n",
        "        super(VAE, self).__init__(**kwargs)\r\n",
        "        self.encoder = encoder\r\n",
        "        self.decoder = decoder\r\n",
        "\r\n",
        "    def train_step(self, data):\r\n",
        "        # unpack the data\r\n",
        "        if isinstance(data, tuple):\r\n",
        "            data = data[0]\r\n",
        "        with tf.GradientTape() as tape:\r\n",
        "            # forward pass\r\n",
        "            z_mean, z_log_var, z = self.encoder(data)\r\n",
        "            reconstruction = self.decoder(z)\r\n",
        "            # Compute own loss\r\n",
        "            reconstruction_loss = tf.reduce_mean(\r\n",
        "                keras.losses.mean_squared_error(data, reconstruction) * 140\r\n",
        "            )\r\n",
        "            kl_loss = 1 + z_log_var - tf.square(z_mean) - tf.exp(z_log_var)\r\n",
        "            kl_loss = tf.reduce_mean(kl_loss)\r\n",
        "            kl_loss *= -0.5\r\n",
        "            total_loss = reconstruction_loss + kl_loss\r\n",
        "        # compute gradients\r\n",
        "        grads = tape.gradient(total_loss, self.trainable_weights)\r\n",
        "        # update weights\r\n",
        "        self.optimizer.apply_gradients(zip(grads, self.trainable_weights))\r\n",
        "        # compute own metrics\r\n",
        "        return {\r\n",
        "            \"loss\": total_loss,\r\n",
        "            \"reconstruction_loss\": reconstruction_loss,\r\n",
        "            \"kl_loss\": kl_loss,\r\n",
        "        }\r\n",
        "\r\n",
        "    def test_step(self, data):\r\n",
        "        # unpack the data\r\n",
        "        x, y = data\r\n",
        "        # compute predictions\r\n",
        "        y_pred = self(x, training=False)\r\n",
        "        # updates the metrics tracking the loss\r\n",
        "        self.compiled_loss(y, y_pred, regularization_losses=self.losses)\r\n",
        "        # update the metrics\r\n",
        "        self.compiled_metrics.update_state(y, y_pred)\r\n",
        "        # return a dict mapping metric names to current value\r\n",
        "        return {m.name: m.result() for m in self.metrics}\r\n",
        "\r\n",
        "    def call(self, data, **kwargs):\r\n",
        "        z_mean, z_log_var, z = self.encoder(data)\r\n",
        "        reconstructed = self.decoder(z)\r\n",
        "        return reconstructed"
      ],
      "execution_count": 54,
      "outputs": []
    },
    {
      "cell_type": "markdown",
      "metadata": {
        "id": "hWJVg5WPFQlb"
      },
      "source": [
        "### Build VAE connecting Encoder and Decoder"
      ]
    },
    {
      "cell_type": "code",
      "metadata": {
        "id": "PfjVoHGu5eN_"
      },
      "source": [
        "### Define function to create model\n",
        "def create_model(intermediate_dim=140, dropout_rate=0.2, regularizer_rate=0.004, optimizer='adam', learn_rate=0.001,\n",
        "                 name='VAE'):\n",
        "    \"\"\"Creates VAE model, required for wrapping in estimator interface KerasRegressor, while accepting the hyperparameters we want to tune. We also pass some default values.\"\"\"\n",
        "\n",
        "    # create encoder \n",
        "    encoder = create_encoder(intermediate_dim=intermediate_dim, dropout_rate=dropout_rate,\n",
        "                             regularizer_rate=regularizer_rate)\n",
        "    # create decoder \n",
        "    decoder = create_decoder(intermediate_dim=intermediate_dim, dropout_rate=dropout_rate,\n",
        "                             regularizer_rate=regularizer_rate)\n",
        "    # create vae\n",
        "    model = VAE(encoder, decoder, name=name)\n",
        "    # compile model\n",
        "    if optimizer == 'adam':\n",
        "        opt = Adam(lr=learn_rate, amsgrad=True)\n",
        "    else:\n",
        "        opt = SGD(lr=learn_rate)\n",
        "    model.compile(optimizer=opt)\n",
        "    model.build((None, 140, 1))\n",
        "\n",
        "    return model"
      ],
      "execution_count": 55,
      "outputs": []
    },
    {
      "cell_type": "code",
      "metadata": {
        "id": "g-XPM-YdEiOt",
        "colab": {
          "base_uri": "https://localhost:8080/"
        },
        "outputId": "83155b6f-63b8-409e-98e2-b7f752a88fb2"
      },
      "source": [
        "### Instantiate VAE model\r\n",
        "vae = create_model(name='VAE')\r\n",
        "\r\n",
        "### Display VAE model and it`s parts\r\n",
        "# encoder \r\n",
        "vae.encoder.summary(line_length=100)\r\n",
        "plot_model(vae.encoder, show_shapes=True, to_file='vae_encoder.png')\r\n",
        "print(\"\\n\")\r\n",
        "# decoder\r\n",
        "vae.decoder.summary(line_length=100)\r\n",
        "plot_model(vae.decoder, show_shapes=True, to_file='vae_decoder.png')\r\n",
        "print(\"\\n\")\r\n",
        "# vae\r\n",
        "vae.summary(line_length=100)"
      ],
      "execution_count": 56,
      "outputs": [
        {
          "output_type": "stream",
          "text": [
            "Model: \"encoder\"\n",
            "____________________________________________________________________________________________________\n",
            "Layer (type)                     Output Shape          Param #     Connected to                     \n",
            "====================================================================================================\n",
            "Encoder_Input_layer (InputLayer) [(None, 140, 1)]      0                                            \n",
            "____________________________________________________________________________________________________\n",
            "Encode_1 (Bidirectional)         (None, 280)           159040      Encoder_Input_layer[0][0]        \n",
            "____________________________________________________________________________________________________\n",
            "Dropout_1 (Dropout)              (None, 280)           0           Encode_1[0][0]                   \n",
            "____________________________________________________________________________________________________\n",
            "Encode_2 (Dense)                 (None, 5)             1405        Dropout_1[0][0]                  \n",
            "____________________________________________________________________________________________________\n",
            "z_mean (Dense)                   (None, 5)             30          Encode_2[0][0]                   \n",
            "____________________________________________________________________________________________________\n",
            "z_log_var (Dense)                (None, 5)             30          Encode_2[0][0]                   \n",
            "____________________________________________________________________________________________________\n",
            "Sample_layer (Sampling)          (None, 5)             0           z_mean[0][0]                     \n",
            "                                                                   z_log_var[0][0]                  \n",
            "====================================================================================================\n",
            "Total params: 160,505\n",
            "Trainable params: 160,505\n",
            "Non-trainable params: 0\n",
            "____________________________________________________________________________________________________\n",
            "\n",
            "\n",
            "Model: \"decoder\"\n",
            "____________________________________________________________________________________________________\n",
            "Layer (type)                                 Output Shape                            Param #        \n",
            "====================================================================================================\n",
            "Decoder_Input_layer (InputLayer)             [(None, 5)]                             0              \n",
            "____________________________________________________________________________________________________\n",
            "Decode_1 (Dense)                             (None, 35840)                           215040         \n",
            "____________________________________________________________________________________________________\n",
            "Decode_2 (Reshape)                           (None, 140, 256)                        0              \n",
            "____________________________________________________________________________________________________\n",
            "Dropout_1 (Dropout)                          (None, 140, 256)                        0              \n",
            "____________________________________________________________________________________________________\n",
            "Decode_3 (Bidirectional)                     (None, 140, 280)                        444640         \n",
            "____________________________________________________________________________________________________\n",
            "Decoder_Output_Layer (TimeDistributed)       (None, 140, 1)                          281            \n",
            "====================================================================================================\n",
            "Total params: 659,961\n",
            "Trainable params: 659,961\n",
            "Non-trainable params: 0\n",
            "____________________________________________________________________________________________________\n",
            "\n",
            "\n",
            "Model: \"VAE\"\n",
            "____________________________________________________________________________________________________\n",
            "Layer (type)                                 Output Shape                            Param #        \n",
            "====================================================================================================\n",
            "encoder (Functional)                         [(None, 5), (None, 5), (None, 5)]       160505         \n",
            "____________________________________________________________________________________________________\n",
            "decoder (Functional)                         (None, 140, 1)                          659961         \n",
            "====================================================================================================\n",
            "Total params: 820,472\n",
            "Trainable params: 820,466\n",
            "Non-trainable params: 6\n",
            "____________________________________________________________________________________________________\n"
          ],
          "name": "stdout"
        }
      ]
    },
    {
      "cell_type": "markdown",
      "metadata": {
        "id": "T7OlCIRCOUF-"
      },
      "source": [
        "# Train VAE\r\n",
        "\r\n",
        "---\r\n",
        "\r\n"
      ]
    },
    {
      "cell_type": "code",
      "metadata": {
        "id": "cf2gXbw290r5"
      },
      "source": [
        "### Train Properties\r\n",
        "epochs = 100 #50, 100\r\n",
        "batch_size = 16 #16, 32"
      ],
      "execution_count": 70,
      "outputs": []
    },
    {
      "cell_type": "markdown",
      "metadata": {
        "id": "MfnzjwIxlShE"
      },
      "source": [
        "## Train"
      ]
    },
    {
      "cell_type": "code",
      "metadata": {
        "id": "BTkdJdc_N5SN"
      },
      "source": [
        "### Train\r\n",
        "train_history = vae.fit(x_train, x_train, epochs=epochs, batch_size=batch_size, validation_data=(x_test, x_test))"
      ],
      "execution_count": null,
      "outputs": []
    },
    {
      "cell_type": "code",
      "metadata": {
        "id": "2EOIKwwPnPgT"
      },
      "source": [
        "### Save history\r\n",
        "with open('/trainHistoryDict', 'wb') as file_pi:\r\n",
        "        pickle.dump(train_history.history, file_pi)"
      ],
      "execution_count": 59,
      "outputs": []
    },
    {
      "cell_type": "code",
      "metadata": {
        "id": "gHZuTNLVjUeh",
        "outputId": "9f67763d-1e3a-4525-90c6-f979ff6191bf",
        "colab": {
          "base_uri": "https://localhost:8080/"
        }
      },
      "source": [
        "### Check displayed values in the command line with actual output values of the trainings process\r\n",
        "print(\"----- loss: -----\\n{}\".format(train_history.history[\"loss\"]))\r\n",
        "print(\"----- reconstruction_loss: -----\\n{}\".format(train_history.history[\"reconstruction_loss\"]))\r\n",
        "print(\"----- kl_loss: -----\\n{}\".format(train_history.history[\"kl_loss\"]))\r\n",
        "print(\"----- val_loss: -----\\n{}\".format(train_history.history[\"val_loss\"]))"
      ],
      "execution_count": 61,
      "outputs": [
        {
          "output_type": "stream",
          "text": [
            "----- loss: -----\n",
            "[47.65969467163086, 37.740116119384766, 36.05929183959961, 34.94321823120117, 34.19441223144531, 32.91783142089844, 31.24408721923828, 29.962383270263672, 28.311840057373047, 27.619060516357422, 26.732460021972656, 26.137737274169922, 25.544593811035156, 25.07590675354004, 25.075658798217773, 24.24847984313965, 24.05752944946289, 23.765249252319336, 23.288410186767578, 22.898244857788086, 22.705337524414062, 22.297199249267578, 22.000581741333008, 21.840057373046875, 21.67884063720703, 21.452239990234375, 21.532758712768555, 21.118419647216797, 20.97154426574707, 21.22943115234375, 20.620590209960938, 20.99297332763672, 20.691341400146484, 20.432832717895508, 20.199935913085938, 20.311111450195312, 20.14283561706543, 19.976167678833008, 19.768709182739258, 19.785615921020508, 19.799747467041016, 19.868392944335938, 19.643718719482422, 19.468416213989258, 19.549335479736328, 19.523563385009766, 19.175691604614258, 19.320093154907227, 19.219682693481445, 19.294124603271484, 19.290813446044922, 19.731931686401367, 19.536331176757812, 19.167287826538086, 19.011592864990234, 18.99642562866211, 19.15645980834961, 18.847869873046875, 18.685836791992188, 18.75455665588379, 18.620450973510742, 18.668466567993164, 18.614225387573242, 18.49119758605957, 18.517772674560547, 18.669530868530273, 18.325998306274414, 18.345760345458984, 18.525028228759766, 19.175687789916992, 18.404829025268555, 18.23972511291504, 18.417619705200195, 18.283344268798828, 18.30246353149414, 18.439653396606445, 18.410240173339844, 18.09894371032715, 18.180713653564453, 18.10271453857422, 18.15578269958496, 18.067506790161133, 18.147254943847656, 18.074058532714844, 18.177907943725586, 17.965953826904297, 18.11821937561035, 17.974679946899414, 17.916839599609375, 17.939762115478516, 17.8527889251709, 18.160465240478516, 17.708820343017578, 17.699153900146484, 17.628652572631836, 17.773365020751953, 17.696475982666016, 18.16636085510254, 17.799022674560547, 17.8147029876709]\n",
            "----- reconstruction_loss: -----\n",
            "[46.36899948120117, 35.9473876953125, 34.08619689941406, 32.82383728027344, 31.9724063873291, 30.514894485473633, 28.68451499938965, 27.188581466674805, 25.395898818969727, 24.58635902404785, 23.522409439086914, 22.808349609375, 22.160566329956055, 21.651992797851562, 21.546255111694336, 20.834766387939453, 20.58730697631836, 20.33981704711914, 19.957448959350586, 19.56128692626953, 19.296669006347656, 18.960800170898438, 18.647737503051758, 18.495784759521484, 18.28154754638672, 18.052553176879883, 18.120723724365234, 17.681921005249023, 17.51372718811035, 17.765661239624023, 17.18659782409668, 17.45893669128418, 17.158218383789062, 16.93875503540039, 16.728029251098633, 16.836273193359375, 16.67498016357422, 16.494863510131836, 16.299705505371094, 16.292016983032227, 16.3167724609375, 16.33172035217285, 16.129350662231445, 15.933659553527832, 16.018531799316406, 15.978638648986816, 15.626463890075684, 15.725363731384277, 15.610642433166504, 15.701166152954102, 15.633378028869629, 16.030508041381836, 15.927970886230469, 15.506665229797363, 15.490777969360352, 15.357098579406738, 15.446041107177734, 15.155631065368652, 15.039560317993164, 15.165973663330078, 14.999956130981445, 14.96599006652832, 14.99509048461914, 14.808878898620605, 14.887365341186523, 14.92293643951416, 14.686452865600586, 14.671420097351074, 14.718453407287598, 15.44821834564209, 14.560476303100586, 14.550962448120117, 14.644953727722168, 14.60313606262207, 14.600682258605957, 14.577759742736816, 14.642840385437012, 14.348555564880371, 14.501105308532715, 14.30323314666748, 14.386855125427246, 14.350136756896973, 14.419485092163086, 14.30833911895752, 14.367924690246582, 14.136495590209961, 14.279264450073242, 14.212902069091797, 14.18081283569336, 14.12520980834961, 14.009126663208008, 14.313267707824707, 13.929888725280762, 13.965859413146973, 13.910353660583496, 14.034072875976562, 13.95907211303711, 14.259626388549805, 14.015926361083984, 13.99389362335205]\n",
            "----- kl_loss: -----\n",
            "[1.2907088994979858, 1.7927278280258179, 1.973098874092102, 2.1193861961364746, 2.2220144271850586, 2.40293550491333, 2.5595638751983643, 2.7738168239593506, 2.9159600734710693, 3.0327072143554688, 3.2100563049316406, 3.329385280609131, 3.384028434753418, 3.423922300338745, 3.529402256011963, 3.4137275218963623, 3.470221519470215, 3.425431489944458, 3.330970525741577, 3.3369460105895996, 3.4086685180664062, 3.3363983631134033, 3.3528425693511963, 3.34426212310791, 3.3972902297973633, 3.399693489074707, 3.4120309352874756, 3.4364991188049316, 3.457827091217041, 3.463768482208252, 3.433983087539673, 3.5340404510498047, 3.5331194400787354, 3.4940812587738037, 3.471909999847412, 3.474835157394409, 3.4678609371185303, 3.4812965393066406, 3.4690029621124268, 3.4936022758483887, 3.482980966567993, 3.5366790294647217, 3.5143728256225586, 3.534759044647217, 3.530815839767456, 3.544923782348633, 3.5492289066314697, 3.5947213172912598, 3.6090452671051025, 3.5929548740386963, 3.65742826461792, 3.7014222145080566, 3.6083688735961914, 3.6606218814849854, 3.520815134048462, 3.639328718185425, 3.710425615310669, 3.6922357082366943, 3.6462697982788086, 3.588578939437866, 3.6205008029937744, 3.7024786472320557, 3.619133949279785, 3.682323455810547, 3.6304068565368652, 3.746584892272949, 3.639540672302246, 3.674345016479492, 3.806581735610962, 3.7274622917175293, 3.8443548679351807, 3.6887638568878174, 3.7726614475250244, 3.6801998615264893, 3.7017805576324463, 3.8618898391723633, 3.7673943042755127, 3.7503886222839355, 3.6795997619628906, 3.799476385116577, 3.7689332962036133, 3.7173585891723633, 3.7277767658233643, 3.765706777572632, 3.809979200363159, 3.8294529914855957, 3.8389580249786377, 3.7617788314819336, 3.7360293865203857, 3.8145461082458496, 3.8436717987060547, 3.847198009490967, 3.778933048248291, 3.733292818069458, 3.718290090560913, 3.739290237426758, 3.737409830093384, 3.906729221343994, 3.783097267150879, 3.8208165168762207]\n",
            "----- val_loss: -----\n",
            "[0.0, 0.0, 0.0, 0.0, 0.0, 0.0, 0.0, 0.0, 0.0, 0.0, 0.0, 0.0, 0.0, 0.0, 0.0, 0.0, 0.0, 0.0, 0.0, 0.0, 0.0, 0.0, 0.0, 0.0, 0.0, 0.0, 0.0, 0.0, 0.0, 0.0, 0.0, 0.0, 0.0, 0.0, 0.0, 0.0, 0.0, 0.0, 0.0, 0.0, 0.0, 0.0, 0.0, 0.0, 0.0, 0.0, 0.0, 0.0, 0.0, 0.0, 0.0, 0.0, 0.0, 0.0, 0.0, 0.0, 0.0, 0.0, 0.0, 0.0, 0.0, 0.0, 0.0, 0.0, 0.0, 0.0, 0.0, 0.0, 0.0, 0.0, 0.0, 0.0, 0.0, 0.0, 0.0, 0.0, 0.0, 0.0, 0.0, 0.0, 0.0, 0.0, 0.0, 0.0, 0.0, 0.0, 0.0, 0.0, 0.0, 0.0, 0.0, 0.0, 0.0, 0.0, 0.0, 0.0, 0.0, 0.0, 0.0, 0.0]\n"
          ],
          "name": "stdout"
        }
      ]
    },
    {
      "cell_type": "markdown",
      "metadata": {
        "id": "ljaYW8HuuHZk"
      },
      "source": [
        "## Recreate"
      ]
    },
    {
      "cell_type": "code",
      "metadata": {
        "id": "WYLbwD53cn84",
        "outputId": "0638ec58-2b01-4008-cecc-ca7368b97230",
        "colab": {
          "base_uri": "https://localhost:8080/"
        }
      },
      "source": [
        "# Encoder output is a list [z_mean, z_log_var, z] thus list[2] = z, see subsection encoder line 12\r\n",
        "\r\n",
        "### Extract myu i.e. z_mean\r\n",
        "z_mean = vae.encoder.predict(x_test)[0]\r\n",
        "print(\"----- z_mean: -----\")\r\n",
        "print(z_mean)\r\n",
        "print(\"\\n\")\r\n",
        "\r\n",
        "### Extract sigma i.e. z_log_var\r\n",
        "z_log_var = vae.encoder.predict(x_test)[1]\r\n",
        "print(\"----- z_log_var: -----\")\r\n",
        "print(z_log_var)\r\n",
        "print(\"\\n\")\r\n",
        "\r\n",
        "### Extract z_values and predict x_test\r\n",
        "z_values = vae.encoder.predict(x_test)[2]\r\n",
        "decoded_ecg5000 = vae.decoder.predict(z_values)\r\n",
        "# z_values contains list of each z_value per sample, i.e. we get 1000 SubLists with 5 elements in each.\r\n",
        "# Those 5 elements (z_values for Sample i) is our bottleneck which the decoder recieves.\r\n",
        "print(\"----- z_values: -----\")\r\n",
        "print(z_values)\r\n",
        "print(\"\\n\")\r\n",
        "\r\n",
        "### Save extracted values\r\n",
        "np.savetxt('z_values.csv', z_values, delimiter=\",\")\r\n",
        "np.savetxt('decoded_ecg5000.csv', decoded_ecg5000.reshape(-1,140), delimiter=\",\")\r\n",
        "\r\n",
        "### Properties\r\n",
        "print(\"Shape and Type of z_mean: {}, {}\".format(z_mean.shape, type(z_mean)))\r\n",
        "print(\"Shape and Type of z_log_var: {}, {}\".format(z_log_var.shape, type(z_log_var)))\r\n",
        "print(\"Shape and Type of z_values: {}, {}\".format(z_values.shape, type(z_values)))\r\n",
        "print(\"Shape and Type of decoded_ecg5000: {}, {}\".format(decoded_ecg5000.shape, type(decoded_ecg5000)))"
      ],
      "execution_count": 62,
      "outputs": [
        {
          "output_type": "stream",
          "text": [
            "----- z_mean: -----\n",
            "[[2.35736012e+00 5.82074095e-03 2.80450098e-02 6.83286333e+00\n",
            "  1.10452282e+00]\n",
            " [1.01542376e-01 6.17413855e+00 1.95697510e+00 7.27285864e-04\n",
            "  5.57970479e-02]\n",
            " [2.86533165e+00 4.61569691e+00 2.77771484e-02 3.62157502e-04\n",
            "  2.13417426e-01]\n",
            " ...\n",
            " [8.50835163e-03 3.03724098e+00 2.26437449e+00 4.44636820e-03\n",
            "  1.14108816e-01]\n",
            " [1.02584963e+01 1.89264429e+00 8.35973624e-05 1.83899075e-01\n",
            "  2.11192107e+00]\n",
            " [1.42635965e+00 2.61703394e-02 7.82515183e-02 5.99470317e-01\n",
            "  2.89596295e+00]]\n",
            "\n",
            "\n",
            "----- z_log_var: -----\n",
            "[[0.01106626 0.04960564 0.04049775 0.0089629  0.02995859]\n",
            " [0.02544401 0.01004982 0.01451379 0.05823112 0.06805835]\n",
            " [0.00933983 0.00839613 0.03176764 0.04438493 0.04969246]\n",
            " ...\n",
            " [0.01645555 0.00765986 0.00588796 0.01965288 0.02763451]\n",
            " [0.00274625 0.01764858 0.08734006 0.03632233 0.05091112]\n",
            " [0.01020946 0.02873775 0.01937546 0.01928416 0.02625615]]\n",
            "\n",
            "\n",
            "----- z_values: -----\n",
            "[[ 3.1827328   0.04584746  0.4198032   6.4551215   0.8299375 ]\n",
            " [ 1.8329703   7.9486833   1.4632661   0.25533742  1.0266242 ]\n",
            " [ 2.9519322   4.198106    0.88255674 -0.6518637  -0.4005316 ]\n",
            " ...\n",
            " [ 0.44674432  2.7021794   2.5134902  -0.8831097   0.8224092 ]\n",
            " [ 9.01424     1.4499736  -1.3787247  -0.14361185  3.2217345 ]\n",
            " [ 2.6272488   0.2224079  -0.68427444  0.8772743   2.607008  ]]\n",
            "\n",
            "\n",
            "Shape and Type of z_mean: (1000, 5), <class 'numpy.ndarray'>\n",
            "Shape and Type of z_log_var: (1000, 5), <class 'numpy.ndarray'>\n",
            "Shape and Type of z_values: (1000, 5), <class 'numpy.ndarray'>\n",
            "Shape and Type of decoded_ecg5000: (1000, 140, 1), <class 'numpy.ndarray'>\n"
          ],
          "name": "stdout"
        }
      ]
    },
    {
      "cell_type": "markdown",
      "metadata": {
        "id": "LNfzqeVE2N7J"
      },
      "source": [
        "## Display the training progress"
      ]
    },
    {
      "cell_type": "markdown",
      "metadata": {
        "id": "KPE8qAylUlhq"
      },
      "source": [
        "#### Loss"
      ]
    },
    {
      "cell_type": "code",
      "metadata": {
        "id": "53ufa2OwJIVe"
      },
      "source": [
        "### Loss vs Reconstruction_loss vs KL Divergence\r\n",
        "plt.figure(figsize=(8,5))\r\n",
        "plt.plot(train_history.history['loss'])\r\n",
        "plt.plot(train_history.history['reconstruction_loss'])\r\n",
        "plt.plot(train_history.history['kl_loss'])\r\n",
        "plt.legend([\"Loss\", \"Reconstruction Loss\", \"KL Divergence\"])\r\n",
        "plt.xlabel(\"Epoch\")\r\n",
        "plt.title(\"Loss vs. Reconstruction Loss vs. KL Divergence\")\r\n",
        "\r\n",
        "plt.savefig('loss.png')"
      ],
      "execution_count": null,
      "outputs": []
    },
    {
      "cell_type": "code",
      "metadata": {
        "id": "tcIrsjRDYOiI"
      },
      "source": [
        "### Train loss vs val loss\r\n",
        "# returns the loss value & metrics values for the model in test mode\r\n",
        "plt.figure(figsize=(8,5))\r\n",
        "plt.plot(train_history.history['loss'])\r\n",
        "plt.plot(train_history.history['val_loss'])\r\n",
        "plt.legend([\"Loss\", \"Validation Loss\"])\r\n",
        "plt.xlabel(\"Epoch\")\r\n",
        "plt.title(\"Loss vs. Validation Loss\")\r\n",
        "\r\n",
        "plt.savefig('valLoss.png')"
      ],
      "execution_count": null,
      "outputs": []
    },
    {
      "cell_type": "markdown",
      "metadata": {
        "id": "QGsZngmEUnKf"
      },
      "source": [
        "### Latent Space"
      ]
    },
    {
      "cell_type": "code",
      "metadata": {
        "id": "ldOtLNeJYJmb"
      },
      "source": [
        "### Scale Datan (PCA)\r\n",
        "# transform to dataframe\r\n",
        "z_test = pd.DataFrame(z_values)\r\n",
        "# standardize the data\r\n",
        "z_test = StandardScaler().fit_transform(z_test)"
      ],
      "execution_count": null,
      "outputs": []
    },
    {
      "cell_type": "code",
      "metadata": {
        "id": "ksY0r5zQsVjn",
        "outputId": "4c9e8b12-c7c0-4fdc-d838-87d83ef26d49",
        "colab": {
          "base_uri": "https://localhost:8080/",
          "height": 280
        }
      },
      "source": [
        "### Estimate how many components are needed to describe the data (PCA)\r\n",
        "pca_explained = PCA().fit(z_test)\r\n",
        "plt.plot(np.cumsum(pca_explained.explained_variance_ratio_))\r\n",
        "plt.xlabel('number of components')\r\n",
        "plt.ylabel('cumulative explained variance');"
      ],
      "execution_count": 63,
      "outputs": [
        {
          "output_type": "display_data",
          "data": {
            "image/png": "[encoded data removed]",
            "text/plain": [
              "<Figure size 432x288 with 1 Axes>"
            ]
          },
          "metadata": {
            "tags": []
          }
        }
      ]
    },
    {
      "cell_type": "code",
      "metadata": {
        "id": "pjILQXppYgIP"
      },
      "source": [
        "### PCA (5 dim -> 2 dim): display a 2D plot of the classes in the latent space.\r\n",
        "# make PCA instance\r\n",
        "pca = PCA(n_components=2)\r\n",
        "# fit transform features\r\n",
        "principalComponents = pca.fit_transform(z_test)\r\n",
        "# build pca dataframe\r\n",
        "principalDf = pd.DataFrame(data=principalComponents, columns=['principal component 1', 'principal component 2'])\r\n",
        "targetDF = pd.DataFrame(data=testDF_Y.to_numpy(), columns=['target'])\r\n",
        "finalDF = pd.concat([principalDf, targetDF], axis=1)\r\n",
        "# scatterplot\r\n",
        "plt.figure(figsize=(8, 5))\r\n",
        "plt.xlabel('Principal Component 1')\r\n",
        "plt.ylabel('Principal Component 2')\r\n",
        "plt.title('Principal Component Analysis of Latent Space')\r\n",
        "plt.scatter(finalDF['principal component 1'], finalDF['principal component 2'], c=finalDF['target'],\r\n",
        "            cmap=plt.cm.get_cmap('Set1', 6), s=40, alpha=0.7)  # or cmap=hsv\r\n",
        "plt.colorbar(ticks=range(6), label='Classes of ECG500')\r\n",
        "plt.clim(-0.5, 5.5)\r\n",
        "\r\n",
        "plt.show()\r\n",
        "plt.savefig('PCA.png')"
      ],
      "execution_count": null,
      "outputs": []
    },
    {
      "cell_type": "markdown",
      "metadata": {
        "id": "UJ8dyTK6kNNQ"
      },
      "source": [
        "# Plot Data Results\n",
        "\n",
        "---\n",
        "\n"
      ]
    },
    {
      "cell_type": "code",
      "metadata": {
        "id": "DIfVmINR3lji",
        "outputId": "6fd11ced-12ff-4e6e-9335-60a460c77684",
        "colab": {
          "base_uri": "https://localhost:8080/"
        }
      },
      "source": [
        "### Test if Input fits Dim of Output\n",
        "print(\"Shape of x_train: {}\".format(x_train.shape))\n",
        "print(\"Shape of decoded_ecg5000: {}\".format(decoded_ecg5000.shape))\n",
        "\n",
        "### Covert to 2D Array (\"-1\" = make a dimension (here rows) the size that will use the remaining unspecified elements)\n",
        "new_x_train= x_train.reshape(-1,140)\n",
        "new_decoded_ecg5000 = decoded_ecg5000.reshape(-1,140)\n",
        "\n",
        "print(\"Shape of Input after reshaping: {}\".format(new_x_train.shape))\n",
        "print(\"Shape of Output after reshaping: {}\".format(new_decoded_ecg5000.shape))"
      ],
      "execution_count": 64,
      "outputs": [
        {
          "output_type": "stream",
          "text": [
            "Shape of x_train: (4000, 140, 1)\n",
            "Shape of decoded_ecg5000: (1000, 140, 1)\n",
            "Shape of Input after reshaping: (4000, 140)\n",
            "Shape of Output after reshaping: (1000, 140)\n"
          ],
          "name": "stdout"
        }
      ]
    },
    {
      "cell_type": "code",
      "metadata": {
        "id": "YG129YUrHGyU"
      },
      "source": [
        "# ### Plot figure for paper\r\n",
        "# i = 934 # sample which is going to be plotted\r\n",
        "# plt.figure(linewidth = 1, figsize=(25,6))\r\n",
        "# plt.xlabel('time steps')\r\n",
        "# plt.plot(new_x_train[i])\r\n",
        "# plt.show()\r\n",
        "# plt.savefig('diagramm_original.jpg')\r\n",
        "\r\n",
        "# plt.figure(linewidth = 1, figsize=(25,6))\r\n",
        "# plt.xlabel('time steps')\r\n",
        "# plt.plot(new_decoded_ecg5000[i], label='decoded ecg5000')\r\n",
        "# plt.show()\r\n",
        "# plt.savefig('diagramm_decoded.jpg')"
      ],
      "execution_count": null,
      "outputs": []
    },
    {
      "cell_type": "code",
      "metadata": {
        "id": "vGvzjGwcJi1B",
        "outputId": "c161352b-524f-465d-85a3-f87548e3eb05",
        "colab": {
          "base_uri": "https://localhost:8080/",
          "height": 333
        }
      },
      "source": [
        "### Plot only one sample\r\n",
        "i = 901  # sample which is going to be plotted\r\n",
        "plt.figure(linewidth=1, figsize=(20, 6))\r\n",
        "plt.title('Autoencoder Result')\r\n",
        "plt.xlabel('time steps')\r\n",
        "plt.plot(new_decoded_ecg5000[i], label='decoded ecg5000')\r\n",
        "plt.plot(new_x_train[i], label='original ecg5000')\r\n",
        "plt.legend(loc=\"upper left\")\r\n",
        "plt.show()"
      ],
      "execution_count": 65,
      "outputs": [
        {
          "output_type": "display_data",
          "data": {
            "image/png": "[encoded data removed]",
            "text/plain": [
              "<Figure size 1440x432 with 1 Axes>"
            ]
          },
          "metadata": {
            "tags": []
          }
        }
      ]
    },
    {
      "cell_type": "code",
      "metadata": {
        "id": "AwjUjaCtkSpW",
        "outputId": "60951ff1-c071-445e-c8f8-731c307e6a34",
        "colab": {
          "base_uri": "https://localhost:8080/",
          "height": 467
        }
      },
      "source": [
        "### Plot Multiple Samples\n",
        "n_rows = 2\n",
        "n_cols = 3\n",
        "\n",
        "# size properties and layout design for tighter representation\n",
        "fig, axs = plt.subplots(nrows=n_rows, ncols=n_cols, figsize=(13, 6))\n",
        "fig.tight_layout(w_pad=4, h_pad=5)\n",
        "\n",
        "# subplotting\n",
        "i = 50\n",
        "for row in range(n_rows):\n",
        "    for col in range(n_cols):\n",
        "        axs[row, col].plot(new_decoded_ecg5000[i])\n",
        "        axs[row, col].plot(new_x_train[i])\n",
        "        axs[row, col].legend([\"Decoded ECG5000 Sample {}\".format(i), \"Original ECG5000 Sample {}\".format(i)])\n",
        "        axs[row, col].set(xlabel=\"Time Steps\", ylabel=\"Heartbeat Interpolated\", title=\"Sample {}\".format(i))\n",
        "        i = i + 75\n",
        "\n",
        "plt.savefig('dataComparison.png')"
      ],
      "execution_count": 66,
      "outputs": [
        {
          "output_type": "display_data",
          "data": {
            "image/png": "[encoded data removed]",
            "text/plain": [
              "<Figure size 936x432 with 6 Axes>"
            ]
          },
          "metadata": {
            "tags": []
          }
        }
      ]
    },
    {
      "cell_type": "markdown",
      "metadata": {
        "id": "unWrNuYBc71O"
      },
      "source": [
        "# Optimization\r\n",
        "\r\n",
        "---"
      ]
    },
    {
      "cell_type": "markdown",
      "metadata": {
        "id": "XX8k4aeUCx3k"
      },
      "source": [
        "## Hyperparameter (Sckit_GridSearchCV)"
      ]
    },
    {
      "cell_type": "code",
      "metadata": {
        "id": "x3NsIDD4dWHN"
      },
      "source": [
        "### Define scorer\r\n",
        "def score_mse(y_true, y_pred): # , **kwargs\r\n",
        "    \"\"\"Implementing mean squarred error as a score for RandomizedSearchCV.\"\"\"\r\n",
        "\r\n",
        "    y_pred = tf.convert_to_tensor(y_pred)\r\n",
        "    y_true = tf.cast(y_true, y_pred.dtype)\r\n",
        "    # removing all size 1 dimensions in y_true\r\n",
        "    y_true = tf.squeeze(y_true)\r\n",
        "    return np.mean(tf.math.squared_difference(y_pred, y_true))\r\n",
        "\r\n",
        "### Define Function for Randomized Search\r\n",
        "def randomizedSearch_pipeline(x_train_data, x_test_data, model, space, n_iter=10, scoring_fit='neg_mean_squared_error',\r\n",
        "                              cv=5, do_probabilities=False):\r\n",
        "    \"\"\"Pipeline for RandomizedSearchCV: Select settings and run randomizedSearchCV, returning results.\"\"\"\r\n",
        "    # define randomizedSearch\r\n",
        "    rs = RandomizedSearchCV(\r\n",
        "        estimator=model,\r\n",
        "        param_distributions=space,\r\n",
        "        n_iter=n_iter,\r\n",
        "        scoring=scoring_fit,\r\n",
        "        n_jobs=1,\r\n",
        "        cv=cv,\r\n",
        "        verbose=2,\r\n",
        "        random_state=1,\r\n",
        "    )\r\n",
        "    # fit model\r\n",
        "    fitted_model = rs.fit(x_train_data, x_train_data, verbose=0)\r\n",
        "    # get results\r\n",
        "    rs_result = pd.DataFrame(rs.cv_results_)\r\n",
        "    # save compromised version of the results\r\n",
        "    min_rs_results = pd.concat([pd.DataFrame(rs.cv_results_[\"mean_test_score\"], columns=[\"score\"]),\r\n",
        "                                pd.DataFrame(rs.cv_results_[\"params\"])], axis=1)\r\n",
        "    min_rs_results = min_rs_results.sort_values(by=\"score\", ascending=False)\r\n",
        "    min_rs_results.to_latex(buf='randomizedSearchResults.tex', caption=(\r\n",
        "        \"Results of 20 candidates using a cross-validation of 5\", \"Randomized Search Results\"), label='table:1')\r\n",
        "\r\n",
        "    if do_probabilities:\r\n",
        "        pred = fitted_model.predict_proba(x_test_data)\r\n",
        "    else:\r\n",
        "        pred = fitted_model.predict(x_test_data)\r\n",
        "\r\n",
        "    return fitted_model, pred, rs_result, min_rs_results"
      ],
      "execution_count": 71,
      "outputs": []
    },
    {
      "cell_type": "code",
      "metadata": {
        "id": "tL_QfMgwCxfi"
      },
      "source": [
        "## Define evaluated params and it's value range\r\n",
        "\r\n",
        "space = {\r\n",
        "    'optimizer': ['adam', 'SGD'],\r\n",
        "    'batch_size': [1, 2, 4, 8, 16, 32, 64],\r\n",
        "    'dropout_rate': [0.2, 0.3, 0.4, 0.5, 0.6, 0.7, 0.8, 0.9],\r\n",
        "    'regularizer_rate': [1e-06, 1e-05, 0.0001, 0.001, 0.01, 0.1],\r\n",
        "    'learn_rate': [0.002, 0.005, 0.008, 0.013, 0.023, 0.038, 0.064, 0.107, 0.179, 0.299, 0.5],    \r\n",
        "}\r\n",
        "\r\n",
        "### Wrap keras custom VAE model with the KerasClassifier thus it implements estimator interface\r\n",
        "model = KerasRegressor(build_fn=create_model)\r\n",
        "\r\n",
        "### Run RandomizedSearch\r\n",
        "fitted_model, pred, rs_result, min_rs_results = randomizedSearch_pipeline(x_train, x_test, model, space, n_iter=1,\r\n",
        "                                                                          scoring_fit=make_scorer(score_mse,\r\n",
        "                                                                                                  greater_is_better=False))"
      ],
      "execution_count": null,
      "outputs": []
    },
    {
      "cell_type": "code",
      "metadata": {
        "id": "FjSWb0ldkIay"
      },
      "source": [
        "### Summarize results\r\n",
        "print(\"----- Results RandomizedSearchCV: -----\\n\" + \"Best: {} using {}\\n\".format(fitted_model.best_score_,\r\n",
        "                                                                                 fitted_model.best_params_))\r\n",
        "# pd.set_option(\"display.max_rows\", None, \"display.max_columns\", None)\r\n",
        "# pd.reset_option('all')\r\n",
        "print(\"Summary:\\n {}\".format(rs_result))"
      ],
      "execution_count": null,
      "outputs": []
    },
    {
      "cell_type": "markdown",
      "metadata": {
        "id": "VfBqVOpmdGJl"
      },
      "source": [
        "## Dropout"
      ]
    },
    {
      "cell_type": "code",
      "metadata": {
        "id": "mZDGEMffcg0O"
      },
      "source": [
        "# ###Dropout_rate\r\n",
        "\r\n",
        "# # configure the experiment\r\n",
        "# def experiment_dropout():\r\n",
        "#   # configure the experiment\r\n",
        "#   n_dropout = [0.0, 0.2, 0.4, 0.6, 0.8]\r\n",
        "#   # run the experiment\r\n",
        "#   results = []\r\n",
        "#   for drop_value in n_dropout:\r\n",
        "#       # set dropout\r\n",
        "#       drop_out_rate = drop_value\r\n",
        "#       print(\"----- Dropout Rate: {} -----\".format(drop_out_rate))\r\n",
        "#       # evaluate\r\n",
        "#       # rather shorten code with defining a train function of code above and using it here\r\n",
        "#       vae = VAE(encoder, decoder, name=\"VAE\")\r\n",
        "#       vae.compile(optimizer='adam', loss='mean_squared_error')\r\n",
        "#       history = vae.fit(x_train, y_train, epochs=epochs, batch_size=batch_size, validation_data=(x_test, y_test), verbose=0)\r\n",
        "#       # report performance\r\n",
        "#       # rather make a dataframe or something different which is simpler to plot\r\n",
        "#       evaluation = []\r\n",
        "#       evaluation.append(vae.evaluate(x_test, y_test))\r\n",
        "#       evaluation.append(drop_value)\r\n",
        "\r\n",
        "#       res = []\r\n",
        "#       res.append(history.history[\"val_loss\"])\r\n",
        "#       print(\"val_loss = {}\".format(res))\r\n",
        "#       results.append(evaluation)\r\n",
        "#   return results"
      ],
      "execution_count": null,
      "outputs": []
    },
    {
      "cell_type": "code",
      "metadata": {
        "id": "wfM-TqopGGUu"
      },
      "source": [
        "# results = experiment_dropout()\r\n",
        "# # summarize results\r\n",
        "# print(results)"
      ],
      "execution_count": null,
      "outputs": []
    },
    {
      "cell_type": "markdown",
      "metadata": {
        "id": "H0e7rRTv6STo"
      },
      "source": [
        "# Visualization of Hyperparameter Opt. Results\r\n",
        "\r\n",
        "\r\n",
        "---\r\n",
        "\r\n"
      ]
    },
    {
      "cell_type": "markdown",
      "metadata": {
        "id": "CRSEFKj93Q1F"
      },
      "source": [
        "Bar Plot\r\n"
      ]
    },
    {
      "cell_type": "code",
      "metadata": {
        "id": "PE0Ev3GX3P7o"
      },
      "source": [
        "# Scores of our Hyperparameter Optimization\r\n",
        "scores = rs_result['mean_test_score'].tolist()\r\n",
        "\r\n",
        "# Positive Score, i.e. each score in scores * (-1)\r\n",
        "posScores = []\r\n",
        "for s in scores:\r\n",
        "    posScores.append(s * (-1))\r\n",
        "\r\n",
        "indices = np.arange(0, len(scores))\r\n",
        "\r\n",
        "plt.bar(indices, posScores, tick_label=indices)\r\n",
        "plt.title(\"Score of each parameter combination\")\r\n",
        "plt.xlabel(\"Unit\")\r\n",
        "plt.ylabel(\"Score\")\r\n",
        "# save fig\r\n",
        "plt.savefig(fname=\"scores.png\")"
      ],
      "execution_count": null,
      "outputs": []
    },
    {
      "cell_type": "markdown",
      "metadata": {
        "id": "BwY-GoamH-6e"
      },
      "source": [
        "Scatter Plot"
      ]
    },
    {
      "cell_type": "code",
      "metadata": {
        "id": "Pr1nvfOdQ_ym"
      },
      "source": [
        "### features\r\n",
        "features = ['batch_size', 'dropout_rate', 'regularizer_rate', 'learn_rate']\r\n",
        "\r\n",
        "fig, axs = plt.subplots(nrows=len(features), ncols=len(features), figsize=(12, 12))\r\n",
        "fig.tight_layout(w_pad=2, h_pad=2)\r\n",
        "\r\n",
        "col = 0\r\n",
        "for feature_1 in features:\r\n",
        "    row = 0\r\n",
        "    for feature_2 in features:\r\n",
        "        bestComb = min_rs_results.iloc[0:5]\r\n",
        "        rest = min_rs_results.iloc[5:]\r\n",
        "        axs[row, col].scatter(bestComb[feature_1], bestComb[feature_2], color='green', alpha=0.7)\r\n",
        "        axs[row, col].scatter(rest[feature_1], rest[feature_2], color='red', alpha=0.7)\r\n",
        "        axs[row, col].set_xlabel(feature_1, fontsize=9)\r\n",
        "        axs[row, col].set_ylabel(feature_2, fontsize=9)\r\n",
        "        row = row + 1\r\n",
        "    col = col + 1\r\n",
        "\r\n",
        "# save fig\r\n",
        "plt.savefig('scoresScatter.png')"
      ],
      "execution_count": null,
      "outputs": []
    }
  ]
}