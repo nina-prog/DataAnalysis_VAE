{
  "nbformat": 4,
  "nbformat_minor": 0,
  "metadata": {
    "colab": {
      "name": "VAE_v1_1.ipynb",
      "provenance": [],
      "collapsed_sections": [],
      "toc_visible": true,
      "include_colab_link": true
    },
    "kernelspec": {
      "name": "python3",
      "display_name": "Python 3"
    },
    "accelerator": "GPU"
  },
  "cells": [
    {
      "cell_type": "markdown",
      "metadata": {
        "id": "view-in-github",
        "colab_type": "text"
      },
      "source": [
        "<a href=\"https://colab.research.google.com/github/nina-prog/DataAnalysis_VAE/blob/main/VAE_v2.0.ipynb\" target=\"_parent\"><img src=\"https://colab.research.google.com/assets/colab-badge.svg\" alt=\"Open In Colab\"/></a>"
      ]
    },
    {
      "cell_type": "code",
      "metadata": {
        "id": "srk9OHyCZDzL"
      },
      "source": [
        "import numpy as np\n",
        "import pandas as pd\n",
        "pd.options.mode.chained_assignment = None  # default='warn'\n",
        "\n",
        "import tensorflow as tf\n",
        "from tensorflow import keras\n",
        "from tensorflow.keras import layers\n",
        "from tensorflow.keras.layers import LSTM, Dense, TimeDistributed, Bidirectional, Dropout, Reshape, Flatten\n",
        "from tensorflow.keras.utils import plot_model\n",
        "from tensorflow.keras.regularizers import l2\n",
        "from tensorflow.keras.optimizers import SGD, Adam\n",
        "from tensorflow.keras.wrappers.scikit_learn import KerasRegressor\n",
        "\n",
        "from sklearn.model_selection import train_test_split\n",
        "from sklearn.preprocessing import MinMaxScaler\n",
        "from sklearn.preprocessing import StandardScaler\n",
        "from sklearn.decomposition import PCA\n",
        "from sklearn.model_selection import RandomizedSearchCV\n",
        "from sklearn.metrics import make_scorer\n",
        "\n",
        "import matplotlib.pyplot as plt\n",
        "import seaborn as sns\n",
        "import pickle\n",
        "\n",
        "### set plot design\n",
        "sns.set()\n",
        "sns.set_palette(sns.color_palette(\"Set1\"))  # tab10 #viridis\n",
        "# sns.set_style(\"whitegrid\")\n",
        "sns.set_context(\"paper\")\n",
        "\n",
        "### set seed\n",
        "tf.random.set_seed(7)"
      ],
      "execution_count": 83,
      "outputs": []
    },
    {
      "cell_type": "markdown",
      "metadata": {
        "id": "wcUlg_PrMiyC"
      },
      "source": [
        "# Data Preprocessing\n",
        "\n",
        "---\n",
        "\n"
      ]
    },
    {
      "cell_type": "markdown",
      "metadata": {
        "id": "Qk9i4M00iwYs"
      },
      "source": [
        "## Load Data"
      ]
    },
    {
      "cell_type": "code",
      "metadata": {
        "id": "IcrTqGPsZceo"
      },
      "source": [
        "### Load ecg5000 data using read_csv\n",
        "ecg5000 = pd.read_csv('ECG5000_ALL.txt', sep='\\s+', header=None)"
      ],
      "execution_count": 84,
      "outputs": []
    },
    {
      "cell_type": "code",
      "metadata": {
        "id": "QdbiFe4pZlQv",
        "colab": {
          "base_uri": "https://localhost:8080/"
        },
        "outputId": "53bb3265-35ef-4db9-a043-41c640ae504f"
      },
      "source": [
        "### Optional test and info about data set\n",
        "print(\"Type of ecg5000: \\t \\t {}\".format(type(ecg5000)))\n",
        "print(\"Dimensions of ecg5000: \\t \\t {}\".format(ecg5000.shape))\n",
        "print(\"Number of elements of ecg5000: \\t {}\".format((ecg5000.size)))\n",
        "print(\"Display first 10 rows of ecg5000: \\n {}\".format(ecg5000.head(10)))"
      ],
      "execution_count": 85,
      "outputs": [
        {
          "output_type": "stream",
          "text": [
            "Type of ecg5000: \t \t <class 'pandas.core.frame.DataFrame'>\n",
            "Dimensions of ecg5000: \t \t (5000, 141)\n",
            "Number of elements of ecg5000: \t 705000\n",
            "Display first 10 rows of ecg5000: \n",
            "    0         1         2         3    ...       137       138       139       140\n",
            "0  1.0 -0.112522 -2.827204 -3.773897  ...  0.228077  0.123431  0.925286  0.193137\n",
            "1  1.0 -1.100878 -3.996840 -4.285843  ...  0.476333  0.773820  1.119621 -1.436250\n",
            "2  1.0 -0.567088 -2.593450 -3.874230  ... -0.532197  0.321097  0.904227 -0.421797\n",
            "3  1.0  0.490473 -1.914407 -3.616364  ...  0.990133  1.086798  1.403011 -0.383564\n",
            "4  1.0  0.800232 -0.874252 -2.384761  ...  0.960304  0.971020  1.614392  1.421456\n",
            "5  1.0 -1.507674 -3.574550 -4.478011  ...  1.007076  1.634990  1.493366 -0.783134\n",
            "6  1.0 -0.297161 -2.766635 -4.102185  ...  0.974787  1.110407  1.288165 -0.823386\n",
            "7  1.0  0.446769 -1.507397 -3.187468  ...  1.034388  1.258433  0.961215 -0.999476\n",
            "8  1.0  0.087631 -1.753490 -3.304473  ...  0.573453  0.192971 -0.648683 -2.441068\n",
            "9  1.0 -0.832281 -1.700368 -2.257301  ...  2.126372  2.126852  1.679299  0.965814\n",
            "\n",
            "[10 rows x 141 columns]\n"
          ],
          "name": "stdout"
        }
      ]
    },
    {
      "cell_type": "code",
      "metadata": {
        "id": "WCvRjcSqjFED"
      },
      "source": [
        "# ### Normalize dataframe with min-max-normalization to range between [-0.8, 0.8] using sklearn MinMaxScaler\n",
        "# min_max_scaler = MinMaxScaler(feature_range=(-0.8,0.8))\n",
        "# scaled_ecg5000 = pd.DataFrame(min_max_scaler.fit_transform(ecg5000))\n",
        "# print(scaled_ecg5000)"
      ],
      "execution_count": 86,
      "outputs": []
    },
    {
      "cell_type": "markdown",
      "metadata": {
        "id": "v1Qxc-o8i2cV"
      },
      "source": [
        "## Split Data"
      ]
    },
    {
      "cell_type": "code",
      "metadata": {
        "id": "0FuU0-HYavQx",
        "colab": {
          "base_uri": "https://localhost:8080/"
        },
        "outputId": "3aec91d0-5a18-42ff-a6f3-2916632c6139"
      },
      "source": [
        "### Split Data into 80/20 Training, Test\n",
        "trainDF, testDF = train_test_split(ecg5000, test_size=0.2, shuffle=True, random_state=1)\n",
        "\n",
        "# get all labels from trainDF and then drop it\n",
        "trainDF_Y = trainDF.iloc[:,0]\n",
        "trainDF.drop(trainDF.columns[[0]], axis=1, inplace=True)\n",
        "\n",
        "# get all labels from testDF and then drop it\n",
        "testDF_Y = testDF.iloc[:,0]\n",
        "testDF.drop(testDF.columns[[0]], axis=1, inplace=True)\n",
        "\n",
        "# optional test and info about new data sets\n",
        "print(\"Shape of Train DataFrame: \\t {}\".format(trainDF.shape))\n",
        "print(\"Shape of Test DataFrame: \\t {}\".format(testDF.shape))\n",
        "print(\"Shape of Train Y DataFrame: \\t {}\".format(trainDF_Y.shape))\n",
        "print(\"Shape of Test Y DataFrame: \\t {}\".format(testDF_Y.shape))"
      ],
      "execution_count": 87,
      "outputs": [
        {
          "output_type": "stream",
          "text": [
            "Shape of Train DataFrame: \t (4000, 140)\n",
            "Shape of Test DataFrame: \t (1000, 140)\n",
            "Shape of Train Y DataFrame: \t (4000,)\n",
            "Shape of Test Y DataFrame: \t (1000,)\n"
          ],
          "name": "stdout"
        }
      ]
    },
    {
      "cell_type": "markdown",
      "metadata": {
        "id": "MqDAiFlPipdc"
      },
      "source": [
        "## Reshape Data"
      ]
    },
    {
      "cell_type": "code",
      "metadata": {
        "id": "stkCjqkHiHBo",
        "colab": {
          "base_uri": "https://localhost:8080/"
        },
        "outputId": "ae44b8c4-9104-4b5a-8f7e-cd62e212e385"
      },
      "source": [
        "### Convert to array\n",
        "x_train = trainDF.to_numpy()\n",
        "x_test = testDF.to_numpy()\n",
        "\n",
        "y_train = trainDF_Y.to_numpy()\n",
        "y_test = testDF_Y.to_numpy()\n",
        "\n",
        "### Reshape datasets X/Y train/test into [samples, time steps, features]\n",
        "s_x_train = len(trainDF.index)  # samples\n",
        "n_x_train = len(trainDF.columns)  # time steps\n",
        "\n",
        "s_x_test = len(testDF.index)  # samples\n",
        "n_x_test = len(testDF.columns)  # time steps\n",
        "\n",
        "s_y_train = len(trainDF_Y.index)  # samples\n",
        "\n",
        "s_y_test = len(testDF_Y.index)  # samples\n",
        "\n",
        "x_train = x_train.reshape(s_x_train, n_x_train, 1)\n",
        "x_test = x_test.reshape(s_x_test, n_x_test, 1)\n",
        "\n",
        "y_train = y_train.reshape(s_y_train, 1, 1)\n",
        "y_test = y_test.reshape(s_y_test, 1, 1)\n",
        "\n",
        "### Properties\n",
        "print(\"Shape of x_train: {}\".format(x_train.shape))\n",
        "print(\"Shape of x_test: {}\".format(x_test.shape))\n",
        "\n",
        "print(\"Shape of y_train: {}\".format(y_train.shape))\n",
        "print(\"Shape of y_test: {}\".format(y_test.shape))"
      ],
      "execution_count": 88,
      "outputs": [
        {
          "output_type": "stream",
          "text": [
            "Shape of x_train: (4000, 140, 1)\n",
            "Shape of x_test: (1000, 140, 1)\n",
            "Shape of y_train: (4000, 1, 1)\n",
            "Shape of y_test: (1000, 1, 1)\n"
          ],
          "name": "stdout"
        }
      ]
    },
    {
      "cell_type": "markdown",
      "metadata": {
        "id": "FeXLn2bUYa7g"
      },
      "source": [
        "# Sampling\r\n",
        "\r\n",
        "---\r\n",
        "\r\n"
      ]
    },
    {
      "cell_type": "code",
      "metadata": {
        "id": "BuO7o5GGYg3y"
      },
      "source": [
        "class Sampling(layers.Layer):\r\n",
        "    \"\"\"Uses (z_mean, z_log_var) to sample z\"\"\"\r\n",
        "\r\n",
        "    def call(self, inputs):\r\n",
        "        z_mean, z_log_var = inputs\r\n",
        "        batch = tf.shape(z_mean)[0]\r\n",
        "        dim = tf.shape(z_mean)[1]\r\n",
        "        epsilon = tf.keras.backend.random_normal(shape=(batch, dim))\r\n",
        "        return z_mean + tf.exp(0.5 * z_log_var) * epsilon"
      ],
      "execution_count": 89,
      "outputs": []
    },
    {
      "cell_type": "markdown",
      "metadata": {
        "id": "4F9x-KyKM4NJ"
      },
      "source": [
        "# Build Variational Autoencoder (VAE)\n",
        "\n",
        "---\n",
        "\n"
      ]
    },
    {
      "cell_type": "markdown",
      "metadata": {
        "id": "6hcpCe0zGwQl"
      },
      "source": [
        "## Encoder"
      ]
    },
    {
      "cell_type": "code",
      "metadata": {
        "id": "4194a4eCBSh5"
      },
      "source": [
        "def create_encoder(intermediate_dim=140, latent_dim=5, dropout_rate=0.2, regularizer_rate=0.004):\r\n",
        "    \"\"\"Maps ECG5000 time series to a triplet (z_mean, z_log_var, z).\"\"\"\r\n",
        "\r\n",
        "    ### Define Layers\r\n",
        "    encoder_inputs = keras.Input(shape=(140, 1), name='Encoder_Input_layer')\r\n",
        "\r\n",
        "    encoded = Bidirectional(LSTM(intermediate_dim, activation='tanh', name=''), name='Encode_1')(encoder_inputs)\r\n",
        "    # encoded = Flatten()(encoded), LSTM return_sequence=True\r\n",
        "    encoded = Dropout(dropout_rate, name='Dropout_1')(encoded)\r\n",
        "    encoded = Dense(latent_dim, activation='tanh', name='Encode_2', kernel_regularizer=l2(regularizer_rate),\r\n",
        "                    activity_regularizer=l2(regularizer_rate))(encoded)\r\n",
        "\r\n",
        "    z_mean = Dense(latent_dim, activation='softplus', name=\"z_mean\")(encoded)\r\n",
        "    z_log_var = Dense(latent_dim, activation='softplus', name=\"z_log_var\")(encoded)\r\n",
        "    z = Sampling(name='Sample_layer')([z_mean, z_log_var])\r\n",
        "\r\n",
        "    ### Instantiate encoder\r\n",
        "    encoder = keras.Model(encoder_inputs, [z_mean, z_log_var, z], name=\"encoder\")\r\n",
        "\r\n",
        "    return encoder"
      ],
      "execution_count": 90,
      "outputs": []
    },
    {
      "cell_type": "code",
      "metadata": {
        "id": "WCpMI6C0Diyv",
        "colab": {
          "base_uri": "https://localhost:8080/"
        },
        "outputId": "1757ef17-1e20-41c4-8a34-b4ae39999d66"
      },
      "source": [
        "### Check if encoder works\r\n",
        "encoder_test = create_encoder() \r\n",
        "encoder_test.summary()"
      ],
      "execution_count": 91,
      "outputs": [
        {
          "output_type": "stream",
          "text": [
            "Model: \"encoder\"\n",
            "__________________________________________________________________________________________________\n",
            "Layer (type)                    Output Shape         Param #     Connected to                     \n",
            "==================================================================================================\n",
            "Encoder_Input_layer (InputLayer [(None, 140, 1)]     0                                            \n",
            "__________________________________________________________________________________________________\n",
            "Encode_1 (Bidirectional)        (None, 280)          159040      Encoder_Input_layer[0][0]        \n",
            "__________________________________________________________________________________________________\n",
            "Dropout_1 (Dropout)             (None, 280)          0           Encode_1[0][0]                   \n",
            "__________________________________________________________________________________________________\n",
            "Encode_2 (Dense)                (None, 5)            1405        Dropout_1[0][0]                  \n",
            "__________________________________________________________________________________________________\n",
            "z_mean (Dense)                  (None, 5)            30          Encode_2[0][0]                   \n",
            "__________________________________________________________________________________________________\n",
            "z_log_var (Dense)               (None, 5)            30          Encode_2[0][0]                   \n",
            "__________________________________________________________________________________________________\n",
            "Sample_layer (Sampling)         (None, 5)            0           z_mean[0][0]                     \n",
            "                                                                 z_log_var[0][0]                  \n",
            "==================================================================================================\n",
            "Total params: 160,505\n",
            "Trainable params: 160,505\n",
            "Non-trainable params: 0\n",
            "__________________________________________________________________________________________________\n"
          ],
          "name": "stdout"
        }
      ]
    },
    {
      "cell_type": "markdown",
      "metadata": {
        "id": "Z_PrqOCOG244"
      },
      "source": [
        "## Decoder"
      ]
    },
    {
      "cell_type": "code",
      "metadata": {
        "id": "sxnUeH7FBJVH"
      },
      "source": [
        "def create_decoder(encoding_dim=140, intermediate_dim=140, latent_dim=5, dropout_rate=0.2,\r\n",
        "                   regularizer_rate=0.004):\r\n",
        "    \"\"\"Converts z, the encoded time series, back into a readable time series.\"\"\"\r\n",
        "\r\n",
        "    ### Define Layers\r\n",
        "    latent_inputs = keras.Input(shape=(latent_dim,), name='Decoder_Input_layer')\r\n",
        "\r\n",
        "    decoded = Dense(encoding_dim * 256, activation='tanh', name='Decode_1', kernel_regularizer=l2(regularizer_rate),\r\n",
        "                    activity_regularizer=l2(regularizer_rate))(latent_inputs)\r\n",
        "    decoded = Reshape((140, 256), name='Decode_2')(decoded)\r\n",
        "    decoded = Dropout(dropout_rate, name='Dropout_1')(decoded)\r\n",
        "    decoded = Bidirectional(LSTM(intermediate_dim, activation='tanh', return_sequences=True, name=''), name='Decode_3')(\r\n",
        "         decoded)\r\n",
        "\r\n",
        "    decoder_outputs = TimeDistributed(Dense(1, activation='linear', name=''), name='Decoder_Output_Layer')(decoded)\r\n",
        "\r\n",
        "    ### Instantiate decoder\r\n",
        "    decoder = keras.Model(latent_inputs, decoder_outputs, name=\"decoder\")\r\n",
        "\r\n",
        "    return decoder\r\n"
      ],
      "execution_count": 92,
      "outputs": []
    },
    {
      "cell_type": "code",
      "metadata": {
        "id": "tHOP8O9gFoR8",
        "colab": {
          "base_uri": "https://localhost:8080/"
        },
        "outputId": "6281c101-3d26-4f5b-938f-d0ebd099e0e8"
      },
      "source": [
        "### Check if decoder works\r\n",
        "decoder_test = create_decoder()\r\n",
        "decoder_test.summary()"
      ],
      "execution_count": 93,
      "outputs": [
        {
          "output_type": "stream",
          "text": [
            "Model: \"decoder\"\n",
            "_________________________________________________________________\n",
            "Layer (type)                 Output Shape              Param #   \n",
            "=================================================================\n",
            "Decoder_Input_layer (InputLa [(None, 5)]               0         \n",
            "_________________________________________________________________\n",
            "Decode_1 (Dense)             (None, 35840)             215040    \n",
            "_________________________________________________________________\n",
            "Decode_2 (Reshape)           (None, 140, 256)          0         \n",
            "_________________________________________________________________\n",
            "Dropout_1 (Dropout)          (None, 140, 256)          0         \n",
            "_________________________________________________________________\n",
            "Decode_3 (Bidirectional)     (None, 140, 280)          444640    \n",
            "_________________________________________________________________\n",
            "Decoder_Output_Layer (TimeDi (None, 140, 1)            281       \n",
            "=================================================================\n",
            "Total params: 659,961\n",
            "Trainable params: 659,961\n",
            "Non-trainable params: 0\n",
            "_________________________________________________________________\n"
          ],
          "name": "stdout"
        }
      ]
    },
    {
      "cell_type": "markdown",
      "metadata": {
        "id": "RAKUqMR8oSm6"
      },
      "source": [
        "## VAE"
      ]
    },
    {
      "cell_type": "markdown",
      "metadata": {
        "id": "aNwUKMjdFM_L"
      },
      "source": [
        "### Define VAE Model"
      ]
    },
    {
      "cell_type": "code",
      "metadata": {
        "id": "v9hxGlDYBBKV"
      },
      "source": [
        "class VAE(keras.Model):\r\n",
        "    \"\"\"Combines the encoder and decoder into an end-to-end model for training.\"\"\"\r\n",
        "\r\n",
        "    def __init__(self, encoder, decoder, **kwargs):\r\n",
        "        super(VAE, self).__init__(**kwargs)\r\n",
        "        self.encoder = encoder\r\n",
        "        self.decoder = decoder\r\n",
        "\r\n",
        "    def train_step(self, data):\r\n",
        "        # unpack the data\r\n",
        "        if isinstance(data, tuple):\r\n",
        "            data = data[0]\r\n",
        "        with tf.GradientTape() as tape:\r\n",
        "            # forward pass\r\n",
        "            z_mean, z_log_var, z = self.encoder(data)\r\n",
        "            reconstruction = self.decoder(z)\r\n",
        "            # Compute own loss\r\n",
        "            reconstruction_loss = tf.reduce_mean(\r\n",
        "                keras.losses.mean_squared_error(data, reconstruction) * 140\r\n",
        "            )\r\n",
        "            kl_loss = 1 + z_log_var - tf.square(z_mean) - tf.exp(z_log_var)\r\n",
        "            kl_loss = tf.reduce_mean(kl_loss)\r\n",
        "            kl_loss *= -0.5\r\n",
        "            total_loss = reconstruction_loss + kl_loss\r\n",
        "        # compute gradients\r\n",
        "        grads = tape.gradient(total_loss, self.trainable_weights)\r\n",
        "        # update weights\r\n",
        "        self.optimizer.apply_gradients(zip(grads, self.trainable_weights))\r\n",
        "        # compute own metrics\r\n",
        "        return {\r\n",
        "            \"loss\": total_loss,\r\n",
        "            \"reconstruction_loss\": reconstruction_loss,\r\n",
        "            \"kl_loss\": kl_loss,\r\n",
        "        }\r\n",
        "\r\n",
        "    def test_step(self, data):\r\n",
        "        # unpack the data\r\n",
        "        x, y = data\r\n",
        "        # compute predictions\r\n",
        "        y_pred = self(x, training=False)\r\n",
        "        # updates the metrics tracking the loss\r\n",
        "        self.compiled_loss(y, y_pred, regularization_losses=self.losses)\r\n",
        "        # update the metrics\r\n",
        "        self.compiled_metrics.update_state(y, y_pred)\r\n",
        "        # return a dict mapping metric names to current value\r\n",
        "        return {m.name: m.result() for m in self.metrics}\r\n",
        "\r\n",
        "    def call(self, data, **kwargs):\r\n",
        "        z_mean, z_log_var, z = self.encoder(data)\r\n",
        "        reconstructed = self.decoder(z)\r\n",
        "        return reconstructed"
      ],
      "execution_count": 94,
      "outputs": []
    },
    {
      "cell_type": "markdown",
      "metadata": {
        "id": "hWJVg5WPFQlb"
      },
      "source": [
        "### Build VAE connecting Encoder and Decoder"
      ]
    },
    {
      "cell_type": "code",
      "metadata": {
        "id": "PfjVoHGu5eN_"
      },
      "source": [
        "### Define function to create model\n",
        "def create_model(intermediate_dim=140, dropout_rate=0.2, regularizer_rate=0.004, optimizer='adam', learn_rate=0.001,\n",
        "                 name='VAE'):\n",
        "    \"\"\"Creates VAE model, required for wrapping in estimator interface KerasRegressor, while accepting the hyperparameters we want to tune. We also pass some default values.\"\"\"\n",
        "\n",
        "    # create encoder \n",
        "    encoder = create_encoder(intermediate_dim=intermediate_dim, dropout_rate=dropout_rate,\n",
        "                             regularizer_rate=regularizer_rate)\n",
        "    # create decoder \n",
        "    decoder = create_decoder(intermediate_dim=intermediate_dim, dropout_rate=dropout_rate,\n",
        "                             regularizer_rate=regularizer_rate)\n",
        "    # create vae\n",
        "    model = VAE(encoder, decoder, name=name)\n",
        "    # compile model\n",
        "    if optimizer == 'adam':\n",
        "        opt = Adam(lr=learn_rate, amsgrad=True)\n",
        "    else:\n",
        "        opt = SGD(lr=learn_rate)\n",
        "    model.compile(optimizer=opt)\n",
        "    model.build((None, 140, 1))\n",
        "\n",
        "    return model"
      ],
      "execution_count": 95,
      "outputs": []
    },
    {
      "cell_type": "code",
      "metadata": {
        "id": "g-XPM-YdEiOt",
        "colab": {
          "base_uri": "https://localhost:8080/"
        },
        "outputId": "7547af82-b822-402e-8962-76ac04177849"
      },
      "source": [
        "### Instantiate VAE model\r\n",
        "vae = create_model(name='VAE')\r\n",
        "\r\n",
        "### Display VAE model and it`s parts\r\n",
        "# encoder \r\n",
        "vae.encoder.summary(line_length=100)\r\n",
        "plot_model(vae.encoder, show_shapes=True, to_file='vae_encoder.png')\r\n",
        "print(\"\\n\")\r\n",
        "# decoder\r\n",
        "vae.decoder.summary(line_length=100)\r\n",
        "plot_model(vae.decoder, show_shapes=True, to_file='vae_decoder.png')\r\n",
        "print(\"\\n\")\r\n",
        "# vae\r\n",
        "vae.summary(line_length=100)"
      ],
      "execution_count": 96,
      "outputs": [
        {
          "output_type": "stream",
          "text": [
            "Model: \"encoder\"\n",
            "____________________________________________________________________________________________________\n",
            "Layer (type)                     Output Shape          Param #     Connected to                     \n",
            "====================================================================================================\n",
            "Encoder_Input_layer (InputLayer) [(None, 140, 1)]      0                                            \n",
            "____________________________________________________________________________________________________\n",
            "Encode_1 (Bidirectional)         (None, 280)           159040      Encoder_Input_layer[0][0]        \n",
            "____________________________________________________________________________________________________\n",
            "Dropout_1 (Dropout)              (None, 280)           0           Encode_1[0][0]                   \n",
            "____________________________________________________________________________________________________\n",
            "Encode_2 (Dense)                 (None, 5)             1405        Dropout_1[0][0]                  \n",
            "____________________________________________________________________________________________________\n",
            "z_mean (Dense)                   (None, 5)             30          Encode_2[0][0]                   \n",
            "____________________________________________________________________________________________________\n",
            "z_log_var (Dense)                (None, 5)             30          Encode_2[0][0]                   \n",
            "____________________________________________________________________________________________________\n",
            "Sample_layer (Sampling)          (None, 5)             0           z_mean[0][0]                     \n",
            "                                                                   z_log_var[0][0]                  \n",
            "====================================================================================================\n",
            "Total params: 160,505\n",
            "Trainable params: 160,505\n",
            "Non-trainable params: 0\n",
            "____________________________________________________________________________________________________\n",
            "\n",
            "\n",
            "Model: \"decoder\"\n",
            "____________________________________________________________________________________________________\n",
            "Layer (type)                                 Output Shape                            Param #        \n",
            "====================================================================================================\n",
            "Decoder_Input_layer (InputLayer)             [(None, 5)]                             0              \n",
            "____________________________________________________________________________________________________\n",
            "Decode_1 (Dense)                             (None, 35840)                           215040         \n",
            "____________________________________________________________________________________________________\n",
            "Decode_2 (Reshape)                           (None, 140, 256)                        0              \n",
            "____________________________________________________________________________________________________\n",
            "Dropout_1 (Dropout)                          (None, 140, 256)                        0              \n",
            "____________________________________________________________________________________________________\n",
            "Decode_3 (Bidirectional)                     (None, 140, 280)                        444640         \n",
            "____________________________________________________________________________________________________\n",
            "Decoder_Output_Layer (TimeDistributed)       (None, 140, 1)                          281            \n",
            "====================================================================================================\n",
            "Total params: 659,961\n",
            "Trainable params: 659,961\n",
            "Non-trainable params: 0\n",
            "____________________________________________________________________________________________________\n",
            "\n",
            "\n",
            "Model: \"VAE\"\n",
            "____________________________________________________________________________________________________\n",
            "Layer (type)                                 Output Shape                            Param #        \n",
            "====================================================================================================\n",
            "encoder (Functional)                         [(None, 5), (None, 5), (None, 5)]       160505         \n",
            "____________________________________________________________________________________________________\n",
            "decoder (Functional)                         (None, 140, 1)                          659961         \n",
            "====================================================================================================\n",
            "Total params: 820,466\n",
            "Trainable params: 820,466\n",
            "Non-trainable params: 0\n",
            "____________________________________________________________________________________________________\n"
          ],
          "name": "stdout"
        }
      ]
    },
    {
      "cell_type": "markdown",
      "metadata": {
        "id": "T7OlCIRCOUF-"
      },
      "source": [
        "# Train VAE\r\n",
        "\r\n",
        "---\r\n",
        "\r\n"
      ]
    },
    {
      "cell_type": "code",
      "metadata": {
        "id": "cf2gXbw290r5"
      },
      "source": [
        "### Train Properties\r\n",
        "epochs = 100 #50, 100\r\n",
        "batch_size = 16 #16, 32"
      ],
      "execution_count": 97,
      "outputs": []
    },
    {
      "cell_type": "markdown",
      "metadata": {
        "id": "MfnzjwIxlShE"
      },
      "source": [
        "## Train"
      ]
    },
    {
      "cell_type": "code",
      "metadata": {
        "id": "BTkdJdc_N5SN",
        "colab": {
          "base_uri": "https://localhost:8080/"
        },
        "outputId": "d803074a-016f-4392-bc83-f63e961926ea"
      },
      "source": [
        "### Train\r\n",
        "train_history = vae.fit(x_train, x_train, epochs=epochs, batch_size=batch_size, validation_data=(x_test, x_test))"
      ],
      "execution_count": 98,
      "outputs": [
        {
          "output_type": "stream",
          "text": [
            "Epoch 1/100\n",
            "250/250 [==============================] - 14s 43ms/step - loss: 48.3072 - reconstruction_loss: 46.9839 - kl_loss: 1.3233 - val_loss: 0.8921\n",
            "Epoch 2/100\n",
            "250/250 [==============================] - 10s 40ms/step - loss: 37.4587 - reconstruction_loss: 35.6351 - kl_loss: 1.8236 - val_loss: 1.3672\n",
            "Epoch 3/100\n",
            "250/250 [==============================] - 10s 40ms/step - loss: 35.6701 - reconstruction_loss: 33.6403 - kl_loss: 2.0298 - val_loss: 1.7806\n",
            "Epoch 4/100\n",
            "250/250 [==============================] - 10s 40ms/step - loss: 34.0549 - reconstruction_loss: 31.8974 - kl_loss: 2.1575 - val_loss: 2.0474\n",
            "Epoch 5/100\n",
            "250/250 [==============================] - 10s 40ms/step - loss: 33.2542 - reconstruction_loss: 30.8923 - kl_loss: 2.3619 - val_loss: 2.6428\n",
            "Epoch 6/100\n",
            "250/250 [==============================] - 10s 40ms/step - loss: 31.9332 - reconstruction_loss: 29.3865 - kl_loss: 2.5467 - val_loss: 2.9419\n",
            "Epoch 7/100\n",
            "250/250 [==============================] - 10s 40ms/step - loss: 30.2975 - reconstruction_loss: 27.5141 - kl_loss: 2.7834 - val_loss: 3.5564\n",
            "Epoch 8/100\n",
            "250/250 [==============================] - 10s 40ms/step - loss: 29.3637 - reconstruction_loss: 26.4622 - kl_loss: 2.9015 - val_loss: 3.8973\n",
            "Epoch 9/100\n",
            "250/250 [==============================] - 10s 40ms/step - loss: 28.4811 - reconstruction_loss: 25.4727 - kl_loss: 3.0084 - val_loss: 4.2534\n",
            "Epoch 10/100\n",
            "250/250 [==============================] - 10s 40ms/step - loss: 27.6511 - reconstruction_loss: 24.5494 - kl_loss: 3.1016 - val_loss: 4.6992\n",
            "Epoch 11/100\n",
            "250/250 [==============================] - 10s 40ms/step - loss: 27.0368 - reconstruction_loss: 23.8640 - kl_loss: 3.1728 - val_loss: 5.2498\n",
            "Epoch 12/100\n",
            "250/250 [==============================] - 10s 40ms/step - loss: 26.2793 - reconstruction_loss: 23.1162 - kl_loss: 3.1631 - val_loss: 5.6416\n",
            "Epoch 13/100\n",
            "250/250 [==============================] - 10s 40ms/step - loss: 25.8452 - reconstruction_loss: 22.6757 - kl_loss: 3.1695 - val_loss: 5.6940\n",
            "Epoch 14/100\n",
            "250/250 [==============================] - 10s 41ms/step - loss: 25.3944 - reconstruction_loss: 22.2322 - kl_loss: 3.1622 - val_loss: 5.9853\n",
            "Epoch 15/100\n",
            "250/250 [==============================] - 10s 40ms/step - loss: 24.7353 - reconstruction_loss: 21.5658 - kl_loss: 3.1696 - val_loss: 6.2570\n",
            "Epoch 16/100\n",
            "250/250 [==============================] - 10s 40ms/step - loss: 24.2749 - reconstruction_loss: 21.0901 - kl_loss: 3.1848 - val_loss: 6.6160\n",
            "Epoch 17/100\n",
            "250/250 [==============================] - 10s 40ms/step - loss: 24.1709 - reconstruction_loss: 20.9419 - kl_loss: 3.2290 - val_loss: 7.0146\n",
            "Epoch 18/100\n",
            "250/250 [==============================] - 10s 41ms/step - loss: 23.7044 - reconstruction_loss: 20.4512 - kl_loss: 3.2532 - val_loss: 7.3350\n",
            "Epoch 19/100\n",
            "250/250 [==============================] - 10s 40ms/step - loss: 23.2211 - reconstruction_loss: 19.9824 - kl_loss: 3.2387 - val_loss: 7.5310\n",
            "Epoch 20/100\n",
            "250/250 [==============================] - 10s 40ms/step - loss: 22.9742 - reconstruction_loss: 19.7398 - kl_loss: 3.2344 - val_loss: 7.8340\n",
            "Epoch 21/100\n",
            "250/250 [==============================] - 10s 40ms/step - loss: 22.6897 - reconstruction_loss: 19.4725 - kl_loss: 3.2172 - val_loss: 7.8808\n",
            "Epoch 22/100\n",
            "250/250 [==============================] - 10s 41ms/step - loss: 22.0760 - reconstruction_loss: 18.9825 - kl_loss: 3.0935 - val_loss: 8.2226\n",
            "Epoch 23/100\n",
            "250/250 [==============================] - 10s 40ms/step - loss: 21.8898 - reconstruction_loss: 18.6718 - kl_loss: 3.2180 - val_loss: 7.9638\n",
            "Epoch 24/100\n",
            "250/250 [==============================] - 10s 40ms/step - loss: 21.8420 - reconstruction_loss: 18.6163 - kl_loss: 3.2256 - val_loss: 8.1481\n",
            "Epoch 25/100\n",
            "250/250 [==============================] - 10s 40ms/step - loss: 21.8977 - reconstruction_loss: 18.6211 - kl_loss: 3.2766 - val_loss: 8.4439\n",
            "Epoch 26/100\n",
            "250/250 [==============================] - 10s 40ms/step - loss: 21.3921 - reconstruction_loss: 18.1267 - kl_loss: 3.2654 - val_loss: 8.8920\n",
            "Epoch 27/100\n",
            "250/250 [==============================] - 10s 40ms/step - loss: 21.3728 - reconstruction_loss: 17.9919 - kl_loss: 3.3809 - val_loss: 8.7521\n",
            "Epoch 28/100\n",
            "250/250 [==============================] - 10s 40ms/step - loss: 21.0062 - reconstruction_loss: 17.7290 - kl_loss: 3.2772 - val_loss: 9.2461\n",
            "Epoch 29/100\n",
            "250/250 [==============================] - 10s 40ms/step - loss: 20.8025 - reconstruction_loss: 17.5286 - kl_loss: 3.2739 - val_loss: 8.8720\n",
            "Epoch 30/100\n",
            "250/250 [==============================] - 10s 40ms/step - loss: 20.7629 - reconstruction_loss: 17.4792 - kl_loss: 3.2837 - val_loss: 9.4689\n",
            "Epoch 31/100\n",
            "250/250 [==============================] - 10s 41ms/step - loss: 20.5179 - reconstruction_loss: 17.2116 - kl_loss: 3.3063 - val_loss: 9.2649\n",
            "Epoch 32/100\n",
            "250/250 [==============================] - 10s 40ms/step - loss: 20.4545 - reconstruction_loss: 17.1225 - kl_loss: 3.3320 - val_loss: 9.4913\n",
            "Epoch 33/100\n",
            "250/250 [==============================] - 10s 40ms/step - loss: 20.4273 - reconstruction_loss: 17.1166 - kl_loss: 3.3107 - val_loss: 9.9063\n",
            "Epoch 34/100\n",
            "250/250 [==============================] - 10s 40ms/step - loss: 20.2976 - reconstruction_loss: 16.9292 - kl_loss: 3.3683 - val_loss: 9.6188\n",
            "Epoch 35/100\n",
            "250/250 [==============================] - 10s 41ms/step - loss: 20.1103 - reconstruction_loss: 16.7854 - kl_loss: 3.3249 - val_loss: 9.7486\n",
            "Epoch 36/100\n",
            "250/250 [==============================] - 10s 40ms/step - loss: 20.1169 - reconstruction_loss: 16.7924 - kl_loss: 3.3245 - val_loss: 9.8336\n",
            "Epoch 37/100\n",
            "250/250 [==============================] - 10s 40ms/step - loss: 19.8251 - reconstruction_loss: 16.4960 - kl_loss: 3.3291 - val_loss: 10.1320\n",
            "Epoch 38/100\n",
            "250/250 [==============================] - 10s 40ms/step - loss: 20.0209 - reconstruction_loss: 16.6138 - kl_loss: 3.4072 - val_loss: 10.0344\n",
            "Epoch 39/100\n",
            "250/250 [==============================] - 10s 40ms/step - loss: 19.6242 - reconstruction_loss: 16.1617 - kl_loss: 3.4625 - val_loss: 10.1384\n",
            "Epoch 40/100\n",
            "250/250 [==============================] - 10s 40ms/step - loss: 19.6770 - reconstruction_loss: 16.3006 - kl_loss: 3.3764 - val_loss: 10.4682\n",
            "Epoch 41/100\n",
            "250/250 [==============================] - 10s 40ms/step - loss: 19.4890 - reconstruction_loss: 16.0901 - kl_loss: 3.3990 - val_loss: 10.4526\n",
            "Epoch 42/100\n",
            "250/250 [==============================] - 10s 41ms/step - loss: 19.3540 - reconstruction_loss: 15.9319 - kl_loss: 3.4221 - val_loss: 10.9372\n",
            "Epoch 43/100\n",
            "250/250 [==============================] - 10s 41ms/step - loss: 19.3608 - reconstruction_loss: 15.9398 - kl_loss: 3.4210 - val_loss: 10.8446\n",
            "Epoch 44/100\n",
            "250/250 [==============================] - 10s 41ms/step - loss: 19.4339 - reconstruction_loss: 15.9989 - kl_loss: 3.4350 - val_loss: 11.0116\n",
            "Epoch 45/100\n",
            "250/250 [==============================] - 10s 41ms/step - loss: 19.3299 - reconstruction_loss: 15.8949 - kl_loss: 3.4350 - val_loss: 11.5404\n",
            "Epoch 46/100\n",
            "250/250 [==============================] - 10s 41ms/step - loss: 19.1508 - reconstruction_loss: 15.7197 - kl_loss: 3.4311 - val_loss: 10.5971\n",
            "Epoch 47/100\n",
            "250/250 [==============================] - 10s 41ms/step - loss: 19.0614 - reconstruction_loss: 15.6101 - kl_loss: 3.4513 - val_loss: 10.8100\n",
            "Epoch 48/100\n",
            "250/250 [==============================] - 10s 41ms/step - loss: 19.1930 - reconstruction_loss: 15.7585 - kl_loss: 3.4345 - val_loss: 10.7468\n",
            "Epoch 49/100\n",
            "250/250 [==============================] - 10s 40ms/step - loss: 19.1254 - reconstruction_loss: 15.6878 - kl_loss: 3.4377 - val_loss: 10.9118\n",
            "Epoch 50/100\n",
            "250/250 [==============================] - 10s 41ms/step - loss: 19.0515 - reconstruction_loss: 15.6355 - kl_loss: 3.4160 - val_loss: 11.2177\n",
            "Epoch 51/100\n",
            "250/250 [==============================] - 10s 41ms/step - loss: 18.9614 - reconstruction_loss: 15.5050 - kl_loss: 3.4564 - val_loss: 11.3783\n",
            "Epoch 52/100\n",
            "250/250 [==============================] - 10s 41ms/step - loss: 18.7110 - reconstruction_loss: 15.2898 - kl_loss: 3.4212 - val_loss: 11.2658\n",
            "Epoch 53/100\n",
            "250/250 [==============================] - 10s 40ms/step - loss: 18.7454 - reconstruction_loss: 15.3260 - kl_loss: 3.4194 - val_loss: 10.9216\n",
            "Epoch 54/100\n",
            "250/250 [==============================] - 10s 41ms/step - loss: 18.8639 - reconstruction_loss: 15.4665 - kl_loss: 3.3974 - val_loss: 11.8853\n",
            "Epoch 55/100\n",
            "250/250 [==============================] - 10s 41ms/step - loss: 18.9382 - reconstruction_loss: 15.4784 - kl_loss: 3.4599 - val_loss: 11.1506\n",
            "Epoch 56/100\n",
            "250/250 [==============================] - 10s 41ms/step - loss: 19.0894 - reconstruction_loss: 15.6721 - kl_loss: 3.4173 - val_loss: 12.2200\n",
            "Epoch 57/100\n",
            "250/250 [==============================] - 10s 40ms/step - loss: 18.7980 - reconstruction_loss: 15.3063 - kl_loss: 3.4917 - val_loss: 11.3910\n",
            "Epoch 58/100\n",
            "250/250 [==============================] - 10s 41ms/step - loss: 18.7361 - reconstruction_loss: 15.2168 - kl_loss: 3.5193 - val_loss: 11.7702\n",
            "Epoch 59/100\n",
            "250/250 [==============================] - 10s 41ms/step - loss: 18.5749 - reconstruction_loss: 15.1454 - kl_loss: 3.4295 - val_loss: 11.9976\n",
            "Epoch 60/100\n",
            "250/250 [==============================] - 10s 41ms/step - loss: 18.6895 - reconstruction_loss: 15.2209 - kl_loss: 3.4686 - val_loss: 11.7635\n",
            "Epoch 61/100\n",
            "250/250 [==============================] - 10s 40ms/step - loss: 18.5674 - reconstruction_loss: 15.0917 - kl_loss: 3.4757 - val_loss: 12.0733\n",
            "Epoch 62/100\n",
            "250/250 [==============================] - 10s 41ms/step - loss: 18.4794 - reconstruction_loss: 14.9933 - kl_loss: 3.4861 - val_loss: 11.9463\n",
            "Epoch 63/100\n",
            "250/250 [==============================] - 10s 40ms/step - loss: 18.4592 - reconstruction_loss: 15.0273 - kl_loss: 3.4319 - val_loss: 12.0938\n",
            "Epoch 64/100\n",
            "250/250 [==============================] - 10s 40ms/step - loss: 18.4510 - reconstruction_loss: 14.9948 - kl_loss: 3.4562 - val_loss: 12.3441\n",
            "Epoch 65/100\n",
            "250/250 [==============================] - 10s 40ms/step - loss: 18.2756 - reconstruction_loss: 14.7945 - kl_loss: 3.4811 - val_loss: 12.2056\n",
            "Epoch 66/100\n",
            "250/250 [==============================] - 10s 41ms/step - loss: 18.3564 - reconstruction_loss: 14.8847 - kl_loss: 3.4716 - val_loss: 12.2645\n",
            "Epoch 67/100\n",
            "250/250 [==============================] - 10s 41ms/step - loss: 18.9043 - reconstruction_loss: 15.3819 - kl_loss: 3.5225 - val_loss: 12.8472\n",
            "Epoch 68/100\n",
            "250/250 [==============================] - 10s 41ms/step - loss: 18.3132 - reconstruction_loss: 14.8360 - kl_loss: 3.4772 - val_loss: 12.5808\n",
            "Epoch 69/100\n",
            "250/250 [==============================] - 10s 40ms/step - loss: 18.3401 - reconstruction_loss: 14.8358 - kl_loss: 3.5042 - val_loss: 12.9394\n",
            "Epoch 70/100\n",
            "250/250 [==============================] - 10s 41ms/step - loss: 18.3026 - reconstruction_loss: 14.7561 - kl_loss: 3.5465 - val_loss: 12.6657\n",
            "Epoch 71/100\n",
            "250/250 [==============================] - 10s 40ms/step - loss: 18.1186 - reconstruction_loss: 14.5976 - kl_loss: 3.5210 - val_loss: 12.4596\n",
            "Epoch 72/100\n",
            "250/250 [==============================] - 10s 40ms/step - loss: 18.2834 - reconstruction_loss: 14.7185 - kl_loss: 3.5649 - val_loss: 12.6379\n",
            "Epoch 73/100\n",
            "250/250 [==============================] - 10s 41ms/step - loss: 18.3009 - reconstruction_loss: 14.8008 - kl_loss: 3.5002 - val_loss: 12.8205\n",
            "Epoch 74/100\n",
            "250/250 [==============================] - 10s 41ms/step - loss: 18.2319 - reconstruction_loss: 14.7176 - kl_loss: 3.5143 - val_loss: 12.9434\n",
            "Epoch 75/100\n",
            "250/250 [==============================] - 10s 41ms/step - loss: 18.0282 - reconstruction_loss: 14.5533 - kl_loss: 3.4749 - val_loss: 13.0430\n",
            "Epoch 76/100\n",
            "250/250 [==============================] - 10s 40ms/step - loss: 18.0032 - reconstruction_loss: 14.5366 - kl_loss: 3.4666 - val_loss: 13.3088\n",
            "Epoch 77/100\n",
            "250/250 [==============================] - 10s 40ms/step - loss: 17.9150 - reconstruction_loss: 14.4309 - kl_loss: 3.4842 - val_loss: 12.7320\n",
            "Epoch 78/100\n",
            "250/250 [==============================] - 10s 40ms/step - loss: 17.9911 - reconstruction_loss: 14.4794 - kl_loss: 3.5117 - val_loss: 13.5876\n",
            "Epoch 79/100\n",
            "250/250 [==============================] - 10s 40ms/step - loss: 17.7584 - reconstruction_loss: 14.2900 - kl_loss: 3.4684 - val_loss: 13.2107\n",
            "Epoch 80/100\n",
            "250/250 [==============================] - 10s 40ms/step - loss: 18.2481 - reconstruction_loss: 14.7477 - kl_loss: 3.5004 - val_loss: 13.4268\n",
            "Epoch 81/100\n",
            "250/250 [==============================] - 10s 40ms/step - loss: 17.9183 - reconstruction_loss: 14.3674 - kl_loss: 3.5510 - val_loss: 13.4777\n",
            "Epoch 82/100\n",
            "250/250 [==============================] - 10s 40ms/step - loss: 18.0757 - reconstruction_loss: 14.5458 - kl_loss: 3.5300 - val_loss: 13.7798\n",
            "Epoch 83/100\n",
            "250/250 [==============================] - 10s 40ms/step - loss: 18.0037 - reconstruction_loss: 14.4146 - kl_loss: 3.5891 - val_loss: 13.9128\n",
            "Epoch 84/100\n",
            "250/250 [==============================] - 10s 40ms/step - loss: 17.6932 - reconstruction_loss: 14.1374 - kl_loss: 3.5559 - val_loss: 13.1856\n",
            "Epoch 85/100\n",
            "250/250 [==============================] - 10s 40ms/step - loss: 17.9314 - reconstruction_loss: 14.3590 - kl_loss: 3.5724 - val_loss: 13.8803\n",
            "Epoch 86/100\n",
            "250/250 [==============================] - 10s 40ms/step - loss: 17.9905 - reconstruction_loss: 14.3681 - kl_loss: 3.6224 - val_loss: 13.9026\n",
            "Epoch 87/100\n",
            "250/250 [==============================] - 10s 40ms/step - loss: 17.9216 - reconstruction_loss: 14.3445 - kl_loss: 3.5771 - val_loss: 14.0371\n",
            "Epoch 88/100\n",
            "250/250 [==============================] - 10s 40ms/step - loss: 17.9346 - reconstruction_loss: 14.3041 - kl_loss: 3.6305 - val_loss: 13.9276\n",
            "Epoch 89/100\n",
            "250/250 [==============================] - 10s 40ms/step - loss: 17.7566 - reconstruction_loss: 14.1605 - kl_loss: 3.5961 - val_loss: 14.2237\n",
            "Epoch 90/100\n",
            "250/250 [==============================] - 10s 40ms/step - loss: 17.9978 - reconstruction_loss: 14.3591 - kl_loss: 3.6387 - val_loss: 14.1445\n",
            "Epoch 91/100\n",
            "250/250 [==============================] - 10s 40ms/step - loss: 17.7653 - reconstruction_loss: 14.1492 - kl_loss: 3.6161 - val_loss: 14.1663\n",
            "Epoch 92/100\n",
            "250/250 [==============================] - 10s 40ms/step - loss: 17.7540 - reconstruction_loss: 14.0981 - kl_loss: 3.6559 - val_loss: 13.9541\n",
            "Epoch 93/100\n",
            "250/250 [==============================] - 10s 40ms/step - loss: 17.7143 - reconstruction_loss: 14.1082 - kl_loss: 3.6060 - val_loss: 14.4667\n",
            "Epoch 94/100\n",
            "250/250 [==============================] - 10s 41ms/step - loss: 17.6891 - reconstruction_loss: 14.0782 - kl_loss: 3.6109 - val_loss: 14.1379\n",
            "Epoch 95/100\n",
            "250/250 [==============================] - 10s 40ms/step - loss: 17.7269 - reconstruction_loss: 14.0621 - kl_loss: 3.6649 - val_loss: 14.5548\n",
            "Epoch 96/100\n",
            "250/250 [==============================] - 10s 40ms/step - loss: 17.7573 - reconstruction_loss: 14.1303 - kl_loss: 3.6271 - val_loss: 14.4294\n",
            "Epoch 97/100\n",
            "250/250 [==============================] - 10s 40ms/step - loss: 17.7689 - reconstruction_loss: 14.1611 - kl_loss: 3.6078 - val_loss: 14.6390\n",
            "Epoch 98/100\n",
            "250/250 [==============================] - 10s 40ms/step - loss: 17.8286 - reconstruction_loss: 14.2594 - kl_loss: 3.5692 - val_loss: 14.5928\n",
            "Epoch 99/100\n",
            "250/250 [==============================] - 10s 40ms/step - loss: 17.7374 - reconstruction_loss: 14.0839 - kl_loss: 3.6535 - val_loss: 15.0189\n",
            "Epoch 100/100\n",
            "250/250 [==============================] - 10s 40ms/step - loss: 17.6625 - reconstruction_loss: 14.0352 - kl_loss: 3.6273 - val_loss: 15.1847\n"
          ],
          "name": "stdout"
        }
      ]
    },
    {
      "cell_type": "code",
      "metadata": {
        "id": "2EOIKwwPnPgT"
      },
      "source": [
        "### Save history\r\n",
        "with open('/trainHistoryDict', 'wb') as file_pi:\r\n",
        "        pickle.dump(train_history.history, file_pi)"
      ],
      "execution_count": 99,
      "outputs": []
    },
    {
      "cell_type": "code",
      "metadata": {
        "id": "gHZuTNLVjUeh",
        "colab": {
          "base_uri": "https://localhost:8080/"
        },
        "outputId": "57dc5f52-45c6-4dae-a2a2-6f63292b2e8c"
      },
      "source": [
        "### Check displayed values in the command line with actual output values of the trainings process\r\n",
        "print(\"----- loss: -----\\n{}\".format(train_history.history[\"loss\"]))\r\n",
        "print(\"----- reconstruction_loss: -----\\n{}\".format(train_history.history[\"reconstruction_loss\"]))\r\n",
        "print(\"----- kl_loss: -----\\n{}\".format(train_history.history[\"kl_loss\"]))\r\n",
        "print(\"----- val_loss: -----\\n{}\".format(train_history.history[\"val_loss\"]))"
      ],
      "execution_count": 100,
      "outputs": [
        {
          "output_type": "stream",
          "text": [
            "----- loss: -----\n",
            "[28.225244522094727, 32.94031524658203, 24.503877639770508, 29.71958351135254, 31.644916534423828, 36.70085906982422, 32.556575775146484, 35.36183547973633, 25.586862564086914, 37.968692779541016, 33.24756622314453, 30.127750396728516, 20.258644104003906, 15.084606170654297, 23.919729232788086, 21.103557586669922, 27.34408950805664, 23.133617401123047, 36.5202751159668, 19.949756622314453, 17.84628677368164, 19.717533111572266, 14.939718246459961, 19.141666412353516, 34.00772476196289, 13.216126441955566, 20.081302642822266, 17.12826919555664, 13.35066032409668, 16.158666610717773, 17.39581871032715, 21.8358211517334, 18.508312225341797, 16.31109046936035, 17.9685115814209, 20.742568969726562, 18.534549713134766, 20.004762649536133, 16.416954040527344, 16.957374572753906, 20.9217529296875, 15.113426208496094, 17.71199607849121, 13.703875541687012, 13.996755599975586, 18.483524322509766, 13.843814849853516, 13.167306900024414, 18.914445877075195, 13.043267250061035, 11.398390769958496, 17.328853607177734, 19.052623748779297, 22.118404388427734, 16.96657943725586, 22.176212310791016, 14.2335205078125, 22.0936279296875, 19.960983276367188, 22.323078155517578, 17.91993522644043, 15.231820106506348, 17.763336181640625, 11.045697212219238, 15.303613662719727, 16.91838836669922, 12.9685640335083, 15.316659927368164, 16.133270263671875, 14.134812355041504, 24.628116607666016, 27.115215301513672, 21.55076026916504, 13.630109786987305, 13.596238136291504, 19.481998443603516, 15.890167236328125, 14.677962303161621, 13.390118598937988, 25.75433921813965, 14.192448616027832, 19.284320831298828, 14.109041213989258, 13.697806358337402, 19.814241409301758, 18.102527618408203, 15.612123489379883, 19.61334228515625, 24.212722778320312, 17.22447967529297, 15.019999504089355, 13.83908748626709, 20.998510360717773, 16.177276611328125, 14.016484260559082, 17.499401092529297, 19.439565658569336, 19.428951263427734, 14.60045337677002, 13.092754364013672]\n",
            "----- reconstruction_loss: -----\n",
            "[26.57592010498047, 31.034940719604492, 22.246572494506836, 27.45775604248047, 29.19136619567871, 34.09199142456055, 29.477231979370117, 32.51734924316406, 22.665679931640625, 34.99779510498047, 30.32126808166504, 27.196273803710938, 16.819988250732422, 11.469695091247559, 20.645904541015625, 18.4498348236084, 25.009029388427734, 19.791706085205078, 33.201087951660156, 17.029027938842773, 14.247958183288574, 16.336095809936523, 12.151007652282715, 16.047746658325195, 29.931838989257812, 10.232319831848145, 16.874156951904297, 14.066411018371582, 10.553874015808105, 13.021591186523438, 14.187789916992188, 18.760604858398438, 14.571979522705078, 13.39526081085205, 14.057833671569824, 17.54554557800293, 15.381583213806152, 16.73078155517578, 13.907540321350098, 13.599413871765137, 18.57449722290039, 12.520230293273926, 14.673272132873535, 10.528777122497559, 10.987950325012207, 14.530917167663574, 10.922033309936523, 10.300923347473145, 15.586482048034668, 9.940979957580566, 7.92742395401001, 12.868339538574219, 14.78857421875, 17.849620819091797, 14.384671211242676, 19.242563247680664, 11.2171049118042, 17.79300880432129, 14.687843322753906, 19.619949340820312, 14.614150047302246, 11.290059089660645, 14.195819854736328, 7.791262149810791, 13.203112602233887, 13.810611724853516, 9.511290550231934, 12.687373161315918, 12.964140892028809, 10.351357460021973, 20.462478637695312, 22.851511001586914, 16.753557205200195, 10.848764419555664, 10.509085655212402, 15.776619911193848, 12.526860237121582, 10.654526710510254, 10.975990295410156, 20.896005630493164, 11.631569862365723, 13.879541397094727, 10.302658081054688, 11.953337669372559, 14.949947357177734, 13.441476821899414, 11.438973426818848, 15.962968826293945, 18.367109298706055, 13.156641960144043, 11.329463958740234, 10.606643676757812, 17.414443969726562, 12.27942943572998, 11.089741706848145, 14.436935424804688, 15.654577255249023, 16.32306480407715, 10.661773681640625, 8.658966064453125]\n",
            "----- kl_loss: -----\n",
            "[1.6493241786956787, 1.905373215675354, 2.257305860519409, 2.2618279457092285, 2.4535508155822754, 2.60886812210083, 3.079343795776367, 2.844484806060791, 2.921182632446289, 2.970897674560547, 2.9262967109680176, 2.931476593017578, 3.4386565685272217, 3.61491060256958, 3.2738254070281982, 2.6537222862243652, 2.3350608348846436, 3.341911792755127, 3.319185733795166, 2.9207279682159424, 3.5983290672302246, 3.381436824798584, 2.788710832595825, 3.093919515609741, 4.075884819030762, 2.983806848526001, 3.2071456909179688, 3.0618574619293213, 2.7967867851257324, 3.137075424194336, 3.2080283164978027, 3.075216770172119, 3.936333179473877, 2.9158289432525635, 3.910677671432495, 3.197023868560791, 3.1529669761657715, 3.2739815711975098, 2.5094141960144043, 3.3579609394073486, 2.3472561836242676, 2.593195915222168, 3.038724184036255, 3.175098180770874, 3.0088047981262207, 3.952606201171875, 2.921781301498413, 2.8663833141326904, 3.3279640674591064, 3.1022870540618896, 3.4709670543670654, 4.460514068603516, 4.264050483703613, 4.268784046173096, 2.581908702850342, 2.933648109436035, 3.0164151191711426, 4.300620079040527, 5.273138999938965, 2.7031280994415283, 3.3057847023010254, 3.941761016845703, 3.567516803741455, 3.2544350624084473, 2.100501537322998, 3.1077773571014404, 3.457273483276367, 2.629286289215088, 3.1691296100616455, 3.7834548950195312, 4.165637016296387, 4.2637038230896, 4.797203540802002, 2.7813448905944824, 3.0871524810791016, 3.7053780555725098, 3.363307237625122, 4.023435592651367, 2.414128065109253, 4.858333110809326, 2.5608787536621094, 5.404778957366943, 3.8063836097717285, 1.744468331336975, 4.864294528961182, 4.661051273345947, 4.173150539398193, 3.6503734588623047, 5.845613479614258, 4.067837715148926, 3.6905357837677, 3.2324435710906982, 3.5840671062469482, 3.897848129272461, 2.9267427921295166, 3.0624656677246094, 3.78498911857605, 3.1058874130249023, 3.9386794567108154, 4.433788299560547]\n",
            "----- val_loss: -----\n",
            "[0.8920516967773438, 1.3672345876693726, 1.7806389331817627, 2.047389030456543, 2.6427550315856934, 2.9419071674346924, 3.5564019680023193, 3.897254705429077, 4.25338888168335, 4.699170112609863, 5.249794006347656, 5.6415605545043945, 5.694014549255371, 5.985263824462891, 6.256951808929443, 6.615973472595215, 7.014601230621338, 7.335016250610352, 7.531030178070068, 7.834041595458984, 7.880762100219727, 8.222607612609863, 7.9638352394104, 8.148053169250488, 8.443944931030273, 8.892043113708496, 8.752095222473145, 9.246136665344238, 8.871975898742676, 9.468908309936523, 9.264861106872559, 9.491266250610352, 9.906261444091797, 9.618797302246094, 9.748584747314453, 9.833645820617676, 10.131951332092285, 10.034395217895508, 10.138384819030762, 10.468181610107422, 10.452595710754395, 10.937249183654785, 10.844622611999512, 11.011604309082031, 11.540393829345703, 10.5971040725708, 10.81004524230957, 10.7467622756958, 10.911845207214355, 11.217727661132812, 11.378339767456055, 11.265816688537598, 10.921642303466797, 11.885329246520996, 11.150632858276367, 12.219964981079102, 11.39102554321289, 11.770187377929688, 11.997557640075684, 11.763474464416504, 12.0733060836792, 11.946280479431152, 12.0938081741333, 12.344062805175781, 12.20559024810791, 12.264546394348145, 12.847151756286621, 12.58078670501709, 12.939419746398926, 12.66568374633789, 12.45960807800293, 12.637866020202637, 12.820524215698242, 12.943414688110352, 13.042961120605469, 13.308818817138672, 12.73198127746582, 13.58760929107666, 13.210674285888672, 13.426837921142578, 13.477710723876953, 13.779840469360352, 13.912827491760254, 13.185552597045898, 13.8803071975708, 13.90256404876709, 14.037055969238281, 13.927557945251465, 14.223685264587402, 14.144454002380371, 14.1663236618042, 13.954093933105469, 14.466682434082031, 14.137938499450684, 14.554817199707031, 14.429394721984863, 14.638994216918945, 14.59276294708252, 15.018864631652832, 15.18466567993164]\n"
          ],
          "name": "stdout"
        }
      ]
    },
    {
      "cell_type": "markdown",
      "metadata": {
        "id": "ljaYW8HuuHZk"
      },
      "source": [
        "## Recreate"
      ]
    },
    {
      "cell_type": "code",
      "metadata": {
        "id": "WYLbwD53cn84",
        "colab": {
          "base_uri": "https://localhost:8080/"
        },
        "outputId": "e830fd77-9423-474c-9dbf-80d3a9398f2c"
      },
      "source": [
        "# Encoder output is a list [z_mean, z_log_var, z] thus list[2] = z, see subsection encoder line 12\r\n",
        "\r\n",
        "### Extract myu i.e. z_mean\r\n",
        "z_mean = vae.encoder.predict(x_test)[0]\r\n",
        "print(\"----- z_mean: -----\")\r\n",
        "print(z_mean)\r\n",
        "print(\"\\n\")\r\n",
        "\r\n",
        "### Extract sigma i.e. z_log_var\r\n",
        "z_log_var = vae.encoder.predict(x_test)[1]\r\n",
        "print(\"----- z_log_var: -----\")\r\n",
        "print(z_log_var)\r\n",
        "print(\"\\n\")\r\n",
        "\r\n",
        "### Extract z_values and predict x_test\r\n",
        "z_values = vae.encoder.predict(x_test)[2]\r\n",
        "decoded_ecg5000 = vae.decoder.predict(z_values)\r\n",
        "# z_values contains list of each z_value per sample, i.e. we get 1000 SubLists with 5 elements in each.\r\n",
        "# Those 5 elements (z_values for Sample i) is our bottleneck which the decoder recieves.\r\n",
        "print(\"----- z_values: -----\")\r\n",
        "print(z_values)\r\n",
        "print(\"\\n\")\r\n",
        "\r\n",
        "### Save extracted values\r\n",
        "np.savetxt('z_values.csv', z_values, delimiter=\",\")\r\n",
        "np.savetxt('decoded_ecg5000.csv', decoded_ecg5000.reshape(-1,140), delimiter=\",\")\r\n",
        "\r\n",
        "### Properties\r\n",
        "print(\"Shape and Type of z_mean: {}, {}\".format(z_mean.shape, type(z_mean)))\r\n",
        "print(\"Shape and Type of z_log_var: {}, {}\".format(z_log_var.shape, type(z_log_var)))\r\n",
        "print(\"Shape and Type of z_values: {}, {}\".format(z_values.shape, type(z_values)))\r\n",
        "print(\"Shape and Type of decoded_ecg5000: {}, {}\".format(decoded_ecg5000.shape, type(decoded_ecg5000)))"
      ],
      "execution_count": 101,
      "outputs": [
        {
          "output_type": "stream",
          "text": [
            "----- z_mean: -----\n",
            "[[2.1025041e-01 2.3201173e-04 4.0867117e-01 7.4463091e+00 1.8929193e+00]\n",
            " [1.2719464e+00 6.7239900e+00 5.8037400e-01 2.2844586e-04 5.6659780e-02]\n",
            " [3.7965293e+00 4.5101008e+00 1.1539998e-02 2.3417776e-04 1.3764617e-01]\n",
            " ...\n",
            " [4.3514267e-02 4.5292931e+00 1.5241024e+00 4.4240378e-04 1.2085331e-01]\n",
            " [1.0051730e+01 7.8175575e-01 7.9967576e-05 2.1259136e-01 1.3571405e+00]\n",
            " [5.8815968e-01 2.7293677e-02 3.8741723e-02 6.7804569e-01 2.4805400e+00]]\n",
            "\n",
            "\n",
            "----- z_log_var: -----\n",
            "[[0.0192629  0.09467833 0.02053413 0.00712737 0.0314046 ]\n",
            " [0.00924563 0.00816151 0.02234097 0.08212581 0.10155524]\n",
            " [0.00506128 0.00836913 0.03557318 0.06010819 0.09393131]\n",
            " ...\n",
            " [0.00452115 0.00346664 0.00552184 0.02072788 0.0291327 ]\n",
            " [0.00270124 0.02930763 0.06935376 0.04992682 0.11816565]\n",
            " [0.00223725 0.00952627 0.00557733 0.00584069 0.01472484]]\n",
            "\n",
            "\n",
            "----- z_values: -----\n",
            "[[ 1.502697    0.66785413  1.1103566   6.394308    3.4260375 ]\n",
            " [ 1.8530389   7.377696    2.2505932  -0.6767069  -0.33996412]\n",
            " [ 4.7212715   4.2632027  -0.515969    0.9992358   0.14676891]\n",
            " ...\n",
            " [ 1.3489228   5.2423105   2.394859    0.43782276 -0.42635208]\n",
            " [11.71804    -0.6131707  -1.2154896   1.4856522   1.1896961 ]\n",
            " [ 1.492718    1.0909041  -0.13412699  0.6526324   1.8795993 ]]\n",
            "\n",
            "\n",
            "Shape and Type of z_mean: (1000, 5), <class 'numpy.ndarray'>\n",
            "Shape and Type of z_log_var: (1000, 5), <class 'numpy.ndarray'>\n",
            "Shape and Type of z_values: (1000, 5), <class 'numpy.ndarray'>\n",
            "Shape and Type of decoded_ecg5000: (1000, 140, 1), <class 'numpy.ndarray'>\n"
          ],
          "name": "stdout"
        }
      ]
    },
    {
      "cell_type": "markdown",
      "metadata": {
        "id": "LNfzqeVE2N7J"
      },
      "source": [
        "## Display the training progress"
      ]
    },
    {
      "cell_type": "markdown",
      "metadata": {
        "id": "KPE8qAylUlhq"
      },
      "source": [
        "#### Loss"
      ]
    },
    {
      "cell_type": "code",
      "metadata": {
        "id": "53ufa2OwJIVe"
      },
      "source": [
        "### Loss vs Reconstruction_loss vs KL Divergence\r\n",
        "plt.figure(figsize=(8,5))\r\n",
        "plt.plot(train_history.history['loss'])\r\n",
        "plt.plot(train_history.history['reconstruction_loss'])\r\n",
        "plt.plot(train_history.history['kl_loss'])\r\n",
        "plt.legend([\"Loss\", \"Reconstruction Loss\", \"KL Divergence\"])\r\n",
        "plt.xlabel(\"Epoch\")\r\n",
        "plt.title(\"Loss vs. Reconstruction Loss vs. KL Divergence\")\r\n",
        "\r\n",
        "plt.savefig('loss.png')"
      ],
      "execution_count": null,
      "outputs": []
    },
    {
      "cell_type": "code",
      "metadata": {
        "id": "tcIrsjRDYOiI"
      },
      "source": [
        "### Train loss vs val loss\r\n",
        "# returns the loss value & metrics values for the model in test mode\r\n",
        "plt.figure(figsize=(8,5))\r\n",
        "plt.plot(train_history.history['loss'])\r\n",
        "plt.plot(train_history.history['val_loss'])\r\n",
        "plt.legend([\"Loss\", \"Validation Loss\"])\r\n",
        "plt.xlabel(\"Epoch\")\r\n",
        "plt.title(\"Loss vs. Validation Loss\")\r\n",
        "\r\n",
        "plt.savefig('valLoss.png')"
      ],
      "execution_count": null,
      "outputs": []
    },
    {
      "cell_type": "markdown",
      "metadata": {
        "id": "QGsZngmEUnKf"
      },
      "source": [
        "### Latent Space"
      ]
    },
    {
      "cell_type": "code",
      "metadata": {
        "id": "ldOtLNeJYJmb"
      },
      "source": [
        "### Scale Datan (PCA)\r\n",
        "# transform to dataframe\r\n",
        "z_test = pd.DataFrame(z_values)\r\n",
        "# standardize the data\r\n",
        "z_test = StandardScaler().fit_transform(z_test)"
      ],
      "execution_count": null,
      "outputs": []
    },
    {
      "cell_type": "code",
      "metadata": {
        "id": "ksY0r5zQsVjn",
        "colab": {
          "base_uri": "https://localhost:8080/",
          "height": 280
        },
        "outputId": "92cc4adf-5160-4b0e-aaa7-de0ea4d170a0"
      },
      "source": [
        "### Estimate how many components are needed to describe the data (PCA)\r\n",
        "pca_explained = PCA().fit(z_test)\r\n",
        "plt.plot(np.cumsum(pca_explained.explained_variance_ratio_))\r\n",
        "plt.xlabel('number of components')\r\n",
        "plt.ylabel('cumulative explained variance');"
      ],
      "execution_count": 102,
      "outputs": [
        {
          "output_type": "display_data",
          "data": {
            "image/png": "[encoded data removed]",
            "text/plain": [
              "<Figure size 432x288 with 1 Axes>"
            ]
          },
          "metadata": {
            "tags": []
          }
        }
      ]
    },
    {
      "cell_type": "code",
      "metadata": {
        "id": "pjILQXppYgIP"
      },
      "source": [
        "### PCA (5 dim -> 2 dim): display a 2D plot of the classes in the latent space.\r\n",
        "# make PCA instance\r\n",
        "pca = PCA(n_components=2)\r\n",
        "# fit transform features\r\n",
        "principalComponents = pca.fit_transform(z_test)\r\n",
        "# build pca dataframe\r\n",
        "principalDf = pd.DataFrame(data=principalComponents, columns=['principal component 1', 'principal component 2'])\r\n",
        "targetDF = pd.DataFrame(data=testDF_Y.to_numpy(), columns=['target'])\r\n",
        "finalDF = pd.concat([principalDf, targetDF], axis=1)\r\n",
        "# scatterplot\r\n",
        "plt.figure(figsize=(8, 5))\r\n",
        "plt.xlabel('Principal Component 1')\r\n",
        "plt.ylabel('Principal Component 2')\r\n",
        "plt.title('Principal Component Analysis of Latent Space')\r\n",
        "plt.scatter(finalDF['principal component 1'], finalDF['principal component 2'], c=finalDF['target'],\r\n",
        "            cmap=plt.cm.get_cmap('Set1', 6), s=40, alpha=0.7)  # or cmap=hsv\r\n",
        "plt.colorbar(ticks=range(6), label='Classes of ECG500')\r\n",
        "plt.clim(-0.5, 5.5)\r\n",
        "\r\n",
        "plt.show()\r\n",
        "plt.savefig('PCA.png')"
      ],
      "execution_count": null,
      "outputs": []
    },
    {
      "cell_type": "markdown",
      "metadata": {
        "id": "UJ8dyTK6kNNQ"
      },
      "source": [
        "# Plot Data Results\n",
        "\n",
        "---\n",
        "\n"
      ]
    },
    {
      "cell_type": "code",
      "metadata": {
        "id": "DIfVmINR3lji",
        "colab": {
          "base_uri": "https://localhost:8080/"
        },
        "outputId": "d3364b1d-f7f5-48a0-cda5-41083bb95bf9"
      },
      "source": [
        "### Test if Input fits Dim of Output\n",
        "print(\"Shape of x_train: {}\".format(x_train.shape))\n",
        "print(\"Shape of decoded_ecg5000: {}\".format(decoded_ecg5000.shape))\n",
        "\n",
        "### Covert to 2D Array (\"-1\" = make a dimension (here rows) the size that will use the remaining unspecified elements)\n",
        "new_x_train= x_train.reshape(-1,140)\n",
        "new_decoded_ecg5000 = decoded_ecg5000.reshape(-1,140)\n",
        "\n",
        "print(\"Shape of Input after reshaping: {}\".format(new_x_train.shape))\n",
        "print(\"Shape of Output after reshaping: {}\".format(new_decoded_ecg5000.shape))"
      ],
      "execution_count": 103,
      "outputs": [
        {
          "output_type": "stream",
          "text": [
            "Shape of x_train: (4000, 140, 1)\n",
            "Shape of decoded_ecg5000: (1000, 140, 1)\n",
            "Shape of Input after reshaping: (4000, 140)\n",
            "Shape of Output after reshaping: (1000, 140)\n"
          ],
          "name": "stdout"
        }
      ]
    },
    {
      "cell_type": "code",
      "metadata": {
        "id": "YG129YUrHGyU"
      },
      "source": [
        "# ### Plot figure for paper\r\n",
        "# i = 934 # sample which is going to be plotted\r\n",
        "# plt.figure(linewidth = 1, figsize=(25,6))\r\n",
        "# plt.xlabel('time steps')\r\n",
        "# plt.plot(new_x_train[i])\r\n",
        "# plt.show()\r\n",
        "# plt.savefig('diagramm_original.jpg')\r\n",
        "\r\n",
        "# plt.figure(linewidth = 1, figsize=(25,6))\r\n",
        "# plt.xlabel('time steps')\r\n",
        "# plt.plot(new_decoded_ecg5000[i], label='decoded ecg5000')\r\n",
        "# plt.show()\r\n",
        "# plt.savefig('diagramm_decoded.jpg')"
      ],
      "execution_count": 104,
      "outputs": []
    },
    {
      "cell_type": "code",
      "metadata": {
        "id": "vGvzjGwcJi1B",
        "colab": {
          "base_uri": "https://localhost:8080/",
          "height": 402
        },
        "outputId": "f9843e6b-f941-48e0-9928-1ac80a956e77"
      },
      "source": [
        "### Plot only one sample\r\n",
        "i = 901  # sample which is going to be plotted\r\n",
        "plt.figure(linewidth=1, figsize=(20, 6))\r\n",
        "plt.title('Autoencoder Result')\r\n",
        "plt.xlabel('time steps')\r\n",
        "plt.plot(new_decoded_ecg5000[i], label='decoded ecg5000')\r\n",
        "plt.plot(new_x_train[i], label='original ecg5000')\r\n",
        "plt.legend(loc=\"upper left\")\r\n",
        "plt.show()"
      ],
      "execution_count": 105,
      "outputs": [
        {
          "output_type": "display_data",
          "data": {
            "image/png": "[encoded data removed]",
            "text/plain": [
              "<Figure size 1440x432 with 1 Axes>"
            ]
          },
          "metadata": {
            "tags": []
          }
        }
      ]
    },
    {
      "cell_type": "code",
      "metadata": {
        "id": "AwjUjaCtkSpW",
        "colab": {
          "base_uri": "https://localhost:8080/",
          "height": 467
        },
        "outputId": "fd9ad62b-402f-4188-ef28-5f1910aa030c"
      },
      "source": [
        "### Plot Multiple Samples\n",
        "n_rows = 2\n",
        "n_cols = 3\n",
        "\n",
        "# size properties and layout design for tighter representation\n",
        "fig, axs = plt.subplots(nrows=n_rows, ncols=n_cols, figsize=(13, 6))\n",
        "fig.tight_layout(w_pad=4, h_pad=5)\n",
        "\n",
        "# subplotting\n",
        "i = 50\n",
        "for row in range(n_rows):\n",
        "    for col in range(n_cols):\n",
        "        axs[row, col].plot(new_decoded_ecg5000[i])\n",
        "        axs[row, col].plot(new_x_train[i])\n",
        "        axs[row, col].legend([\"Decoded ECG5000 Sample {}\".format(i), \"Original ECG5000 Sample {}\".format(i)])\n",
        "        axs[row, col].set(xlabel=\"Time Steps\", ylabel=\"Heartbeat Interpolated\", title=\"Sample {}\".format(i))\n",
        "        i = i + 75\n",
        "\n",
        "plt.savefig('dataComparison.png')"
      ],
      "execution_count": 106,
      "outputs": [
        {
          "output_type": "display_data",
          "data": {
            "image/png": "[encoded data removed]",
            "text/plain": [
              "<Figure size 936x432 with 6 Axes>"
            ]
          },
          "metadata": {
            "tags": []
          }
        }
      ]
    },
    {
      "cell_type": "markdown",
      "metadata": {
        "id": "unWrNuYBc71O"
      },
      "source": [
        "# Optimization\r\n",
        "\r\n",
        "---"
      ]
    },
    {
      "cell_type": "markdown",
      "metadata": {
        "id": "XX8k4aeUCx3k"
      },
      "source": [
        "## Hyperparameter (Sckit_GridSearchCV)"
      ]
    },
    {
      "cell_type": "code",
      "metadata": {
        "id": "x3NsIDD4dWHN"
      },
      "source": [
        "### Define scorer\r\n",
        "def score_mse(y_true, y_pred): # , **kwargs\r\n",
        "    \"\"\"Implementing mean squarred error as a score for RandomizedSearchCV.\"\"\"\r\n",
        "\r\n",
        "    y_pred = tf.convert_to_tensor(y_pred)\r\n",
        "    y_true = tf.cast(y_true, y_pred.dtype)\r\n",
        "    # removing all size 1 dimensions in y_true\r\n",
        "    y_true = tf.squeeze(y_true)\r\n",
        "    return np.mean(tf.math.squared_difference(y_pred, y_true))\r\n",
        "\r\n",
        "### Define Function for Randomized Search\r\n",
        "def randomizedSearch_pipeline(x_train_data, x_test_data, model, space, n_iter=10, scoring_fit='neg_mean_squared_error',\r\n",
        "                              cv=5, do_probabilities=False):\r\n",
        "    \"\"\"Pipeline for RandomizedSearchCV: Select settings and run randomizedSearchCV, returning results.\"\"\"\r\n",
        "    # define randomizedSearch\r\n",
        "    rs = RandomizedSearchCV(\r\n",
        "        estimator=model,\r\n",
        "        param_distributions=space,\r\n",
        "        n_iter=n_iter,\r\n",
        "        scoring=scoring_fit,\r\n",
        "        n_jobs=1,\r\n",
        "        cv=cv,\r\n",
        "        verbose=2,\r\n",
        "        random_state=1,\r\n",
        "    )\r\n",
        "    # fit model\r\n",
        "    fitted_model = rs.fit(x_train_data, x_train_data, verbose=0)\r\n",
        "    # get results\r\n",
        "    rs_result = pd.DataFrame(rs.cv_results_)\r\n",
        "    # save compromised version of the results\r\n",
        "    min_rs_results = pd.concat([pd.DataFrame(rs.cv_results_[\"mean_test_score\"], columns=[\"score\"]),\r\n",
        "                                pd.DataFrame(rs.cv_results_[\"params\"])], axis=1)\r\n",
        "    min_rs_results = min_rs_results.sort_values(by=\"score\", ascending=False)\r\n",
        "    min_rs_results.to_latex(buf='randomizedSearchResults.tex', caption=(\r\n",
        "        \"Results of 20 candidates using a cross-validation of 5\", \"Randomized Search Results\"), label='table:1')\r\n",
        "\r\n",
        "    if do_probabilities:\r\n",
        "        pred = fitted_model.predict_proba(x_test_data)\r\n",
        "    else:\r\n",
        "        pred = fitted_model.predict(x_test_data)\r\n",
        "\r\n",
        "    return fitted_model, pred, rs_result, min_rs_results"
      ],
      "execution_count": 107,
      "outputs": []
    },
    {
      "cell_type": "code",
      "metadata": {
        "id": "tL_QfMgwCxfi",
        "colab": {
          "base_uri": "https://localhost:8080/"
        },
        "outputId": "f554a61b-bfc5-489b-aa43-62fc63dae28d"
      },
      "source": [
        "## Define evaluated params and it's value range\r\n",
        "\r\n",
        "space = {\r\n",
        "    'optimizer': ['adam', 'SGD'],\r\n",
        "    'batch_size': [1, 2, 4, 8, 16, 32, 64],\r\n",
        "    'dropout_rate': [0.2, 0.3, 0.4, 0.5, 0.6, 0.7, 0.8, 0.9],\r\n",
        "    'regularizer_rate': [1e-06, 1e-05, 0.0001, 0.001, 0.01, 0.1],\r\n",
        "    'learn_rate': [0.002, 0.005, 0.008, 0.013, 0.023, 0.038, 0.064, 0.107, 0.179, 0.299, 0.5],    \r\n",
        "}\r\n",
        "\r\n",
        "### Wrap keras custom VAE model with the KerasClassifier thus it implements estimator interface\r\n",
        "model = KerasRegressor(build_fn=create_model)\r\n",
        "\r\n",
        "### Run RandomizedSearch\r\n",
        "fitted_model, pred, rs_result, min_rs_results = randomizedSearch_pipeline(x_train, x_test, model, space, n_iter=30,\r\n",
        "                                                                          scoring_fit=make_scorer(score_mse,\r\n",
        "                                                                                                  greater_is_better=False))"
      ],
      "execution_count": 114,
      "outputs": [
        {
          "output_type": "stream",
          "text": [
            "[CV]  regularizer_rate=1e-05, optimizer=adam, learn_rate=0.005, dropout_rate=0.9, batch_size=4, total=  33.6s\n",
            "[CV] regularizer_rate=1e-05, optimizer=adam, learn_rate=0.005, dropout_rate=0.9, batch_size=4 \n",
            "[CV]  regularizer_rate=1e-05, optimizer=adam, learn_rate=0.005, dropout_rate=0.9, batch_size=4, total=  33.7s\n",
            "[CV] regularizer_rate=1e-05, optimizer=adam, learn_rate=0.005, dropout_rate=0.9, batch_size=4 \n",
            "[CV]  regularizer_rate=1e-05, optimizer=adam, learn_rate=0.005, dropout_rate=0.9, batch_size=4, total=  33.4s\n",
            "[CV] regularizer_rate=1e-05, optimizer=adam, learn_rate=0.005, dropout_rate=0.9, batch_size=4 \n",
            "[CV]  regularizer_rate=1e-05, optimizer=adam, learn_rate=0.005, dropout_rate=0.9, batch_size=4, total=  35.3s\n",
            "[CV] regularizer_rate=1e-05, optimizer=adam, learn_rate=0.005, dropout_rate=0.9, batch_size=4 \n",
            "[CV]  regularizer_rate=1e-05, optimizer=adam, learn_rate=0.005, dropout_rate=0.9, batch_size=4, total=  33.9s\n",
            "[CV] regularizer_rate=0.001, optimizer=SGD, learn_rate=0.107, dropout_rate=0.7, batch_size=1 \n",
            "[CV]  regularizer_rate=0.001, optimizer=SGD, learn_rate=0.107, dropout_rate=0.7, batch_size=1, total= 1.4min\n",
            "[CV] regularizer_rate=0.001, optimizer=SGD, learn_rate=0.107, dropout_rate=0.7, batch_size=1 \n",
            "[CV]  regularizer_rate=0.001, optimizer=SGD, learn_rate=0.107, dropout_rate=0.7, batch_size=1, total= 1.4min\n",
            "[CV] regularizer_rate=0.001, optimizer=SGD, learn_rate=0.107, dropout_rate=0.7, batch_size=1 \n",
            "[CV]  regularizer_rate=0.001, optimizer=SGD, learn_rate=0.107, dropout_rate=0.7, batch_size=1, total= 1.4min\n",
            "[CV] regularizer_rate=0.001, optimizer=SGD, learn_rate=0.107, dropout_rate=0.7, batch_size=1 \n",
            "[CV]  regularizer_rate=0.001, optimizer=SGD, learn_rate=0.107, dropout_rate=0.7, batch_size=1, total= 1.4min\n",
            "[CV] regularizer_rate=0.001, optimizer=SGD, learn_rate=0.107, dropout_rate=0.7, batch_size=1 \n",
            "[CV]  regularizer_rate=0.001, optimizer=SGD, learn_rate=0.107, dropout_rate=0.7, batch_size=1, total= 1.4min\n",
            "[CV] regularizer_rate=0.001, optimizer=adam, learn_rate=0.064, dropout_rate=0.5, batch_size=2 \n",
            "[CV]  regularizer_rate=0.001, optimizer=adam, learn_rate=0.064, dropout_rate=0.5, batch_size=2, total=  56.1s\n",
            "[CV] regularizer_rate=0.001, optimizer=adam, learn_rate=0.064, dropout_rate=0.5, batch_size=2 \n",
            "[CV]  regularizer_rate=0.001, optimizer=adam, learn_rate=0.064, dropout_rate=0.5, batch_size=2, total=  56.0s\n",
            "[CV] regularizer_rate=0.001, optimizer=adam, learn_rate=0.064, dropout_rate=0.5, batch_size=2 \n",
            "[CV]  regularizer_rate=0.001, optimizer=adam, learn_rate=0.064, dropout_rate=0.5, batch_size=2, total=  56.0s\n",
            "[CV] regularizer_rate=0.001, optimizer=adam, learn_rate=0.064, dropout_rate=0.5, batch_size=2 \n",
            "[CV]  regularizer_rate=0.001, optimizer=adam, learn_rate=0.064, dropout_rate=0.5, batch_size=2, total=  55.6s\n",
            "[CV] regularizer_rate=0.001, optimizer=adam, learn_rate=0.064, dropout_rate=0.5, batch_size=2 \n",
            "[CV]  regularizer_rate=0.001, optimizer=adam, learn_rate=0.064, dropout_rate=0.5, batch_size=2, total=  56.1s\n"
          ],
          "name": "stdout"
        },
        {
          "output_type": "stream",
          "text": [
            "[Parallel(n_jobs=1)]: Done 150 out of 150 | elapsed: 92.7min finished\n"
          ],
          "name": "stderr"
        }
      ]
    },
    {
      "cell_type": "code",
      "metadata": {
        "id": "FjSWb0ldkIay",
        "colab": {
          "base_uri": "https://localhost:8080/"
        },
        "outputId": "1aaf1d11-67b8-4525-8a25-5a4367d01002"
      },
      "source": [
        "### Summarize results\r\n",
        "print(\"----- Results RandomizedSearchCV: -----\\n\" + \"Best: {} using {}\\n\".format(fitted_model.best_score_,\r\n",
        "                                                                                 fitted_model.best_params_))\r\n",
        "# pd.set_option(\"display.max_rows\", None, \"display.max_columns\", None)\r\n",
        "# pd.reset_option('all')\r\n",
        "print(\"Summary:\\n {}\".format(rs_result))"
      ],
      "execution_count": 115,
      "outputs": [
        {
          "output_type": "stream",
          "text": [
            "----- Results RandomizedSearchCV: -----\n",
            "Best: -0.23407492339611052 using {'regularizer_rate': 0.0001, 'optimizer': 'SGD', 'learn_rate': 0.002, 'dropout_rate': 0.5, 'batch_size': 4}\n",
            "\n",
            "Summary:\n",
            "     mean_fit_time  std_fit_time  ...  std_test_score  rank_test_score\n",
            "0       12.204293      0.295309  ...        0.012069                2\n",
            "1       85.089173      1.477019  ...             NaN               15\n",
            "2       17.063744      0.321308  ...             NaN               19\n",
            "3       12.152807      0.213736  ...             NaN               23\n",
            "4       91.746168      2.284165  ...             NaN               27\n",
            "5       28.799980      0.840025  ...             NaN               14\n",
            "6       28.524418      0.967220  ...             NaN               29\n",
            "7       13.174070      0.086551  ...        0.083091                8\n",
            "8       94.640162      2.249879  ...        0.064883                5\n",
            "9       12.802959      0.247815  ...        0.089407                3\n",
            "10      30.011000      0.314305  ...        0.036715                9\n",
            "11       8.580239      0.259366  ...        0.009913               10\n",
            "12      17.229192      0.146669  ...             NaN               28\n",
            "13      52.229875      0.736096  ...        0.086701                7\n",
            "14      10.046157      0.071115  ...             NaN               30\n",
            "15       9.873837      0.279412  ...             NaN               25\n",
            "16      13.058384      0.060002  ...        0.046884               13\n",
            "17      26.608156      0.293032  ...             NaN               24\n",
            "18      27.341241      0.213027  ...        0.008632                1\n",
            "19       8.538872      0.041757  ...             NaN               22\n",
            "20      91.876579      0.386610  ...             NaN               21\n",
            "21      17.184865      0.083609  ...             NaN               20\n",
            "22      12.835889      0.250355  ...        0.080086                4\n",
            "23       8.813618      0.081713  ...        0.062232               12\n",
            "24      81.761742      2.236965  ...             NaN               18\n",
            "25      29.023474      0.557047  ...             NaN               17\n",
            "26       8.938477      0.068753  ...             NaN               16\n",
            "27      30.283515      0.347184  ...        0.082763                6\n",
            "28      74.830701      0.594567  ...             NaN               26\n",
            "29      50.680791      0.336042  ...        0.010580               11\n",
            "\n",
            "[30 rows x 18 columns]\n"
          ],
          "name": "stdout"
        }
      ]
    },
    {
      "cell_type": "markdown",
      "metadata": {
        "id": "VfBqVOpmdGJl"
      },
      "source": [
        "## Dropout"
      ]
    },
    {
      "cell_type": "code",
      "metadata": {
        "id": "mZDGEMffcg0O"
      },
      "source": [
        "# ###Dropout_rate\r\n",
        "\r\n",
        "# # configure the experiment\r\n",
        "# def experiment_dropout():\r\n",
        "#   # configure the experiment\r\n",
        "#   n_dropout = [0.0, 0.2, 0.4, 0.6, 0.8]\r\n",
        "#   # run the experiment\r\n",
        "#   results = []\r\n",
        "#   for drop_value in n_dropout:\r\n",
        "#       # set dropout\r\n",
        "#       drop_out_rate = drop_value\r\n",
        "#       print(\"----- Dropout Rate: {} -----\".format(drop_out_rate))\r\n",
        "#       # evaluate\r\n",
        "#       # rather shorten code with defining a train function of code above and using it here\r\n",
        "#       vae = VAE(encoder, decoder, name=\"VAE\")\r\n",
        "#       vae.compile(optimizer='adam', loss='mean_squared_error')\r\n",
        "#       history = vae.fit(x_train, y_train, epochs=epochs, batch_size=batch_size, validation_data=(x_test, y_test), verbose=0)\r\n",
        "#       # report performance\r\n",
        "#       # rather make a dataframe or something different which is simpler to plot\r\n",
        "#       evaluation = []\r\n",
        "#       evaluation.append(vae.evaluate(x_test, y_test))\r\n",
        "#       evaluation.append(drop_value)\r\n",
        "\r\n",
        "#       res = []\r\n",
        "#       res.append(history.history[\"val_loss\"])\r\n",
        "#       print(\"val_loss = {}\".format(res))\r\n",
        "#       results.append(evaluation)\r\n",
        "#   return results"
      ],
      "execution_count": 110,
      "outputs": []
    },
    {
      "cell_type": "code",
      "metadata": {
        "id": "wfM-TqopGGUu"
      },
      "source": [
        "# results = experiment_dropout()\r\n",
        "# # summarize results\r\n",
        "# print(results)"
      ],
      "execution_count": 111,
      "outputs": []
    },
    {
      "cell_type": "markdown",
      "metadata": {
        "id": "H0e7rRTv6STo"
      },
      "source": [
        "# Visualization of Hyperparameter Opt. Results\r\n",
        "\r\n",
        "\r\n",
        "---\r\n",
        "\r\n"
      ]
    },
    {
      "cell_type": "markdown",
      "metadata": {
        "id": "CRSEFKj93Q1F"
      },
      "source": [
        "Bar Plot\r\n"
      ]
    },
    {
      "cell_type": "code",
      "metadata": {
        "id": "PE0Ev3GX3P7o",
        "colab": {
          "base_uri": "https://localhost:8080/",
          "height": 294
        },
        "outputId": "56ec95eb-7744-4138-addb-b3671bbf3971"
      },
      "source": [
        "# Scores of our Hyperparameter Optimization\r\n",
        "scores = rs_result['mean_test_score'].tolist()\r\n",
        "\r\n",
        "# Positive Score, i.e. each score in scores * (-1)\r\n",
        "posScores = []\r\n",
        "for s in scores:\r\n",
        "    posScores.append(s * (-1))\r\n",
        "\r\n",
        "indices = np.arange(0, len(scores))\r\n",
        "\r\n",
        "plt.bar(indices, posScores, tick_label=indices)\r\n",
        "plt.title(\"Score of each parameter combination\")\r\n",
        "plt.xlabel(\"Unit\")\r\n",
        "plt.ylabel(\"Score\")\r\n",
        "# save fig\r\n",
        "plt.savefig(fname=\"scores.png\")"
      ],
      "execution_count": 116,
      "outputs": [
        {
          "output_type": "display_data",
          "data": {
            "image/png": "[encoded data removed]",
            "text/plain": [
              "<Figure size 432x288 with 1 Axes>"
            ]
          },
          "metadata": {
            "tags": []
          }
        }
      ]
    },
    {
      "cell_type": "markdown",
      "metadata": {
        "id": "BwY-GoamH-6e"
      },
      "source": [
        "Scatter Plot"
      ]
    },
    {
      "cell_type": "code",
      "metadata": {
        "id": "Pr1nvfOdQ_ym"
      },
      "source": [
        "### features\r\n",
        "features = ['batch_size', 'dropout_rate', 'regularizer_rate', 'learn_rate']\r\n",
        "\r\n",
        "fig, axs = plt.subplots(nrows=len(features), ncols=len(features), figsize=(12, 12))\r\n",
        "fig.tight_layout(w_pad=2, h_pad=2)\r\n",
        "\r\n",
        "col = 0\r\n",
        "for feature_1 in features:\r\n",
        "    row = 0\r\n",
        "    for feature_2 in features:\r\n",
        "        bestComb = min_rs_results.iloc[0:5]\r\n",
        "        rest = min_rs_results.iloc[5:]\r\n",
        "        axs[row, col].scatter(bestComb[feature_1], bestComb[feature_2], color='green', alpha=0.7)\r\n",
        "        axs[row, col].scatter(rest[feature_1], rest[feature_2], color='red', alpha=0.7)\r\n",
        "        axs[row, col].set_xlabel(feature_1, fontsize=9)\r\n",
        "        axs[row, col].set_ylabel(feature_2, fontsize=9)\r\n",
        "        row = row + 1\r\n",
        "    col = col + 1\r\n",
        "\r\n",
        "# save fig\r\n",
        "plt.savefig('scoresScatter.png')"
      ],
      "execution_count": null,
      "outputs": []
    }
  ]
}