{
  "nbformat": 4,
  "nbformat_minor": 0,
  "metadata": {
    "colab": {
      "name": "VAE_v1_1.ipynb",
      "provenance": [],
      "collapsed_sections": [],
      "toc_visible": true,
      "include_colab_link": true
    },
    "kernelspec": {
      "name": "python3",
      "display_name": "Python 3"
    },
    "accelerator": "GPU"
  },
  "cells": [
    {
      "cell_type": "markdown",
      "metadata": {
        "id": "view-in-github",
        "colab_type": "text"
      },
      "source": [
        "<a href=\"https://colab.research.google.com/github/nina-prog/DataAnalysis_VAE/blob/main/VAE_v2.0.ipynb\" target=\"_parent\"><img src=\"https://colab.research.google.com/assets/colab-badge.svg\" alt=\"Open In Colab\"/></a>"
      ]
    },
    {
      "cell_type": "code",
      "metadata": {
        "id": "srk9OHyCZDzL"
      },
      "source": [
        "import numpy as np\n",
        "import pandas as pd\n",
        "\n",
        "import tensorflow as tf\n",
        "from tensorflow import keras\n",
        "from tensorflow.keras import layers\n",
        "from keras.layers import LSTM, Dense, TimeDistributed, Bidirectional, Dropout, Reshape, BatchNormalization\n",
        "from keras.utils.vis_utils import plot_model\n",
        "from keras.regularizers import l2\n",
        "from keras.optimizers import SGD, Adam\n",
        "\n",
        "from sklearn.model_selection import train_test_split\n",
        "from sklearn.preprocessing import MinMaxScaler\n",
        "\n",
        "import matplotlib.pyplot as plt\n",
        "import seaborn as sns\n",
        "\n",
        "sns.set()"
      ],
      "execution_count": 1,
      "outputs": []
    },
    {
      "cell_type": "markdown",
      "metadata": {
        "id": "wcUlg_PrMiyC"
      },
      "source": [
        "# Data Preprocessing\n",
        "\n",
        "---\n",
        "\n"
      ]
    },
    {
      "cell_type": "markdown",
      "metadata": {
        "id": "Qk9i4M00iwYs"
      },
      "source": [
        "## Load Data"
      ]
    },
    {
      "cell_type": "code",
      "metadata": {
        "id": "IcrTqGPsZceo"
      },
      "source": [
        "### Load ecg5000 data using read_csv\n",
        "ecg5000 = pd.read_csv('ECG5000_ALL.txt', sep='\\s+', header=None)"
      ],
      "execution_count": 2,
      "outputs": []
    },
    {
      "cell_type": "code",
      "metadata": {
        "id": "QdbiFe4pZlQv",
        "colab": {
          "base_uri": "https://localhost:8080/"
        },
        "outputId": "7e857280-0788-442d-cc1e-4372335a9f85"
      },
      "source": [
        "### Optional test and info about data set\n",
        "print(\"Type of ecg5000: \\t \\t {}\".format(type(ecg5000)))\n",
        "print(\"Dimensions of ecg5000: \\t \\t {}\".format(ecg5000.shape))\n",
        "print(\"Number of elements of ecg5000: \\t {}\".format((ecg5000.size)))\n",
        "print(\"Display first 10 rows of ecg5000: \\n {}\".format(ecg5000.head(10)))"
      ],
      "execution_count": 3,
      "outputs": [
        {
          "output_type": "stream",
          "text": [
            "Type of ecg5000: \t \t <class 'pandas.core.frame.DataFrame'>\n",
            "Dimensions of ecg5000: \t \t (5000, 141)\n",
            "Number of elements of ecg5000: \t 705000\n",
            "Display first 10 rows of ecg5000: \n",
            "    0         1         2         3    ...       137       138       139       140\n",
            "0  1.0 -0.112522 -2.827204 -3.773897  ...  0.228077  0.123431  0.925286  0.193137\n",
            "1  1.0 -1.100878 -3.996840 -4.285843  ...  0.476333  0.773820  1.119621 -1.436250\n",
            "2  1.0 -0.567088 -2.593450 -3.874230  ... -0.532197  0.321097  0.904227 -0.421797\n",
            "3  1.0  0.490473 -1.914407 -3.616364  ...  0.990133  1.086798  1.403011 -0.383564\n",
            "4  1.0  0.800232 -0.874252 -2.384761  ...  0.960304  0.971020  1.614392  1.421456\n",
            "5  1.0 -1.507674 -3.574550 -4.478011  ...  1.007076  1.634990  1.493366 -0.783134\n",
            "6  1.0 -0.297161 -2.766635 -4.102185  ...  0.974787  1.110407  1.288165 -0.823386\n",
            "7  1.0  0.446769 -1.507397 -3.187468  ...  1.034388  1.258433  0.961215 -0.999476\n",
            "8  1.0  0.087631 -1.753490 -3.304473  ...  0.573453  0.192971 -0.648683 -2.441068\n",
            "9  1.0 -0.832281 -1.700368 -2.257301  ...  2.126372  2.126852  1.679299  0.965814\n",
            "\n",
            "[10 rows x 141 columns]\n"
          ],
          "name": "stdout"
        }
      ]
    },
    {
      "cell_type": "code",
      "metadata": {
        "id": "WCvRjcSqjFED",
        "colab": {
          "base_uri": "https://localhost:8080/"
        },
        "outputId": "13e2bd46-3c71-43f1-90b1-94796069eadc"
      },
      "source": [
        "### Normalize dataframe with min-max-normalization to range between [-0.8, 0.8] using sklearn MinMaxScaler\n",
        "min_max_scaler = MinMaxScaler(feature_range=(-0.8,0.8))\n",
        "scaled_ecg5000 = pd.DataFrame(min_max_scaler.fit_transform(ecg5000))\n",
        "print(scaled_ecg5000)"
      ],
      "execution_count": 4,
      "outputs": [
        {
          "output_type": "stream",
          "text": [
            "      0         1         2         3    ...       137       138       139       140\n",
            "0    -0.8  0.105202 -0.154680 -0.521072  ...  0.183241  0.190712  0.256566 -0.054755\n",
            "1    -0.8 -0.030005 -0.331729 -0.626180  ...  0.231023  0.305374  0.286734 -0.247949\n",
            "2    -0.8  0.043017 -0.119297 -0.541672  ...  0.036911  0.225560  0.253297 -0.127667\n",
            "3    -0.8  0.187692 -0.016509 -0.488729  ...  0.329914  0.360551  0.330726 -0.123133\n",
            "4    -0.8  0.230067  0.140940 -0.235867  ...  0.324173  0.340140  0.363540  0.090885\n",
            "...   ...       ...       ...       ...  ...       ...       ...       ...       ...\n",
            "4995  0.4 -0.033027 -0.067751 -0.335005  ... -0.632409 -0.337752 -0.198844 -0.292066\n",
            "4996 -0.4  0.045669 -0.012746 -0.329288  ...  0.369043  0.391322  0.291519  0.017785\n",
            "4997 -0.4 -0.064328 -0.061103 -0.263680  ... -0.522184 -0.229486 -0.132008 -0.158819\n",
            "4998 -0.4 -0.033227 -0.015091 -0.196437  ... -0.103605  0.090797  0.026031 -0.064782\n",
            "4999 -0.4  0.220296  0.302430  0.103076  ...  0.476928  0.440269  0.378969  0.077596\n",
            "\n",
            "[5000 rows x 141 columns]\n"
          ],
          "name": "stdout"
        }
      ]
    },
    {
      "cell_type": "markdown",
      "metadata": {
        "id": "v1Qxc-o8i2cV"
      },
      "source": [
        "## Split Data"
      ]
    },
    {
      "cell_type": "code",
      "metadata": {
        "id": "0FuU0-HYavQx",
        "colab": {
          "base_uri": "https://localhost:8080/"
        },
        "outputId": "4068d72a-08f0-4b35-bce4-1a84e5dbf664"
      },
      "source": [
        "### Split Data into 80/20 Training, Test\n",
        "trainDF, testDF = train_test_split(scaled_ecg5000, test_size=0.2, shuffle=False)\n",
        "\n",
        "# Get all labels from trainDF and then drop it\n",
        "trainDF_Y = trainDF.iloc[:,0]\n",
        "trainDF.drop(trainDF.columns[[0]], axis=1, inplace=True)\n",
        "\n",
        "# Get all labels from testDF and then drop it\n",
        "testDF_Y = testDF.iloc[:,0]\n",
        "testDF.drop(testDF.columns[[0]], axis=1, inplace=True)\n",
        "\n",
        "# Optional test and info about new data sets\n",
        "print(\"Shape of Train DataFrame: \\t {}\".format(trainDF.shape))\n",
        "print(\"Shape of Test DataFrame: \\t {}\".format(testDF.shape))\n",
        "print(\"Shape of Train Y DataFrame: \\t {}\".format(trainDF_Y.shape))\n",
        "print(\"Shape of Test Y DataFrame: \\t {}\".format(testDF_Y.shape))"
      ],
      "execution_count": 5,
      "outputs": [
        {
          "output_type": "stream",
          "text": [
            "Shape of Train DataFrame: \t (4000, 140)\n",
            "Shape of Test DataFrame: \t (1000, 140)\n",
            "Shape of Train Y DataFrame: \t (4000,)\n",
            "Shape of Test Y DataFrame: \t (1000,)\n"
          ],
          "name": "stdout"
        },
        {
          "output_type": "stream",
          "text": [
            "/usr/local/lib/python3.6/dist-packages/pandas/core/frame.py:4174: SettingWithCopyWarning: \n",
            "A value is trying to be set on a copy of a slice from a DataFrame\n",
            "\n",
            "See the caveats in the documentation: https://pandas.pydata.org/pandas-docs/stable/user_guide/indexing.html#returning-a-view-versus-a-copy\n",
            "  errors=errors,\n"
          ],
          "name": "stderr"
        }
      ]
    },
    {
      "cell_type": "markdown",
      "metadata": {
        "id": "MqDAiFlPipdc"
      },
      "source": [
        "## Reshape Data"
      ]
    },
    {
      "cell_type": "code",
      "metadata": {
        "id": "stkCjqkHiHBo",
        "colab": {
          "base_uri": "https://localhost:8080/"
        },
        "outputId": "b4613eae-2f74-49ea-cdcf-1beb14cbe213"
      },
      "source": [
        "### Convert to array\n",
        "x_train = trainDF.to_numpy()\n",
        "x_test = testDF.to_numpy()\n",
        "\n",
        "y_train = trainDF_Y.to_numpy()\n",
        "y_test = testDF_Y.to_numpy()\n",
        "\n",
        "### Reshape datasets X/Y train/test into [samples, timesteps, features]\n",
        "s_xtrain = len(trainDF.index) # samples\n",
        "n_xtrain = len(trainDF.columns) # time steps\n",
        "\n",
        "s_xtest = len(testDF.index) # samples\n",
        "n_xtest = len(testDF.columns) # time steps\n",
        "\n",
        "s_ytrain = len(trainDF_Y.index) # samples\n",
        "\n",
        "s_ytest = len(testDF_Y.index) # samples\n",
        "\n",
        "x_train = x_train.reshape(s_xtrain, n_xtrain, 1)\n",
        "x_test = x_test.reshape(s_xtest, n_xtest, 1)\n",
        "\n",
        "y_train = y_train.reshape(s_ytrain, 1, 1)\n",
        "y_test = y_test.reshape(s_ytest, 1, 1)\n",
        "\n",
        "### Properties\n",
        "print(\"Shape of x_train: {}\".format(x_train.shape))\n",
        "print(\"Shape of x_test: {}\".format(x_test.shape))\n",
        "\n",
        "print(\"Shape of y_train: {}\".format(y_train.shape))\n",
        "print(\"Shape of y_test: {}\".format(y_test.shape))"
      ],
      "execution_count": 6,
      "outputs": [
        {
          "output_type": "stream",
          "text": [
            "Shape of x_train: (4000, 140, 1)\n",
            "Shape of x_test: (1000, 140, 1)\n",
            "Shape of y_train: (4000, 1, 1)\n",
            "Shape of y_test: (1000, 1, 1)\n"
          ],
          "name": "stdout"
        }
      ]
    },
    {
      "cell_type": "markdown",
      "metadata": {
        "id": "FeXLn2bUYa7g"
      },
      "source": [
        "# Create Sample Layer\r\n",
        "\r\n",
        "---\r\n",
        "\r\n"
      ]
    },
    {
      "cell_type": "code",
      "metadata": {
        "id": "BuO7o5GGYg3y"
      },
      "source": [
        "class Sampling(layers.Layer):\r\n",
        "    \"\"\"Uses (z_mean, z_log_var) to sample z\"\"\"\r\n",
        "\r\n",
        "    def call(self, inputs):\r\n",
        "        z_mean, z_log_var = inputs\r\n",
        "        batch = tf.shape(z_mean)[0]\r\n",
        "        dim = tf.shape(z_mean)[1]\r\n",
        "        epsilon = tf.keras.backend.random_normal(shape=(batch, dim))\r\n",
        "        return z_mean + tf.exp(0.5 * z_log_var) * epsilon"
      ],
      "execution_count": 7,
      "outputs": []
    },
    {
      "cell_type": "markdown",
      "metadata": {
        "id": "4F9x-KyKM4NJ"
      },
      "source": [
        "# Build Variational Autoencoder (VAE)\n",
        "\n",
        "---\n",
        "\n"
      ]
    },
    {
      "cell_type": "markdown",
      "metadata": {
        "id": "6hcpCe0zGwQl"
      },
      "source": [
        "## Encoder"
      ]
    },
    {
      "cell_type": "code",
      "metadata": {
        "id": "4194a4eCBSh5"
      },
      "source": [
        "def create_encoder(encoding_dim=140, intermediate_dim=140, latent_dim=5, activation='tanh', dropout_rate=0.2, regulazier_rate=0.004): # maybe delete encoding and latent dim, do something with input shape\r\n",
        "    \"\"\"Maps ECG5000 time series to a triplet (z_mean, z_log_var, z).\"\"\"\r\n",
        "\r\n",
        "    ### Define Layers\r\n",
        "    encoder_inputs = keras.Input(shape=(140, 1), name='Encoder_Input_layer')\r\n",
        "\r\n",
        "    encoded = Bidirectional(LSTM(intermediate_dim, activation=activation, name=''), name='Encode_1')(encoder_inputs)\r\n",
        "    encoded = Dropout(dropout_rate, name='Dropout_1')(encoded)\r\n",
        "    encoded = Dense(latent_dim, activation=activation, name='Encode_2', kernel_regularizer=l2(regulazier_rate), bias_regularizer=l2(regulazier_rate), activity_regularizer=l2(regulazier_rate))(encoded)\r\n",
        "\r\n",
        "    z_mean = Dense(latent_dim, activation=\"softplus\", name=\"z_mean\")(encoded)\r\n",
        "    #z_mean = BatchNormalization()(z_mean)  \r\n",
        "\r\n",
        "    z_log_var = Dense(latent_dim, activation=\"softplus\", name=\"z_log_var\")(encoded)\r\n",
        "    #z_log_var = BatchNormalization()(z_log_var)\r\n",
        "\r\n",
        "    z = Sampling(name='Sample_layer')([z_mean, z_log_var])\r\n",
        "\r\n",
        "    ### Instantiate encoder\r\n",
        "    encoder = keras.Model(encoder_inputs, [z_mean, z_log_var, z], name=\"encoder\")\r\n",
        "\r\n",
        "    return encoder"
      ],
      "execution_count": 8,
      "outputs": []
    },
    {
      "cell_type": "code",
      "metadata": {
        "id": "WCpMI6C0Diyv",
        "colab": {
          "base_uri": "https://localhost:8080/"
        },
        "outputId": "d20a290f-15bf-4ff0-b092-942c567d9eba"
      },
      "source": [
        "### Check if encoder works\r\n",
        "encoder = create_encoder() \r\n",
        "encoder.summary()"
      ],
      "execution_count": 9,
      "outputs": [
        {
          "output_type": "stream",
          "text": [
            "Model: \"encoder\"\n",
            "__________________________________________________________________________________________________\n",
            "Layer (type)                    Output Shape         Param #     Connected to                     \n",
            "==================================================================================================\n",
            "Encoder_Input_layer (InputLayer [(None, 140, 1)]     0                                            \n",
            "__________________________________________________________________________________________________\n",
            "Encode_1 (Bidirectional)        (None, 280)          159040      Encoder_Input_layer[0][0]        \n",
            "__________________________________________________________________________________________________\n",
            "Dropout_1 (Dropout)             (None, 280)          0           Encode_1[0][0]                   \n",
            "__________________________________________________________________________________________________\n",
            "Encode_2 (Dense)                (None, 5)            1405        Dropout_1[0][0]                  \n",
            "__________________________________________________________________________________________________\n",
            "z_mean (Dense)                  (None, 5)            30          Encode_2[0][0]                   \n",
            "__________________________________________________________________________________________________\n",
            "z_log_var (Dense)               (None, 5)            30          Encode_2[0][0]                   \n",
            "__________________________________________________________________________________________________\n",
            "Sample_layer (Sampling)         (None, 5)            0           z_mean[0][0]                     \n",
            "                                                                 z_log_var[0][0]                  \n",
            "==================================================================================================\n",
            "Total params: 160,505\n",
            "Trainable params: 160,505\n",
            "Non-trainable params: 0\n",
            "__________________________________________________________________________________________________\n"
          ],
          "name": "stdout"
        }
      ]
    },
    {
      "cell_type": "markdown",
      "metadata": {
        "id": "Z_PrqOCOG244"
      },
      "source": [
        "## Decoder"
      ]
    },
    {
      "cell_type": "code",
      "metadata": {
        "id": "sxnUeH7FBJVH"
      },
      "source": [
        "def create_decoder(encoding_dim=140, intermediate_dim=140, latent_dim=5, activation='tanh', dropout_rate=0.2, regulazier_rate=0.004): # maybe delete encoding and latent dim, do something with input shape\r\n",
        "    \"\"\"Converts z, the encoded time series, back into a readable time series.\"\"\"\r\n",
        "    \r\n",
        "    ### Define Layers\r\n",
        "    latent_inputs = keras.Input(shape=(latent_dim,), name='Decoder_Input_layer')\r\n",
        "\r\n",
        "    decoded = Dense(encoding_dim, activation=activation, name='Decode_1', kernel_regularizer=l2(regulazier_rate), bias_regularizer=l2(regulazier_rate), activity_regularizer=l2(regulazier_rate))(latent_inputs)\r\n",
        "    decoded = Reshape((140,1), name='Decode_2')(decoded)\r\n",
        "    decoded = Dropout(dropout_rate, name='Dropout_1')(decoded)\r\n",
        "    decoded = Bidirectional(LSTM(intermediate_dim, activation=activation, return_sequences=True, name=''), name='Decode_3')(decoded)\r\n",
        "\r\n",
        "    decoder_outputs = TimeDistributed(Dense(1, activation=activation, name=''),name='Decoder_Output_Layer')(decoded)\r\n",
        "\r\n",
        "    ### Instantiate decoder\r\n",
        "    decoder = keras.Model(latent_inputs, decoder_outputs, name=\"decoder\")\r\n",
        "\r\n",
        "    return decoder"
      ],
      "execution_count": 10,
      "outputs": []
    },
    {
      "cell_type": "code",
      "metadata": {
        "id": "tHOP8O9gFoR8",
        "colab": {
          "base_uri": "https://localhost:8080/"
        },
        "outputId": "90221539-4633-4c80-e878-e6b042465966"
      },
      "source": [
        "### Check if decoder works\r\n",
        "decoder = create_decoder()\r\n",
        "decoder.summary()"
      ],
      "execution_count": 11,
      "outputs": [
        {
          "output_type": "stream",
          "text": [
            "Model: \"decoder\"\n",
            "_________________________________________________________________\n",
            "Layer (type)                 Output Shape              Param #   \n",
            "=================================================================\n",
            "Decoder_Input_layer (InputLa [(None, 5)]               0         \n",
            "_________________________________________________________________\n",
            "Decode_1 (Dense)             (None, 140)               840       \n",
            "_________________________________________________________________\n",
            "Decode_2 (Reshape)           (None, 140, 1)            0         \n",
            "_________________________________________________________________\n",
            "Dropout_1 (Dropout)          (None, 140, 1)            0         \n",
            "_________________________________________________________________\n",
            "Decode_3 (Bidirectional)     (None, 140, 280)          159040    \n",
            "_________________________________________________________________\n",
            "Decoder_Output_Layer (TimeDi (None, 140, 1)            281       \n",
            "=================================================================\n",
            "Total params: 160,161\n",
            "Trainable params: 160,161\n",
            "Non-trainable params: 0\n",
            "_________________________________________________________________\n"
          ],
          "name": "stdout"
        }
      ]
    },
    {
      "cell_type": "markdown",
      "metadata": {
        "id": "RAKUqMR8oSm6"
      },
      "source": [
        "## VAE"
      ]
    },
    {
      "cell_type": "markdown",
      "metadata": {
        "id": "aNwUKMjdFM_L"
      },
      "source": [
        "Define VAE Model"
      ]
    },
    {
      "cell_type": "code",
      "metadata": {
        "id": "v9hxGlDYBBKV"
      },
      "source": [
        "# try the different definition here with the sum of reduce mean : https://keras.io/examples/generative/vae/\r\n",
        "\r\n",
        "class VAE(keras.Model):\r\n",
        "    \"\"\"Combines the encoder and decoder into an end-to-end model for training.\"\"\"\r\n",
        "\r\n",
        "    def __init__(self, encoder, decoder, **kwargs):\r\n",
        "        super(VAE, self).__init__(**kwargs)\r\n",
        "        self.encoder = encoder\r\n",
        "        self.decoder = decoder\r\n",
        "\r\n",
        "    def train_step(self, data):\r\n",
        "        # unpack the data\r\n",
        "        if isinstance(data, tuple):\r\n",
        "            data = data[0]\r\n",
        "        with tf.GradientTape() as tape:\r\n",
        "            # forward pass\r\n",
        "            z_mean, z_log_var, z = self.encoder(data)\r\n",
        "            reconstruction = self.decoder(z)\r\n",
        "            # Compute own loss\r\n",
        "            reconstruction_loss = tf.reduce_mean(\r\n",
        "                # keras.losses.binary_crossentropy(data, reconstruction)\r\n",
        "                keras.losses.mean_squared_error(data, reconstruction)\r\n",
        "            )\r\n",
        "            kl_loss = -0.5 * tf.reduce_mean(1 + z_log_var - tf.square(z_mean) - tf.exp(z_log_var))\r\n",
        "            total_loss = reconstruction_loss + kl_loss\r\n",
        "        # compute gradients\r\n",
        "        grads = tape.gradient(total_loss, self.trainable_weights)\r\n",
        "        # update weights\r\n",
        "        self.optimizer.apply_gradients(zip(grads, self.trainable_weights))\r\n",
        "        # compute own metrics\r\n",
        "        return {\r\n",
        "            \"loss\": total_loss,\r\n",
        "            \"reconstruction_loss\": reconstruction_loss,\r\n",
        "            \"kl_loss\": kl_loss,\r\n",
        "        }\r\n",
        "\r\n",
        "    def test_step(self, data):\r\n",
        "        # unpack the data\r\n",
        "        x, y = data\r\n",
        "        # compute predictions\r\n",
        "        y_pred = self(x, training=False)\r\n",
        "        # updates the metrics tracking the loss\r\n",
        "        self.compiled_loss(y, y_pred, regularization_losses=self.losses)\r\n",
        "        # update the metrics\r\n",
        "        self.compiled_metrics.update_state(y, y_pred)\r\n",
        "        # return a dict mapping metric names to current value\r\n",
        "        return {m.name: m.result() for m in self.metrics}\r\n",
        "\r\n",
        "    def call(self, data):\r\n",
        "        z_mean, z_log_var, z = self.encoder(data)\r\n",
        "        reconstructed = self.decoder(z)\r\n",
        "        return reconstructed"
      ],
      "execution_count": 12,
      "outputs": []
    },
    {
      "cell_type": "markdown",
      "metadata": {
        "id": "hWJVg5WPFQlb"
      },
      "source": [
        "Build VAE connecting Encoder and Decoder"
      ]
    },
    {
      "cell_type": "code",
      "metadata": {
        "id": "PfjVoHGu5eN_"
      },
      "source": [
        "### Definde function to create model\r\n",
        "def create_model(activation='tanh', intermediate_dim=140, dropout_rate=0.2, regulazier_rate=0.004, optimizer='adam', learn_rate=0.001, name='VAE'):\r\n",
        "    \"\"\"Creates VAE model, required for wrapping in estimator interface KerasRegressor, while accepting the hyperparameters we want to tune. We also pass some default values.\"\"\"\r\n",
        "    \r\n",
        "    # create encoder \r\n",
        "    encoder = create_encoder(activation=activation, intermediate_dim=intermediate_dim, dropout_rate=dropout_rate, regulazier_rate=regulazier_rate)\r\n",
        "    # create decoder \r\n",
        "    decoder = create_decoder(activation=activation, intermediate_dim=intermediate_dim, dropout_rate=dropout_rate, regulazier_rate=regulazier_rate)\r\n",
        "    # create vae\r\n",
        "    model = VAE(encoder, decoder, name=name)\r\n",
        "    # compile model\r\n",
        "    if optimizer == 'adam':\r\n",
        "      opt = Adam(lr=learn_rate)\r\n",
        "    else:\r\n",
        "      opt = SGD(lr=learn_rate)\r\n",
        "    model.compile(optimizer=opt)\r\n",
        "    model.build((None,140,1))\r\n",
        "    \r\n",
        "    return model"
      ],
      "execution_count": 13,
      "outputs": []
    },
    {
      "cell_type": "code",
      "metadata": {
        "id": "g-XPM-YdEiOt",
        "outputId": "06956de9-cdd0-4b8f-9dc8-7f8b62d0bf8a",
        "colab": {
          "base_uri": "https://localhost:8080/"
        }
      },
      "source": [
        "### Instantiate VAE model\r\n",
        "vae = create_model(name='VAE')\r\n",
        "\r\n",
        "### Display VAE model and it`s parts\r\n",
        "# encoder \r\n",
        "vae.encoder.summary(line_length=100)\r\n",
        "plot_model(vae.encoder, show_shapes=True, to_file='vae_encoder.png')\r\n",
        "print(\"\\n\")\r\n",
        "# decoder\r\n",
        "vae.decoder.summary(line_length=100)\r\n",
        "plot_model(vae.decoder, show_shapes=True, to_file='vae_decoder.png')\r\n",
        "print(\"\\n\")\r\n",
        "# vae\r\n",
        "vae.summary(line_length=100)"
      ],
      "execution_count": 14,
      "outputs": [
        {
          "output_type": "stream",
          "text": [
            "Model: \"encoder\"\n",
            "____________________________________________________________________________________________________\n",
            "Layer (type)                     Output Shape          Param #     Connected to                     \n",
            "====================================================================================================\n",
            "Encoder_Input_layer (InputLayer) [(None, 140, 1)]      0                                            \n",
            "____________________________________________________________________________________________________\n",
            "Encode_1 (Bidirectional)         (None, 280)           159040      Encoder_Input_layer[0][0]        \n",
            "____________________________________________________________________________________________________\n",
            "Dropout_1 (Dropout)              (None, 280)           0           Encode_1[0][0]                   \n",
            "____________________________________________________________________________________________________\n",
            "Encode_2 (Dense)                 (None, 5)             1405        Dropout_1[0][0]                  \n",
            "____________________________________________________________________________________________________\n",
            "z_mean (Dense)                   (None, 5)             30          Encode_2[0][0]                   \n",
            "____________________________________________________________________________________________________\n",
            "z_log_var (Dense)                (None, 5)             30          Encode_2[0][0]                   \n",
            "____________________________________________________________________________________________________\n",
            "Sample_layer (Sampling)          (None, 5)             0           z_mean[0][0]                     \n",
            "                                                                   z_log_var[0][0]                  \n",
            "====================================================================================================\n",
            "Total params: 160,505\n",
            "Trainable params: 160,505\n",
            "Non-trainable params: 0\n",
            "____________________________________________________________________________________________________\n",
            "\n",
            "\n",
            "Model: \"decoder\"\n",
            "____________________________________________________________________________________________________\n",
            "Layer (type)                                 Output Shape                            Param #        \n",
            "====================================================================================================\n",
            "Decoder_Input_layer (InputLayer)             [(None, 5)]                             0              \n",
            "____________________________________________________________________________________________________\n",
            "Decode_1 (Dense)                             (None, 140)                             840            \n",
            "____________________________________________________________________________________________________\n",
            "Decode_2 (Reshape)                           (None, 140, 1)                          0              \n",
            "____________________________________________________________________________________________________\n",
            "Dropout_1 (Dropout)                          (None, 140, 1)                          0              \n",
            "____________________________________________________________________________________________________\n",
            "Decode_3 (Bidirectional)                     (None, 140, 280)                        159040         \n",
            "____________________________________________________________________________________________________\n",
            "Decoder_Output_Layer (TimeDistributed)       (None, 140, 1)                          281            \n",
            "====================================================================================================\n",
            "Total params: 160,161\n",
            "Trainable params: 160,161\n",
            "Non-trainable params: 0\n",
            "____________________________________________________________________________________________________\n",
            "\n",
            "\n",
            "Model: \"VAE\"\n",
            "____________________________________________________________________________________________________\n",
            "Layer (type)                                 Output Shape                            Param #        \n",
            "====================================================================================================\n",
            "encoder (Functional)                         [(None, 5), (None, 5), (None, 5)]       160505         \n",
            "____________________________________________________________________________________________________\n",
            "decoder (Functional)                         (None, 140, 1)                          160161         \n",
            "====================================================================================================\n",
            "Total params: 320,666\n",
            "Trainable params: 320,666\n",
            "Non-trainable params: 0\n",
            "____________________________________________________________________________________________________\n"
          ],
          "name": "stdout"
        }
      ]
    },
    {
      "cell_type": "markdown",
      "metadata": {
        "id": "T7OlCIRCOUF-"
      },
      "source": [
        "# Train VAE\r\n",
        "\r\n",
        "---\r\n",
        "\r\n"
      ]
    },
    {
      "cell_type": "code",
      "metadata": {
        "id": "cf2gXbw290r5"
      },
      "source": [
        "### Train Properties\r\n",
        "epochs = 100 #20, 100\r\n",
        "batch_size = 32 #16, 32"
      ],
      "execution_count": 15,
      "outputs": []
    },
    {
      "cell_type": "markdown",
      "metadata": {
        "id": "MfnzjwIxlShE"
      },
      "source": [
        "## Train"
      ]
    },
    {
      "cell_type": "code",
      "metadata": {
        "id": "BTkdJdc_N5SN",
        "outputId": "b5db1c48-a9a6-41db-c82f-dd3656033616",
        "colab": {
          "base_uri": "https://localhost:8080/"
        }
      },
      "source": [
        "### To improve training see here: https://becominghuman.ai/using-variational-autoencoder-vae-to-generate-new-images-14328877e88d\r\n",
        "### Train\r\n",
        "train_history = vae.fit(x_train, x_train, epochs=epochs, batch_size=batch_size, validation_data=(x_test, x_test))"
      ],
      "execution_count": 16,
      "outputs": [
        {
          "output_type": "stream",
          "text": [
            "Epoch 1/100\n",
            "125/125 [==============================] - 16s 43ms/step - loss: 0.1704 - reconstruction_loss: 0.0343 - kl_loss: 0.1360 - val_loss: 0.1453\n",
            "Epoch 2/100\n",
            "125/125 [==============================] - 4s 32ms/step - loss: 0.0818 - reconstruction_loss: 0.0273 - kl_loss: 0.0545 - val_loss: 0.1452\n",
            "Epoch 3/100\n",
            "125/125 [==============================] - 4s 32ms/step - loss: 0.0509 - reconstruction_loss: 0.0254 - kl_loss: 0.0255 - val_loss: 0.1435\n",
            "Epoch 4/100\n",
            "125/125 [==============================] - 4s 31ms/step - loss: 0.0390 - reconstruction_loss: 0.0246 - kl_loss: 0.0145 - val_loss: 0.1416\n",
            "Epoch 5/100\n",
            "125/125 [==============================] - 4s 31ms/step - loss: 0.0337 - reconstruction_loss: 0.0240 - kl_loss: 0.0096 - val_loss: 0.1427\n",
            "Epoch 6/100\n",
            "125/125 [==============================] - 4s 31ms/step - loss: 0.0305 - reconstruction_loss: 0.0235 - kl_loss: 0.0070 - val_loss: 0.1426\n",
            "Epoch 7/100\n",
            "125/125 [==============================] - 4s 31ms/step - loss: 0.0287 - reconstruction_loss: 0.0233 - kl_loss: 0.0053 - val_loss: 0.1419\n",
            "Epoch 8/100\n",
            "125/125 [==============================] - 4s 32ms/step - loss: 0.0274 - reconstruction_loss: 0.0232 - kl_loss: 0.0042 - val_loss: 0.1434\n",
            "Epoch 9/100\n",
            "125/125 [==============================] - 4s 31ms/step - loss: 0.0266 - reconstruction_loss: 0.0232 - kl_loss: 0.0034 - val_loss: 0.1423\n",
            "Epoch 10/100\n",
            "125/125 [==============================] - 4s 31ms/step - loss: 0.0258 - reconstruction_loss: 0.0230 - kl_loss: 0.0028 - val_loss: 0.1427\n",
            "Epoch 11/100\n",
            "125/125 [==============================] - 4s 31ms/step - loss: 0.0253 - reconstruction_loss: 0.0230 - kl_loss: 0.0024 - val_loss: 0.1433\n",
            "Epoch 12/100\n",
            "125/125 [==============================] - 4s 32ms/step - loss: 0.0249 - reconstruction_loss: 0.0229 - kl_loss: 0.0020 - val_loss: 0.1441\n",
            "Epoch 13/100\n",
            "125/125 [==============================] - 4s 32ms/step - loss: 0.0244 - reconstruction_loss: 0.0226 - kl_loss: 0.0017 - val_loss: 0.1442\n",
            "Epoch 14/100\n",
            "125/125 [==============================] - 4s 31ms/step - loss: 0.0241 - reconstruction_loss: 0.0226 - kl_loss: 0.0015 - val_loss: 0.1453\n",
            "Epoch 15/100\n",
            "125/125 [==============================] - 4s 31ms/step - loss: 0.0238 - reconstruction_loss: 0.0225 - kl_loss: 0.0013 - val_loss: 0.1451\n",
            "Epoch 16/100\n",
            "125/125 [==============================] - 4s 31ms/step - loss: 0.0236 - reconstruction_loss: 0.0224 - kl_loss: 0.0012 - val_loss: 0.1459\n",
            "Epoch 17/100\n",
            "125/125 [==============================] - 4s 31ms/step - loss: 0.0234 - reconstruction_loss: 0.0223 - kl_loss: 0.0010 - val_loss: 0.1462\n",
            "Epoch 18/100\n",
            "125/125 [==============================] - 4s 31ms/step - loss: 0.0232 - reconstruction_loss: 0.0223 - kl_loss: 9.2368e-04 - val_loss: 0.1464\n",
            "Epoch 19/100\n",
            "125/125 [==============================] - 4s 31ms/step - loss: 0.0231 - reconstruction_loss: 0.0222 - kl_loss: 8.2767e-04 - val_loss: 0.1465\n",
            "Epoch 20/100\n",
            "125/125 [==============================] - 4s 31ms/step - loss: 0.0229 - reconstruction_loss: 0.0221 - kl_loss: 7.4460e-04 - val_loss: 0.1468\n",
            "Epoch 21/100\n",
            "125/125 [==============================] - 4s 29ms/step - loss: 0.0227 - reconstruction_loss: 0.0221 - kl_loss: 6.7230e-04 - val_loss: 0.1468\n",
            "Epoch 22/100\n",
            "125/125 [==============================] - 4s 32ms/step - loss: 0.0226 - reconstruction_loss: 0.0220 - kl_loss: 6.0898e-04 - val_loss: 0.1471\n",
            "Epoch 23/100\n",
            "125/125 [==============================] - 4s 31ms/step - loss: 0.0226 - reconstruction_loss: 0.0220 - kl_loss: 5.5321e-04 - val_loss: 0.1470\n",
            "Epoch 24/100\n",
            "125/125 [==============================] - 4s 31ms/step - loss: 0.0225 - reconstruction_loss: 0.0220 - kl_loss: 5.0386e-04 - val_loss: 0.1475\n",
            "Epoch 25/100\n",
            "125/125 [==============================] - 4s 31ms/step - loss: 0.0224 - reconstruction_loss: 0.0220 - kl_loss: 4.6000e-04 - val_loss: 0.1481\n",
            "Epoch 26/100\n",
            "125/125 [==============================] - 4s 31ms/step - loss: 0.0224 - reconstruction_loss: 0.0220 - kl_loss: 4.2085e-04 - val_loss: 0.1485\n",
            "Epoch 27/100\n",
            "125/125 [==============================] - 4s 31ms/step - loss: 0.0223 - reconstruction_loss: 0.0219 - kl_loss: 3.8580e-04 - val_loss: 0.1490\n",
            "Epoch 28/100\n",
            "125/125 [==============================] - 4s 31ms/step - loss: 0.0223 - reconstruction_loss: 0.0219 - kl_loss: 3.5428e-04 - val_loss: 0.1494\n",
            "Epoch 29/100\n",
            "125/125 [==============================] - 4s 31ms/step - loss: 0.0222 - reconstruction_loss: 0.0219 - kl_loss: 3.2588e-04 - val_loss: 0.1499\n",
            "Epoch 30/100\n",
            "125/125 [==============================] - 4s 31ms/step - loss: 0.0222 - reconstruction_loss: 0.0219 - kl_loss: 3.0018e-04 - val_loss: 0.1499\n",
            "Epoch 31/100\n",
            "125/125 [==============================] - 4s 31ms/step - loss: 0.0222 - reconstruction_loss: 0.0219 - kl_loss: 2.7690e-04 - val_loss: 0.1507\n",
            "Epoch 32/100\n",
            "125/125 [==============================] - 4s 31ms/step - loss: 0.0222 - reconstruction_loss: 0.0219 - kl_loss: 2.5574e-04 - val_loss: 0.1512\n",
            "Epoch 33/100\n",
            "125/125 [==============================] - 4s 31ms/step - loss: 0.0221 - reconstruction_loss: 0.0219 - kl_loss: 2.1889e-04 - val_loss: 0.1522\n",
            "Epoch 35/100\n",
            "125/125 [==============================] - 4s 31ms/step - loss: 0.0221 - reconstruction_loss: 0.0219 - kl_loss: 2.0281e-04 - val_loss: 0.1527\n",
            "Epoch 36/100\n",
            "125/125 [==============================] - 4s 31ms/step - loss: 0.0220 - reconstruction_loss: 0.0218 - kl_loss: 1.8808e-04 - val_loss: 0.1534\n",
            "Epoch 37/100\n",
            "125/125 [==============================] - 4s 31ms/step - loss: 0.0220 - reconstruction_loss: 0.0218 - kl_loss: 1.7458e-04 - val_loss: 0.1534\n",
            "Epoch 38/100\n",
            "125/125 [==============================] - 4s 31ms/step - loss: 0.0220 - reconstruction_loss: 0.0218 - kl_loss: 1.6217e-04 - val_loss: 0.1545\n",
            "Epoch 39/100\n",
            "125/125 [==============================] - 4s 31ms/step - loss: 0.0220 - reconstruction_loss: 0.0218 - kl_loss: 1.5076e-04 - val_loss: 0.1547\n",
            "Epoch 40/100\n",
            "125/125 [==============================] - 4s 32ms/step - loss: 0.0221 - reconstruction_loss: 0.0219 - kl_loss: 1.4024e-04 - val_loss: 0.1549\n",
            "Epoch 41/100\n",
            "125/125 [==============================] - 4s 32ms/step - loss: 0.0220 - reconstruction_loss: 0.0218 - kl_loss: 1.3053e-04 - val_loss: 0.1557\n",
            "Epoch 42/100\n",
            "125/125 [==============================] - 4s 31ms/step - loss: 0.0219 - reconstruction_loss: 0.0218 - kl_loss: 1.2158e-04 - val_loss: 0.1566\n",
            "Epoch 43/100\n",
            "125/125 [==============================] - 4s 29ms/step - loss: 0.0219 - reconstruction_loss: 0.0218 - kl_loss: 1.1329e-04 - val_loss: 0.1566\n",
            "Epoch 44/100\n",
            "125/125 [==============================] - 4s 30ms/step - loss: 0.0220 - reconstruction_loss: 0.0219 - kl_loss: 1.0562e-04 - val_loss: 0.1572\n",
            "Epoch 45/100\n",
            "125/125 [==============================] - 4s 32ms/step - loss: 0.0219 - reconstruction_loss: 0.0218 - kl_loss: 9.8525e-05 - val_loss: 0.1576\n",
            "Epoch 46/100\n",
            "125/125 [==============================] - 4s 31ms/step - loss: 0.0219 - reconstruction_loss: 0.0219 - kl_loss: 9.1944e-05 - val_loss: 0.1587\n",
            "Epoch 47/100\n",
            "125/125 [==============================] - 4s 31ms/step - loss: 0.0219 - reconstruction_loss: 0.0218 - kl_loss: 8.5839e-05 - val_loss: 0.1594\n",
            "Epoch 48/100\n",
            "125/125 [==============================] - 4s 31ms/step - loss: 0.0219 - reconstruction_loss: 0.0219 - kl_loss: 8.0171e-05 - val_loss: 0.1596\n",
            "Epoch 49/100\n",
            "125/125 [==============================] - 4s 31ms/step - loss: 0.0219 - reconstruction_loss: 0.0218 - kl_loss: 7.4903e-05 - val_loss: 0.1606\n",
            "Epoch 50/100\n",
            "125/125 [==============================] - 4s 31ms/step - loss: 0.0219 - reconstruction_loss: 0.0218 - kl_loss: 7.0010e-05 - val_loss: 0.1607\n",
            "Epoch 51/100\n",
            "125/125 [==============================] - 4s 31ms/step - loss: 0.0219 - reconstruction_loss: 0.0218 - kl_loss: 6.5454e-05 - val_loss: 0.1616\n",
            "Epoch 52/100\n",
            "125/125 [==============================] - 4s 32ms/step - loss: 0.0218 - reconstruction_loss: 0.0218 - kl_loss: 6.1210e-05 - val_loss: 0.1620\n",
            "Epoch 53/100\n",
            "125/125 [==============================] - 4s 31ms/step - loss: 0.0218 - reconstruction_loss: 0.0218 - kl_loss: 5.7257e-05 - val_loss: 0.1624\n",
            "Epoch 54/100\n",
            "125/125 [==============================] - 4s 31ms/step - loss: 0.0218 - reconstruction_loss: 0.0218 - kl_loss: 5.3570e-05 - val_loss: 0.1633\n",
            "Epoch 55/100\n",
            "125/125 [==============================] - 4s 31ms/step - loss: 0.0219 - reconstruction_loss: 0.0218 - kl_loss: 5.0138e-05 - val_loss: 0.1638\n",
            "Epoch 56/100\n",
            "125/125 [==============================] - 4s 31ms/step - loss: 0.0219 - reconstruction_loss: 0.0218 - kl_loss: 4.6932e-05 - val_loss: 0.1647\n",
            "Epoch 57/100\n",
            "125/125 [==============================] - 4s 31ms/step - loss: 0.0218 - reconstruction_loss: 0.0218 - kl_loss: 4.3943e-05 - val_loss: 0.1653\n",
            "Epoch 58/100\n",
            "125/125 [==============================] - 4s 32ms/step - loss: 0.0218 - reconstruction_loss: 0.0218 - kl_loss: 4.1149e-05 - val_loss: 0.1660\n",
            "Epoch 59/100\n",
            "125/125 [==============================] - 4s 31ms/step - loss: 0.0218 - reconstruction_loss: 0.0217 - kl_loss: 3.8545e-05 - val_loss: 0.1665\n",
            "Epoch 60/100\n",
            "125/125 [==============================] - 4s 31ms/step - loss: 0.0218 - reconstruction_loss: 0.0217 - kl_loss: 3.6108e-05 - val_loss: 0.1678\n",
            "Epoch 61/100\n",
            "125/125 [==============================] - 4s 31ms/step - loss: 0.0218 - reconstruction_loss: 0.0218 - kl_loss: 3.3833e-05 - val_loss: 0.1681\n",
            "Epoch 62/100\n",
            "125/125 [==============================] - 4s 32ms/step - loss: 0.0218 - reconstruction_loss: 0.0218 - kl_loss: 3.1703e-05 - val_loss: 0.1688\n",
            "Epoch 63/100\n",
            "125/125 [==============================] - 4s 31ms/step - loss: 0.0218 - reconstruction_loss: 0.0218 - kl_loss: 2.9712e-05 - val_loss: 0.1691\n",
            "Epoch 64/100\n",
            "125/125 [==============================] - 4s 32ms/step - loss: 0.0218 - reconstruction_loss: 0.0218 - kl_loss: 2.7855e-05 - val_loss: 0.1702\n",
            "Epoch 65/100\n",
            "125/125 [==============================] - 4s 30ms/step - loss: 0.0218 - reconstruction_loss: 0.0218 - kl_loss: 2.6115e-05 - val_loss: 0.1709\n",
            "Epoch 66/100\n",
            "125/125 [==============================] - 4s 30ms/step - loss: 0.0218 - reconstruction_loss: 0.0218 - kl_loss: 2.4485e-05 - val_loss: 0.1714\n",
            "Epoch 67/100\n",
            "125/125 [==============================] - 4s 32ms/step - loss: 0.0218 - reconstruction_loss: 0.0218 - kl_loss: 2.2957e-05 - val_loss: 0.1721\n",
            "Epoch 68/100\n",
            "125/125 [==============================] - 4s 32ms/step - loss: 0.0218 - reconstruction_loss: 0.0218 - kl_loss: 2.1531e-05 - val_loss: 0.1730\n",
            "Epoch 69/100\n",
            "125/125 [==============================] - 4s 31ms/step - loss: 0.0218 - reconstruction_loss: 0.0218 - kl_loss: 2.0196e-05 - val_loss: 0.1731\n",
            "Epoch 70/100\n",
            "125/125 [==============================] - 4s 31ms/step - loss: 0.0218 - reconstruction_loss: 0.0218 - kl_loss: 1.8946e-05 - val_loss: 0.1739\n",
            "Epoch 71/100\n",
            "125/125 [==============================] - 4s 31ms/step - loss: 0.0218 - reconstruction_loss: 0.0218 - kl_loss: 1.7772e-05 - val_loss: 0.1744\n",
            "Epoch 72/100\n",
            "125/125 [==============================] - 4s 31ms/step - loss: 0.0218 - reconstruction_loss: 0.0218 - kl_loss: 1.6672e-05 - val_loss: 0.1754\n",
            "Epoch 73/100\n",
            "125/125 [==============================] - 4s 31ms/step - loss: 0.0218 - reconstruction_loss: 0.0218 - kl_loss: 1.5646e-05 - val_loss: 0.1758\n",
            "Epoch 74/100\n",
            "125/125 [==============================] - 4s 31ms/step - loss: 0.0218 - reconstruction_loss: 0.0218 - kl_loss: 1.4684e-05 - val_loss: 0.1769\n",
            "Epoch 75/100\n",
            "125/125 [==============================] - 4s 31ms/step - loss: 0.0218 - reconstruction_loss: 0.0218 - kl_loss: 1.3779e-05 - val_loss: 0.1773\n",
            "Epoch 76/100\n",
            "125/125 [==============================] - 4s 31ms/step - loss: 0.0218 - reconstruction_loss: 0.0218 - kl_loss: 1.2930e-05 - val_loss: 0.1782\n",
            "Epoch 77/100\n",
            "125/125 [==============================] - 4s 31ms/step - loss: 0.0218 - reconstruction_loss: 0.0217 - kl_loss: 1.2139e-05 - val_loss: 0.1788\n",
            "Epoch 78/100\n",
            "125/125 [==============================] - 4s 32ms/step - loss: 0.0218 - reconstruction_loss: 0.0218 - kl_loss: 1.1391e-05 - val_loss: 0.1793\n",
            "Epoch 79/100\n",
            "125/125 [==============================] - 4s 31ms/step - loss: 0.0218 - reconstruction_loss: 0.0218 - kl_loss: 1.0693e-05 - val_loss: 0.1802\n",
            "Epoch 80/100\n",
            "125/125 [==============================] - 4s 31ms/step - loss: 0.0218 - reconstruction_loss: 0.0218 - kl_loss: 1.0038e-05 - val_loss: 0.1806\n",
            "Epoch 81/100\n",
            "125/125 [==============================] - 4s 31ms/step - loss: 0.0218 - reconstruction_loss: 0.0218 - kl_loss: 9.4257e-06 - val_loss: 0.1812\n",
            "Epoch 82/100\n",
            "125/125 [==============================] - 4s 31ms/step - loss: 0.0218 - reconstruction_loss: 0.0218 - kl_loss: 8.8464e-06 - val_loss: 0.1817\n",
            "Epoch 83/100\n",
            "125/125 [==============================] - 4s 31ms/step - loss: 0.0218 - reconstruction_loss: 0.0218 - kl_loss: 8.3085e-06 - val_loss: 0.1827\n",
            "Epoch 84/100\n",
            "125/125 [==============================] - 4s 31ms/step - loss: 0.0218 - reconstruction_loss: 0.0218 - kl_loss: 7.8004e-06 - val_loss: 0.1830\n",
            "Epoch 85/100\n",
            "125/125 [==============================] - 4s 32ms/step - loss: 0.0218 - reconstruction_loss: 0.0217 - kl_loss: 7.3223e-06 - val_loss: 0.1842\n",
            "Epoch 86/100\n",
            "125/125 [==============================] - 4s 31ms/step - loss: 0.0218 - reconstruction_loss: 0.0218 - kl_loss: 6.8787e-06 - val_loss: 0.1847\n",
            "Epoch 87/100\n",
            "125/125 [==============================] - 4s 30ms/step - loss: 0.0218 - reconstruction_loss: 0.0217 - kl_loss: 6.4570e-06 - val_loss: 0.1853\n",
            "Epoch 88/100\n",
            "125/125 [==============================] - 4s 30ms/step - loss: 0.0217 - reconstruction_loss: 0.0217 - kl_loss: 6.0632e-06 - val_loss: 0.1859\n",
            "Epoch 89/100\n",
            "125/125 [==============================] - 4s 32ms/step - loss: 0.0217 - reconstruction_loss: 0.0217 - kl_loss: 5.6939e-06 - val_loss: 0.1868\n",
            "Epoch 90/100\n",
            "125/125 [==============================] - 4s 32ms/step - loss: 0.0217 - reconstruction_loss: 0.0217 - kl_loss: 5.3446e-06 - val_loss: 0.1876\n",
            "Epoch 91/100\n",
            "125/125 [==============================] - 4s 31ms/step - loss: 0.0218 - reconstruction_loss: 0.0218 - kl_loss: 5.0204e-06 - val_loss: 0.1878\n",
            "Epoch 92/100\n",
            "125/125 [==============================] - 4s 31ms/step - loss: 0.0218 - reconstruction_loss: 0.0218 - kl_loss: 4.7191e-06 - val_loss: 0.1887\n",
            "Epoch 93/100\n",
            "125/125 [==============================] - 4s 32ms/step - loss: 0.0217 - reconstruction_loss: 0.0217 - kl_loss: 4.4299e-06 - val_loss: 0.1893\n",
            "Epoch 94/100\n",
            "125/125 [==============================] - 4s 32ms/step - loss: 0.0217 - reconstruction_loss: 0.0217 - kl_loss: 4.1590e-06 - val_loss: 0.1904\n",
            "Epoch 95/100\n",
            "125/125 [==============================] - 4s 32ms/step - loss: 0.0218 - reconstruction_loss: 0.0218 - kl_loss: 3.9096e-06 - val_loss: 0.1907\n",
            "Epoch 96/100\n",
            "125/125 [==============================] - 4s 31ms/step - loss: 0.0218 - reconstruction_loss: 0.0218 - kl_loss: 3.6699e-06 - val_loss: 0.1912\n",
            "Epoch 97/100\n",
            "125/125 [==============================] - 4s 31ms/step - loss: 0.0217 - reconstruction_loss: 0.0217 - kl_loss: 3.4523e-06 - val_loss: 0.1920\n",
            "Epoch 98/100\n",
            "125/125 [==============================] - 4s 31ms/step - loss: 0.0218 - reconstruction_loss: 0.0217 - kl_loss: 3.2346e-06 - val_loss: 0.1928\n",
            "Epoch 99/100\n",
            "125/125 [==============================] - 4s 32ms/step - loss: 0.0218 - reconstruction_loss: 0.0218 - kl_loss: 3.0440e-06 - val_loss: 0.1927\n",
            "Epoch 100/100\n",
            "125/125 [==============================] - 4s 32ms/step - loss: 0.0217 - reconstruction_loss: 0.0217 - kl_loss: 2.8569e-06 - val_loss: 0.1940\n"
          ],
          "name": "stdout"
        }
      ]
    },
    {
      "cell_type": "code",
      "metadata": {
        "id": "gHZuTNLVjUeh",
        "outputId": "a260d7ed-dd6a-420c-b6f3-f6f2c134fba6",
        "colab": {
          "base_uri": "https://localhost:8080/"
        }
      },
      "source": [
        "print(\"----- loss: -----\\n{}\".format(train_history.history[\"loss\"]))\r\n",
        "print(\"----- reconstruction_loss: -----\\n{}\".format(train_history.history[\"reconstruction_loss\"]))\r\n",
        "print(\"----- kl_loss: -----\\n{}\".format(train_history.history[\"kl_loss\"]))\r\n",
        "print(\"----- val_loss: -----\\n{}\".format(train_history.history[\"val_loss\"]))"
      ],
      "execution_count": 17,
      "outputs": [
        {
          "output_type": "stream",
          "text": [
            "----- loss: -----\n",
            "[0.10592614114284515, 0.06018204987049103, 0.03730413317680359, 0.03253166005015373, 0.029120564460754395, 0.02696746587753296, 0.024450134485960007, 0.026954371482133865, 0.031670328229665756, 0.024149542674422264, 0.025176193565130234, 0.028489965945482254, 0.01841646246612072, 0.02159334532916546, 0.026383372023701668, 0.02472781576216221, 0.02528809942305088, 0.028213011100888252, 0.026254506781697273, 0.019685596227645874, 0.018704505637288094, 0.017382804304361343, 0.019260169938206673, 0.018735365942120552, 0.020368274301290512, 0.02589389681816101, 0.019273437559604645, 0.018771423026919365, 0.021320471540093422, 0.0242750383913517, 0.018583856523036957, 0.019652843475341797, 0.01849730685353279, 0.021964725106954575, 0.026889557018876076, 0.017528722062706947, 0.018142739310860634, 0.020482540130615234, 0.018582003191113472, 0.030666174367070198, 0.01838369481265545, 0.018267802894115448, 0.022047605365514755, 0.02911987155675888, 0.01891716755926609, 0.02483551949262619, 0.0194263756275177, 0.02626551128923893, 0.0199472326785326, 0.02108338102698326, 0.024558816105127335, 0.021035870537161827, 0.01884264498949051, 0.01885981671512127, 0.023693537339568138, 0.02394236996769905, 0.017309516668319702, 0.01647399365901947, 0.01644621230661869, 0.016148440539836884, 0.01939518377184868, 0.020646966993808746, 0.021613966673612595, 0.017088916152715683, 0.019788525998592377, 0.020559852942824364, 0.019374698400497437, 0.020583907142281532, 0.023607904091477394, 0.01943928375840187, 0.023006167262792587, 0.01897324249148369, 0.027735598385334015, 0.0226113423705101, 0.02077600359916687, 0.0248245932161808, 0.02042691968381405, 0.018982816487550735, 0.022136082872748375, 0.02255665697157383, 0.021639395505189896, 0.02204468846321106, 0.021582942456007004, 0.03041261062026024, 0.019252672791481018, 0.01960461214184761, 0.019846318289637566, 0.021161014214158058, 0.01864953339099884, 0.018557358533143997, 0.02185887284576893, 0.01958310417830944, 0.017556870356202126, 0.018739495426416397, 0.02733474411070347, 0.023423414677381516, 0.01595919393002987, 0.021821267902851105, 0.023348215967416763, 0.02152980864048004]\n",
            "----- reconstruction_loss: -----\n",
            "[0.025746937841176987, 0.02449932135641575, 0.018956927582621574, 0.020982833579182625, 0.021026981994509697, 0.020931033417582512, 0.019756270572543144, 0.02319285087287426, 0.028586316853761673, 0.021575164049863815, 0.022996021434664726, 0.02662145346403122, 0.01679908111691475, 0.020181387662887573, 0.025141794234514236, 0.02362917736172676, 0.024310534819960594, 0.027338968589901924, 0.02546965703368187, 0.01897823065519333, 0.01806473545730114, 0.01680239848792553, 0.018732216209173203, 0.018253929913043976, 0.01992827281355858, 0.02549094520509243, 0.018903709948062897, 0.018431605771183968, 0.021007666364312172, 0.0239866990596056, 0.018317697569727898, 0.019406866282224655, 0.01826976053416729, 0.021753963083028793, 0.02669420838356018, 0.01734747551381588, 0.01797444559633732, 0.020326148718595505, 0.018436560407280922, 0.03053082339465618, 0.01825770176947117, 0.018150418996810913, 0.02193821780383587, 0.029017839580774307, 0.01882197894155979, 0.024746648967266083, 0.019343405961990356, 0.026187989860773087, 0.019874801859259605, 0.021015672013163567, 0.02449551597237587, 0.020976636558771133, 0.018787233158946037, 0.01880798488855362, 0.023645007982850075, 0.023896973580121994, 0.01726699434220791, 0.016434142366051674, 0.016408899798989296, 0.01611347682774067, 0.019362425431609154, 0.020616259425878525, 0.02158517763018608, 0.017061952501535416, 0.019763218238949776, 0.020536141470074654, 0.019352460280060768, 0.020563021302223206, 0.02358834259212017, 0.01942094974219799, 0.02298896573483944, 0.018957113847136497, 0.027720417827367783, 0.02259710803627968, 0.020762652158737183, 0.02481205202639103, 0.0204151663929224, 0.018971800804138184, 0.022125747054815292, 0.022546930238604546, 0.02163025178015232, 0.02203614078462124, 0.021574895828962326, 0.03040505200624466, 0.019245570525527, 0.019597971811890602, 0.019840026274323463, 0.02115514874458313, 0.018644025549292564, 0.018552184104919434, 0.021854015067219734, 0.019578538835048676, 0.017552567645907402, 0.018735459074378014, 0.02733096107840538, 0.023419886827468872, 0.0159558467566967, 0.021818120032548904, 0.02334527112543583, 0.021527031436562538]\n",
            "----- kl_loss: -----\n",
            "[0.08017919957637787, 0.03568273037672043, 0.018347207456827164, 0.011548825539648533, 0.008093582466244698, 0.006036432459950447, 0.004693862982094288, 0.0037615206092596054, 0.0030840099789202213, 0.0025743793230503798, 0.0021801721304655075, 0.0018685124814510345, 0.0016173820476979017, 0.00141195731703192, 0.0012415781384333968, 0.0010986377019435167, 0.0009775642538443208, 0.0008740421617403626, 0.0007848500972613692, 0.0007073655724525452, 0.0006397709366865456, 0.0005804061656817794, 0.0005279537290334702, 0.0004814367857761681, 0.0004400014877319336, 0.0004029512347187847, 0.00036972761154174805, 0.0003398180124349892, 0.00031280517578125, 0.00028834008844569325, 0.0002661593316588551, 0.00024597643641754985, 0.00022754669771529734, 0.00021076202392578125, 0.00019534825696609914, 0.00018124580674339086, 0.00016829371452331543, 0.00015639066987205297, 0.0001454420416848734, 0.00013535023026634008, 0.00012599230103660375, 0.00011738426837837324, 0.00010938681953120977, 0.00010203197598457336, 9.518898878013715e-05, 8.887052536010742e-05, 8.296966552734375e-05, 7.752068631816655e-05, 7.243156142067164e-05, 6.770901381969452e-05, 6.330013275146484e-05, 5.9233978390693665e-05, 5.5412201618310064e-05, 5.1832197641488165e-05, 4.853010250371881e-05, 4.539713336271234e-05, 4.252307189744897e-05, 3.985054718214087e-05, 3.731250762939453e-05, 3.496408317005262e-05, 3.2758711313363165e-05, 3.070831371587701e-05, 2.8789043426513672e-05, 2.6964396965922788e-05, 2.530813253542874e-05, 2.3711099856882356e-05, 2.2238493329496123e-05, 2.0885467165498994e-05, 1.9562245142878965e-05, 1.8334389096708037e-05, 1.7201900845975615e-05, 1.6129017240018584e-05, 1.51805579662323e-05, 1.4233589354262222e-05, 1.33514404296875e-05, 1.2541934665932786e-05, 1.1754035767808091e-05, 1.1014938536391128e-05, 1.0335445040254854e-05, 9.72747784544481e-06, 9.143352144747041e-06, 8.547305696993135e-06, 8.046627044677734e-06, 7.557869139418472e-06, 7.101893515937263e-06, 6.639957518927986e-06, 6.292387752182549e-06, 5.865097136847908e-06, 5.507469268195564e-06, 5.173683348402847e-06, 4.857778549194336e-06, 4.565715698845452e-06, 4.303455170884263e-06, 4.035979600303108e-06, 3.7830322980880737e-06, 3.52859501617786e-06, 3.3471733331680298e-06, 3.14712519866589e-06, 2.944469542853767e-06, 2.777576355583733e-06]\n",
            "----- val_loss: -----\n",
            "[0.1453445702791214, 0.1452150046825409, 0.14351671934127808, 0.1415925770998001, 0.1427038311958313, 0.14260755479335785, 0.1418907195329666, 0.143413707613945, 0.14229410886764526, 0.14269228279590607, 0.14329609274864197, 0.14409330487251282, 0.14421454071998596, 0.14530636370182037, 0.14512135088443756, 0.1458674669265747, 0.1461939960718155, 0.14641529321670532, 0.14654265344142914, 0.14679940044879913, 0.14681263267993927, 0.14713452756404877, 0.14701631665229797, 0.14747735857963562, 0.1480942666530609, 0.148450568318367, 0.1489715427160263, 0.14940302073955536, 0.1499161273241043, 0.14989407360553741, 0.1506928652524948, 0.15116076171398163, 0.15186914801597595, 0.15223072469234467, 0.15269938111305237, 0.1533810794353485, 0.15344128012657166, 0.1544521301984787, 0.15474380552768707, 0.15494389832019806, 0.15570321679115295, 0.15658116340637207, 0.1565716564655304, 0.15715168416500092, 0.15764029324054718, 0.15871460735797882, 0.15936313569545746, 0.15964531898498535, 0.1605733036994934, 0.160692036151886, 0.1615634560585022, 0.16202758252620697, 0.16244453191757202, 0.16327990591526031, 0.16384056210517883, 0.16468894481658936, 0.16530676186084747, 0.16599765419960022, 0.16646882891654968, 0.16783525049686432, 0.1681312471628189, 0.16883665323257446, 0.16907110810279846, 0.17019787430763245, 0.17090623080730438, 0.17143447697162628, 0.17206402122974396, 0.17298412322998047, 0.17311590909957886, 0.1739269644021988, 0.17444834113121033, 0.1754346489906311, 0.1758057326078415, 0.17689645290374756, 0.17729780077934265, 0.17815321683883667, 0.17881347239017487, 0.1793384999036789, 0.18015342950820923, 0.18062171339988708, 0.1812102049589157, 0.1816612035036087, 0.1826714128255844, 0.18298599123954773, 0.18417859077453613, 0.18469862639904022, 0.1852997988462448, 0.18591979146003723, 0.1867992877960205, 0.18755416572093964, 0.18778876960277557, 0.1887485384941101, 0.1893017292022705, 0.19038482010364532, 0.19069617986679077, 0.19119174778461456, 0.19201505184173584, 0.1927909553050995, 0.19266442954540253, 0.1939912736415863]\n"
          ],
          "name": "stdout"
        }
      ]
    },
    {
      "cell_type": "markdown",
      "metadata": {
        "id": "ljaYW8HuuHZk"
      },
      "source": [
        "## Recreate Latent Space"
      ]
    },
    {
      "cell_type": "code",
      "metadata": {
        "id": "WYLbwD53cn84",
        "colab": {
          "base_uri": "https://localhost:8080/"
        },
        "outputId": "5e1f3c7f-103d-4edf-c5e2-3c1e919e498a"
      },
      "source": [
        "# Encoder output is a list [z_mean, z_log_var, z] thus list[2] = z, see subsection encoder line 12\r\n",
        "\r\n",
        "### Extract myu i.e. z_mean\r\n",
        "z_mean = vae.encoder.predict(x_test)[0]\r\n",
        "print(\"----- z_mean: -----\")\r\n",
        "print(z_mean)\r\n",
        "print(\"\\n\")\r\n",
        "\r\n",
        "### Extract sigma i.e. z_log_var\r\n",
        "z_log_var = vae.encoder.predict(x_test)[1]\r\n",
        "print(\"----- z_log_var: -----\")\r\n",
        "print(z_log_var)\r\n",
        "print(\"\\n\")\r\n",
        "\r\n",
        "### Extract z_values and predict x_test\r\n",
        "z_values = vae.encoder.predict(x_test)[2]\r\n",
        "decoded_ecg5000 = vae.decoder.predict(z_values)\r\n",
        "# z_values contains list of each z_value per sample, i.e. we get 1000 SubLists with 5 elements in each.\r\n",
        "# Those 5 elements (z_values for Sample i) is our bottleneck which the decoder recieves.\r\n",
        "print(\"----- z_values: -----\")\r\n",
        "print(z_values)\r\n",
        "print(\"\\n\")\r\n",
        "\r\n",
        "### Save extracted values\r\n",
        "np.savetxt('z_values.csv', z_values, delimiter=\",\")\r\n",
        "np.savetxt('decoded_ecg5000.csv', decoded_ecg5000.reshape(-1,140), delimiter=\",\")\r\n",
        "\r\n",
        "### Properties\r\n",
        "print(\"Shape of z_mean: {}\".format(z_mean.shape))\r\n",
        "print(\"Shape of z_log_var: {}\".format(z_log_var.shape))\r\n",
        "print(\"Shape of z_values: {}\".format(z_values.shape))\r\n",
        "print(\"Shape of decoded_ecg5000: {}\".format(decoded_ecg5000.shape))"
      ],
      "execution_count": 18,
      "outputs": [
        {
          "output_type": "stream",
          "text": [
            "----- z_mean: -----\n",
            "[[0.00107814 0.00101891 0.00086776 0.00216278 0.00190716]\n",
            " [0.00107814 0.00101891 0.00086776 0.00216278 0.00190716]\n",
            " [0.00107814 0.00101891 0.00086776 0.00216278 0.00190716]\n",
            " ...\n",
            " [0.00107814 0.00101891 0.00086776 0.00216278 0.00190716]\n",
            " [0.00107814 0.00101891 0.00086776 0.00216278 0.00190716]\n",
            " [0.00107814 0.0010189  0.00086776 0.00216278 0.00190716]]\n",
            "\n",
            "\n",
            "----- z_log_var: -----\n",
            "[[0.00450153 0.0021041  0.00071987 0.0018716  0.00200273]\n",
            " [0.00450153 0.0021041  0.00071987 0.0018716  0.00200273]\n",
            " [0.00450153 0.0021041  0.00071987 0.0018716  0.00200273]\n",
            " ...\n",
            " [0.00450153 0.0021041  0.00071987 0.0018716  0.00200273]\n",
            " [0.00450153 0.0021041  0.00071987 0.0018716  0.00200273]\n",
            " [0.00450153 0.0021041  0.00071987 0.0018716  0.00200273]]\n",
            "\n",
            "\n",
            "----- z_values: -----\n",
            "[[ 1.2651813   0.9199586  -0.5835896   0.8820322  -0.32623878]\n",
            " [ 0.42530933 -0.05556531  1.414794    0.9014376  -1.8905079 ]\n",
            " [ 0.77948475 -0.5346078   1.2579161  -0.39907244 -0.6367437 ]\n",
            " ...\n",
            " [-1.434063   -0.6728494  -0.43812206  1.1009682  -1.1816041 ]\n",
            " [ 0.15645868 -0.20738049  0.39622962  0.89796525 -0.17533892]\n",
            " [ 0.30923662 -0.62096536  0.40722233  0.49976745 -0.5890819 ]]\n",
            "\n",
            "\n",
            "Shape of z_mean: (1000, 5)\n",
            "Shape of z_log_var: (1000, 5)\n",
            "Shape of z_values: (1000, 5)\n",
            "Shape of decoded_ecg5000: (1000, 140, 1)\n"
          ],
          "name": "stdout"
        }
      ]
    },
    {
      "cell_type": "markdown",
      "metadata": {
        "id": "LNfzqeVE2N7J"
      },
      "source": [
        "## Display the training progress"
      ]
    },
    {
      "cell_type": "code",
      "metadata": {
        "id": "53ufa2OwJIVe",
        "outputId": "8a9846a9-cc4f-4179-ef5a-a0be0eb1afd3",
        "colab": {
          "base_uri": "https://localhost:8080/",
          "height": 410
        }
      },
      "source": [
        "### Loss vs Reconstruction_loss vs KL Divergence\r\n",
        "plt.figure(figsize=(16,6))\r\n",
        "plt.plot(train_history.history['loss'])\r\n",
        "plt.plot(train_history.history['reconstruction_loss'])\r\n",
        "plt.plot(train_history.history['kl_loss'])\r\n",
        "plt.legend([\"Loss\", \"Reconstruction Loss\", \"KL Divergence\"])\r\n",
        "plt.xlabel(\"Epoch\")\r\n",
        "plt.title(\"Loss vs. Reconstruction Loss vs. KL Divergence\")\r\n",
        "\r\n",
        "plt.savefig('loss.png')"
      ],
      "execution_count": 19,
      "outputs": [
        {
          "output_type": "display_data",
          "data": {
            "image/png": "[encoded data removed]",
            "text/plain": [
              "<Figure size 1152x432 with 1 Axes>"
            ]
          },
          "metadata": {
            "tags": [],
            "needs_background": "light"
          }
        }
      ]
    },
    {
      "cell_type": "code",
      "metadata": {
        "id": "tcIrsjRDYOiI",
        "outputId": "95c45334-f6f1-457a-dec1-162ae6434d72",
        "colab": {
          "base_uri": "https://localhost:8080/",
          "height": 409
        }
      },
      "source": [
        "### Train loss vs val loss\r\n",
        "# Returns the loss value & metrics values for the model in test mode\r\n",
        "plt.figure(figsize=(16,6))\r\n",
        "plt.plot(train_history.history['loss'])\r\n",
        "plt.plot(train_history.history['val_loss'])\r\n",
        "plt.legend([\"Loss\", \"Validation Loss\"])\r\n",
        "plt.xlabel(\"Epoch\")\r\n",
        "plt.title(\"Loss vs. Validation Loss\")\r\n",
        "\r\n",
        "plt.savefig('valLoss.png')"
      ],
      "execution_count": 20,
      "outputs": [
        {
          "output_type": "display_data",
          "data": {
            "image/png": "[encoded data removed]",
            "text/plain": [
              "<Figure size 1152x432 with 1 Axes>"
            ]
          },
          "metadata": {
            "tags": [],
            "needs_background": "light"
          }
        }
      ]
    },
    {
      "cell_type": "code",
      "metadata": {
        "id": "hSBgUNCkM05C"
      },
      "source": [
        "#########################################################To-Do\r\n",
        "### Latent space\r\n",
        "# x,y Plot\r\n",
        "plt.figure(figsize=(12,5), linewidth=1)\r\n",
        "plt.plot(z_values[:,0], 'o')\r\n",
        "plt.plot(z_values[:,1], '+')\r\n",
        "plt.show()\r\n",
        "# Scatterplot\r\n",
        "plt.figure(figsize=(9,6))\r\n",
        "plt.scatter(z_values[:,0], z_values[:,1], s=80, c=y_test, cmap='viridis') # or cmap=hsv\r\n",
        "plt.colorbar()\r\n",
        "plt.grid()\r\n",
        "plt.show()"
      ],
      "execution_count": null,
      "outputs": []
    },
    {
      "cell_type": "markdown",
      "metadata": {
        "id": "UJ8dyTK6kNNQ"
      },
      "source": [
        "# Plot Data Results\n",
        "\n",
        "---\n",
        "\n"
      ]
    },
    {
      "cell_type": "code",
      "metadata": {
        "id": "DIfVmINR3lji",
        "outputId": "5e5c766c-931a-47f5-bfe7-618f61bc3fb2",
        "colab": {
          "base_uri": "https://localhost:8080/"
        }
      },
      "source": [
        "### Test if Input fits Dim of Output\n",
        "print(\"Shape of x_train: {}\".format(x_train.shape))\n",
        "print(\"Shape of decoded_ecg5000: {}\".format(decoded_ecg5000.shape))\n",
        "\n",
        "### Covert to 2D Array -- (\"-1\" = make a dimension (here rows) the size that will use the remaining unspecified elements)\n",
        "new_x_train= x_train.reshape(-1,140)\n",
        "new_decoded_ecg5000 = decoded_ecg5000.reshape(-1,140)\n",
        "\n",
        "print(\"Shape of Input after reshaping: {}\".format(new_x_train.shape))\n",
        "print(\"Shape of Output after reshaping: {}\".format(new_decoded_ecg5000.shape))"
      ],
      "execution_count": 26,
      "outputs": [
        {
          "output_type": "stream",
          "text": [
            "Shape of x_train: (4000, 140, 1)\n",
            "Shape of decoded_ecg5000: (1000, 140, 1)\n",
            "Shape of Input after reshaping: (4000, 140)\n",
            "Shape of Output after reshaping: (1000, 140)\n"
          ],
          "name": "stdout"
        }
      ]
    },
    {
      "cell_type": "code",
      "metadata": {
        "id": "YG129YUrHGyU"
      },
      "source": [
        "# ### Plot for figure for paper\r\n",
        "# i = 934 # indize/sample which is going to be plotted\r\n",
        "# plt.figure(linewidth = 1, figsize=(25,6))\r\n",
        "# plt.xlabel('time steps')\r\n",
        "# plt.plot(new_x_train[i])\r\n",
        "# plt.show()\r\n",
        "# plt.savefig('diagramm_original.jpg')\r\n",
        "\r\n",
        "# plt.figure(linewidth = 1, figsize=(25,6))\r\n",
        "# plt.xlabel('time steps')\r\n",
        "# plt.plot(new_decoded_ecg5000[i], label='decoded ecg5000')\r\n",
        "# plt.show()\r\n",
        "# plt.savefig('diagramm_decoded.jpg')"
      ],
      "execution_count": 23,
      "outputs": []
    },
    {
      "cell_type": "code",
      "metadata": {
        "id": "vGvzjGwcJi1B",
        "outputId": "8165ed6c-1b7d-480d-ae3b-afb48da8d877",
        "colab": {
          "base_uri": "https://localhost:8080/",
          "height": 551
        }
      },
      "source": [
        "### Plot only one sample\r\n",
        "i = 934 # indize/sample which is going to be plotted\r\n",
        "plt.figure(linewidth = 1, figsize=(20,6))\r\n",
        "plt.title('Autoencoder Result')\r\n",
        "plt.xlabel('time steps')\r\n",
        "plt.plot(new_x_train[i], label='original ecg5000')\r\n",
        "plt.plot(new_decoded_ecg5000[i], label='decoded ecg5000')\r\n",
        "plt.legend(loc=\"upper left\")\r\n",
        "plt.show()"
      ],
      "execution_count": 25,
      "outputs": [
        {
          "output_type": "error",
          "ename": "NameError",
          "evalue": "ignored",
          "traceback": [
            "\u001b[0;31m---------------------------------------------------------------------------\u001b[0m",
            "\u001b[0;31mNameError\u001b[0m                                 Traceback (most recent call last)",
            "\u001b[0;32m<ipython-input-25-757cf28f8c40>\u001b[0m in \u001b[0;36m<module>\u001b[0;34m()\u001b[0m\n\u001b[1;32m      4\u001b[0m \u001b[0mplt\u001b[0m\u001b[0;34m.\u001b[0m\u001b[0mtitle\u001b[0m\u001b[0;34m(\u001b[0m\u001b[0;34m'Autoencoder Result'\u001b[0m\u001b[0;34m)\u001b[0m\u001b[0;34m\u001b[0m\u001b[0;34m\u001b[0m\u001b[0m\n\u001b[1;32m      5\u001b[0m \u001b[0mplt\u001b[0m\u001b[0;34m.\u001b[0m\u001b[0mxlabel\u001b[0m\u001b[0;34m(\u001b[0m\u001b[0;34m'time steps'\u001b[0m\u001b[0;34m)\u001b[0m\u001b[0;34m\u001b[0m\u001b[0;34m\u001b[0m\u001b[0m\n\u001b[0;32m----> 6\u001b[0;31m \u001b[0mplt\u001b[0m\u001b[0;34m.\u001b[0m\u001b[0mplot\u001b[0m\u001b[0;34m(\u001b[0m\u001b[0mnew_x_train\u001b[0m\u001b[0;34m[\u001b[0m\u001b[0mi\u001b[0m\u001b[0;34m]\u001b[0m\u001b[0;34m,\u001b[0m \u001b[0mlabel\u001b[0m\u001b[0;34m=\u001b[0m\u001b[0;34m'original ecg5000'\u001b[0m\u001b[0;34m)\u001b[0m\u001b[0;34m\u001b[0m\u001b[0;34m\u001b[0m\u001b[0m\n\u001b[0m\u001b[1;32m      7\u001b[0m \u001b[0mplt\u001b[0m\u001b[0;34m.\u001b[0m\u001b[0mplot\u001b[0m\u001b[0;34m(\u001b[0m\u001b[0mnew_decoded_ecg5000\u001b[0m\u001b[0;34m[\u001b[0m\u001b[0mi\u001b[0m\u001b[0;34m]\u001b[0m\u001b[0;34m,\u001b[0m \u001b[0mlabel\u001b[0m\u001b[0;34m=\u001b[0m\u001b[0;34m'decoded ecg5000'\u001b[0m\u001b[0;34m)\u001b[0m\u001b[0;34m\u001b[0m\u001b[0;34m\u001b[0m\u001b[0m\n\u001b[1;32m      8\u001b[0m \u001b[0mplt\u001b[0m\u001b[0;34m.\u001b[0m\u001b[0mlegend\u001b[0m\u001b[0;34m(\u001b[0m\u001b[0mloc\u001b[0m\u001b[0;34m=\u001b[0m\u001b[0;34m\"upper left\"\u001b[0m\u001b[0;34m)\u001b[0m\u001b[0;34m\u001b[0m\u001b[0;34m\u001b[0m\u001b[0m\n",
            "\u001b[0;31mNameError\u001b[0m: name 'new_x_train' is not defined"
          ]
        },
        {
          "output_type": "display_data",
          "data": {
            "image/png": "[encoded data removed]",
            "text/plain": [
              "<Figure size 1440x432 with 1 Axes>"
            ]
          },
          "metadata": {
            "tags": [],
            "needs_background": "light"
          }
        }
      ]
    },
    {
      "cell_type": "code",
      "metadata": {
        "id": "AwjUjaCtkSpW"
      },
      "source": [
        "### Plot Multiple Samples\n",
        "n_rows = 2                   \n",
        "n_cols = 4\n",
        "\n",
        "# Size Properties and layout design for tighter representation\n",
        "fig, axs = plt.subplots(nrows = n_rows, ncols = n_cols, figsize=(20,7))\n",
        "fig.tight_layout(w_pad=4, h_pad = 5)\n",
        "\n",
        "# Subplotting\n",
        "i = 50\n",
        "for row in range(n_rows):\n",
        "  for col in range(n_cols):\n",
        "    axs[row, col].plot(new_x_train[i])\n",
        "    axs[row, col].plot(new_decoded_ecg5000[i])\n",
        "    axs[row, col].legend([\"Original ECG5000 Sample {}\".format(i), \"Decoded ECG5000 Sample {}\".format(i)])\n",
        "    axs[row, col].set(xlabel = \"Time Steps\", ylabel = \"Heartbeat Interpolated\", title = \"Sample {}\".format(i))\n",
        "    i = i + 75\n",
        "\n",
        "plt.savefig('dataComparison.png')"
      ],
      "execution_count": null,
      "outputs": []
    },
    {
      "cell_type": "markdown",
      "metadata": {
        "id": "unWrNuYBc71O"
      },
      "source": [
        "# Optimization\r\n",
        "\r\n",
        "---"
      ]
    },
    {
      "cell_type": "markdown",
      "metadata": {
        "id": "XX8k4aeUCx3k"
      },
      "source": [
        "## Hyperparameter (Sckit_GridSearchCV)"
      ]
    },
    {
      "cell_type": "code",
      "metadata": {
        "id": "ywVsad-OqE7a"
      },
      "source": [
        "from sklearn.model_selection import RandomizedSearchCV\r\n",
        "from keras.wrappers.scikit_learn import KerasRegressor\r\n",
        "from sklearn.metrics import mean_squared_error, make_scorer"
      ],
      "execution_count": null,
      "outputs": []
    },
    {
      "cell_type": "code",
      "metadata": {
        "id": "x3NsIDD4dWHN"
      },
      "source": [
        "### Define scorer\r\n",
        "def score_mse(y_true, y_pred): # , **kwargs\r\n",
        "    \"\"\"Implementing mean squarred error as a score for RandomizedSearchCV.\"\"\"\r\n",
        "\r\n",
        "    y_pred = tf.convert_to_tensor(y_pred)\r\n",
        "    y_true = tf.cast(y_true, y_pred.dtype)\r\n",
        "    # removing all size 1 dimensions in y_true\r\n",
        "    y_true = tf.squeeze(y_true)\r\n",
        "    return np.mean(tf.math.squared_difference(y_pred, y_true))\r\n",
        "\r\n",
        "### Define Function to randomizedSearch \r\n",
        "def randomizedSearch_pipeline(x_train_data, x_test_data, model, space, n_iter=10, scoring_fit='neg_mean_squared_error', cv=5, do_probabilities = False):\r\n",
        "    \"\"\"Pipeline for RandomizedSearchCV: Select settings and run randomizedSearchCV, returning results.\"\"\"\r\n",
        "    # define randomizedSearch\r\n",
        "    rs = RandomizedSearchCV(\r\n",
        "        estimator=model,\r\n",
        "        param_distributions=space, \r\n",
        "        n_iter=n_iter,\r\n",
        "        scoring=scoring_fit,\r\n",
        "        n_jobs=1, \r\n",
        "        cv=cv, \r\n",
        "        verbose=2, \r\n",
        "        random_state=1,\r\n",
        "    )\r\n",
        "    # fit model\r\n",
        "    fitted_model = rs.fit(x_train_data, x_train_data, verbose=0)\r\n",
        "    # get results\r\n",
        "    rs_result = pd.DataFrame(rs.cv_results_)\r\n",
        "    # save compromised version of the results\r\n",
        "    min_rs_results = pd.concat([pd.DataFrame(rs.cv_results_[\"mean_test_score\"], columns=[\"Score\"]),\r\n",
        "                                pd.DataFrame(rs.cv_results_[\"params\"])], axis=1)\r\n",
        "    min_rs_results.to_latex('randomizedSearchResults.tex')\r\n",
        "    \r\n",
        "    if do_probabilities:\r\n",
        "      pred = fitted_model.predict_proba(x_test_data)\r\n",
        "    else:\r\n",
        "      pred = fitted_model.predict(x_test_data)\r\n",
        "    \r\n",
        "    return fitted_model, pred, rs_result"
      ],
      "execution_count": null,
      "outputs": []
    },
    {
      "cell_type": "code",
      "metadata": {
        "id": "tL_QfMgwCxfi"
      },
      "source": [
        "### Define evaluated params and it's value range\r\n",
        "space = {\r\n",
        "        'epochs' :              [20, 50],\r\n",
        "        'batch_size' :          [16, 32],\r\n",
        "        #'activation' :          ['tanh', 'relu'],\r\n",
        "        'dropout_rate' :        [0.2, 0.3],\r\n",
        "        'regulazier_rate' :     [0.001,0.004],\r\n",
        "        'optimizer' :           ['Adam', 'SGD'],\r\n",
        "        'learn_rate' :          [0.001, 0.01],\r\n",
        "        }\r\n",
        "\r\n",
        "### Wrap keras custom VAE model with the KerasClassifier thus it implements estimator interface\r\n",
        "model = KerasRegressor(build_fn=create_model)\r\n",
        "\r\n",
        "### Run RandomizedSearch\r\n",
        "#m=make_scorer(mean_squared, greater_is_better=False)\r\n",
        "fitted_model, pred, rs_result = randomizedSearch_pipeline(x_train, x_test, model, space, n_iter=10, scoring_fit=make_scorer(score_mse, greater_is_better=False))"
      ],
      "execution_count": null,
      "outputs": []
    },
    {
      "cell_type": "code",
      "metadata": {
        "id": "FjSWb0ldkIay"
      },
      "source": [
        "### Summarize results\r\n",
        "print(\"----- Results RandomizedSearchCV: -----\\n\" + \"Best: {} using {}\\n\".format(fitted_model.best_score_, fitted_model.best_params_))\r\n",
        "# pd.set_option(\"display.max_rows\", None, \"display.max_columns\", None)\r\n",
        "# pd.reset_option('all')\r\n",
        "print(\"Summary:\\n {}\".format(rs_result))"
      ],
      "execution_count": null,
      "outputs": []
    },
    {
      "cell_type": "markdown",
      "metadata": {
        "id": "VfBqVOpmdGJl"
      },
      "source": [
        "## Dropout"
      ]
    },
    {
      "cell_type": "code",
      "metadata": {
        "id": "mZDGEMffcg0O"
      },
      "source": [
        "###Dropout_rate\r\n",
        "\r\n",
        "# configure the experiment\r\n",
        "def experiment_dropout():\r\n",
        "  # configure the experiment\r\n",
        "  n_dropout = [0.0, 0.2, 0.4, 0.6, 0.8]\r\n",
        "  # run the experiment\r\n",
        "  results = []\r\n",
        "  for drop_value in n_dropout:\r\n",
        "      # set dropout\r\n",
        "      drop_out_rate = drop_value\r\n",
        "      print(\"----- Dropout Rate: {} -----\".format(drop_out_rate))\r\n",
        "      # evaluate\r\n",
        "      # rather shorten code with defining a train function of code above and using it here\r\n",
        "      vae = VAE(encoder, decoder, name=\"VAE\")\r\n",
        "      vae.compile(optimizer='adam', loss='mean_squared_error')\r\n",
        "      history = vae.fit(x_train, y_train, epochs=epochs, batch_size=batch_size, validation_data=(x_test, y_test), verbose=0)\r\n",
        "      # report performance\r\n",
        "      # rathr make a dataframe or something different which is simpler to plot\r\n",
        "      evaluation = []\r\n",
        "      evaluation.append(vae.evaluate(x_test, y_test))\r\n",
        "      evaluation.append(drop_value)\r\n",
        "\r\n",
        "      res = []\r\n",
        "      res.append(history.history[\"val_loss\"])\r\n",
        "      print(\"val_loss = {}\".format(res))\r\n",
        "      results.append(evaluation)\r\n",
        "  return results"
      ],
      "execution_count": null,
      "outputs": []
    },
    {
      "cell_type": "code",
      "metadata": {
        "id": "wfM-TqopGGUu"
      },
      "source": [
        "results = experiment_dropout()\r\n",
        "# summarize results\r\n",
        "print(results)"
      ],
      "execution_count": null,
      "outputs": []
    }
  ]
}